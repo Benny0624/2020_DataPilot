{
 "cells": [
  {
   "cell_type": "markdown",
   "metadata": {},
   "source": [
    "## Import"
   ]
  },
  {
   "cell_type": "code",
   "execution_count": 1,
   "metadata": {},
   "outputs": [],
   "source": [
    "# Import package\n",
    "import pandas as pd\n",
    "import numpy as np\n",
    "import matplotlib.pyplot as plt\n",
    "import os"
   ]
  },
  {
   "cell_type": "code",
   "execution_count": 2,
   "metadata": {},
   "outputs": [
    {
     "name": "stdout",
     "output_type": "stream",
     "text": [
      "C:\\Users\\i9400230\\Python_ZT\\2020_DataPilot\n"
     ]
    }
   ],
   "source": [
    "# print current working directory\n",
    "print(os.getcwd())"
   ]
  },
  {
   "cell_type": "code",
   "execution_count": 22,
   "metadata": {},
   "outputs": [
    {
     "data": {
      "text/html": [
       "<div>\n",
       "<style scoped>\n",
       "    .dataframe tbody tr th:only-of-type {\n",
       "        vertical-align: middle;\n",
       "    }\n",
       "\n",
       "    .dataframe tbody tr th {\n",
       "        vertical-align: top;\n",
       "    }\n",
       "\n",
       "    .dataframe thead th {\n",
       "        text-align: right;\n",
       "    }\n",
       "</style>\n",
       "<table border=\"1\" class=\"dataframe\">\n",
       "  <thead>\n",
       "    <tr style=\"text-align: right;\">\n",
       "      <th></th>\n",
       "      <th>member_id</th>\n",
       "      <th>postal_cd</th>\n",
       "      <th>date_cd</th>\n",
       "      <th>prod_id</th>\n",
       "      <th>goods</th>\n",
       "      <th>department</th>\n",
       "      <th>index</th>\n",
       "      <th>prod_Q</th>\n",
       "      <th>price</th>\n",
       "      <th>MSRP</th>\n",
       "    </tr>\n",
       "  </thead>\n",
       "  <tbody>\n",
       "    <tr>\n",
       "      <th>0</th>\n",
       "      <td>15416142</td>\n",
       "      <td>831</td>\n",
       "      <td>day1</td>\n",
       "      <td>QAAD70-A9006TWM5-000</td>\n",
       "      <td>HP Officejet 7110 A3+ 網路高速印表機</td>\n",
       "      <td>3C</td>\n",
       "      <td>列 印</td>\n",
       "      <td>1</td>\n",
       "      <td>6490</td>\n",
       "      <td>NaN</td>\n",
       "    </tr>\n",
       "    <tr>\n",
       "      <th>1</th>\n",
       "      <td>4663689</td>\n",
       "      <td>600</td>\n",
       "      <td>day1</td>\n",
       "      <td>QFAXAS-A900A38S1-001</td>\n",
       "      <td>【HappyLife】桌上型微波爐架/烤箱置物架  (YV9799)</td>\n",
       "      <td>生活</td>\n",
       "      <td>衛浴</td>\n",
       "      <td>1</td>\n",
       "      <td>599</td>\n",
       "      <td>NaN</td>\n",
       "    </tr>\n",
       "    <tr>\n",
       "      <th>2</th>\n",
       "      <td>8097088</td>\n",
       "      <td>815</td>\n",
       "      <td>day1</td>\n",
       "      <td>QFAAJY-A9009W99R-000</td>\n",
       "      <td>【dayneeds】輕型 45x45x160cm 四層電鍍波浪收納鐵架</td>\n",
       "      <td>生活</td>\n",
       "      <td>傢俱</td>\n",
       "      <td>1</td>\n",
       "      <td>927</td>\n",
       "      <td>1359.0</td>\n",
       "    </tr>\n",
       "    <tr>\n",
       "      <th>3</th>\n",
       "      <td>15317712</td>\n",
       "      <td>708</td>\n",
       "      <td>day1</td>\n",
       "      <td>QAAS33-A900A7SR4-002</td>\n",
       "      <td>任天堂 Switch Joy-Con 四合一鋁合金 手把充電座(兩色可選)</td>\n",
       "      <td>3C</td>\n",
       "      <td>電 玩</td>\n",
       "      <td>1</td>\n",
       "      <td>690</td>\n",
       "      <td>990.0</td>\n",
       "    </tr>\n",
       "    <tr>\n",
       "      <th>4</th>\n",
       "      <td>15438512</td>\n",
       "      <td>704</td>\n",
       "      <td>day1</td>\n",
       "      <td>CGAACT-A80423382-005</td>\n",
       "      <td>車用攝影鏡頭</td>\n",
       "      <td>運動戶外</td>\n",
       "      <td>汽百/記錄器</td>\n",
       "      <td>1</td>\n",
       "      <td>1055</td>\n",
       "      <td>1600.0</td>\n",
       "    </tr>\n",
       "  </tbody>\n",
       "</table>\n",
       "</div>"
      ],
      "text/plain": [
       "   member_id  postal_cd date_cd               prod_id  \\\n",
       "0   15416142        831    day1  QAAD70-A9006TWM5-000   \n",
       "1    4663689        600    day1  QFAXAS-A900A38S1-001   \n",
       "2    8097088        815    day1  QFAAJY-A9009W99R-000   \n",
       "3   15317712        708    day1  QAAS33-A900A7SR4-002   \n",
       "4   15438512        704    day1  CGAACT-A80423382-005   \n",
       "\n",
       "                                   goods department   index  prod_Q  price  \\\n",
       "0          HP Officejet 7110 A3+ 網路高速印表機         3C     列 印       1   6490   \n",
       "1     【HappyLife】桌上型微波爐架/烤箱置物架  (YV9799)         生活      衛浴       1    599   \n",
       "2    【dayneeds】輕型 45x45x160cm 四層電鍍波浪收納鐵架         生活      傢俱       1    927   \n",
       "3  任天堂 Switch Joy-Con 四合一鋁合金 手把充電座(兩色可選)         3C     電 玩       1    690   \n",
       "4                                 車用攝影鏡頭       運動戶外  汽百/記錄器       1   1055   \n",
       "\n",
       "     MSRP  \n",
       "0     NaN  \n",
       "1     NaN  \n",
       "2  1359.0  \n",
       "3   990.0  \n",
       "4  1600.0  "
      ]
     },
     "execution_count": 22,
     "metadata": {},
     "output_type": "execute_result"
    }
   ],
   "source": [
    "#Import data\n",
    "Full_PChome = pd.read_excel('2020datapilot_PChome.xlsx')\n",
    "# Rename columns\n",
    "Full_PChome = Full_PChome.rename(columns={\"消費者編號(member_id) \" : \"member_id\", \"郵遞區號(postal_cd)\" : \"postal_cd\",\\\n",
    "                                        \"訂單日期(date_cd)\" : \"date_cd\",\"商品編號(prod_id)\" : \"prod_id\",\\\n",
    "                                        \"商品名稱(goods)\" : \"goods\",\"商品類別(department)\" : \"department\",\\\n",
    "                                        \"商品專區(index)\" : \"index\",\"商品數量(prod_Q)\" : \"prod_Q\",\\\n",
    "                                        \"商品單價(price)\" : \"price\",\"建議售價(MSRP)\" : \"MSRP\"})\n",
    "Full_PChome.head()"
   ]
  },
  {
   "cell_type": "code",
   "execution_count": 23,
   "metadata": {},
   "outputs": [
    {
     "name": "stdout",
     "output_type": "stream",
     "text": [
      "<class 'pandas.core.frame.DataFrame'>\n",
      "RangeIndex: 60000 entries, 0 to 59999\n",
      "Data columns (total 10 columns):\n",
      " #   Column      Non-Null Count  Dtype  \n",
      "---  ------      --------------  -----  \n",
      " 0   member_id   60000 non-null  int64  \n",
      " 1   postal_cd   60000 non-null  int64  \n",
      " 2   date_cd     60000 non-null  object \n",
      " 3   prod_id     60000 non-null  object \n",
      " 4   goods       59998 non-null  object \n",
      " 5   department  60000 non-null  object \n",
      " 6   index       60000 non-null  object \n",
      " 7   prod_Q      60000 non-null  int64  \n",
      " 8   price       60000 non-null  int64  \n",
      " 9   MSRP        46436 non-null  float64\n",
      "dtypes: float64(1), int64(4), object(5)\n",
      "memory usage: 4.6+ MB\n"
     ]
    }
   ],
   "source": [
    "# Full_PChome info\n",
    "Full_PChome.info()"
   ]
  },
  {
   "cell_type": "code",
   "execution_count": 24,
   "metadata": {},
   "outputs": [
    {
     "data": {
      "text/html": [
       "<div>\n",
       "<style scoped>\n",
       "    .dataframe tbody tr th:only-of-type {\n",
       "        vertical-align: middle;\n",
       "    }\n",
       "\n",
       "    .dataframe tbody tr th {\n",
       "        vertical-align: top;\n",
       "    }\n",
       "\n",
       "    .dataframe thead th {\n",
       "        text-align: right;\n",
       "    }\n",
       "</style>\n",
       "<table border=\"1\" class=\"dataframe\">\n",
       "  <thead>\n",
       "    <tr style=\"text-align: right;\">\n",
       "      <th></th>\n",
       "      <th>prod_Q</th>\n",
       "      <th>price</th>\n",
       "      <th>MSRP</th>\n",
       "    </tr>\n",
       "  </thead>\n",
       "  <tbody>\n",
       "    <tr>\n",
       "      <th>count</th>\n",
       "      <td>60000.000000</td>\n",
       "      <td>6.000000e+04</td>\n",
       "      <td>46436.000000</td>\n",
       "    </tr>\n",
       "    <tr>\n",
       "      <th>mean</th>\n",
       "      <td>1.197983</td>\n",
       "      <td>3.507670e+03</td>\n",
       "      <td>4636.487682</td>\n",
       "    </tr>\n",
       "    <tr>\n",
       "      <th>std</th>\n",
       "      <td>1.056474</td>\n",
       "      <td>1.736666e+04</td>\n",
       "      <td>10952.023026</td>\n",
       "    </tr>\n",
       "    <tr>\n",
       "      <th>min</th>\n",
       "      <td>1.000000</td>\n",
       "      <td>0.000000e+00</td>\n",
       "      <td>1.000000</td>\n",
       "    </tr>\n",
       "    <tr>\n",
       "      <th>25%</th>\n",
       "      <td>1.000000</td>\n",
       "      <td>4.900000e+02</td>\n",
       "      <td>750.000000</td>\n",
       "    </tr>\n",
       "    <tr>\n",
       "      <th>50%</th>\n",
       "      <td>1.000000</td>\n",
       "      <td>9.900000e+02</td>\n",
       "      <td>1599.000000</td>\n",
       "    </tr>\n",
       "    <tr>\n",
       "      <th>75%</th>\n",
       "      <td>1.000000</td>\n",
       "      <td>2.699000e+03</td>\n",
       "      <td>3699.000000</td>\n",
       "    </tr>\n",
       "    <tr>\n",
       "      <th>max</th>\n",
       "      <td>20.000000</td>\n",
       "      <td>2.580000e+06</td>\n",
       "      <td>281000.000000</td>\n",
       "    </tr>\n",
       "  </tbody>\n",
       "</table>\n",
       "</div>"
      ],
      "text/plain": [
       "             prod_Q         price           MSRP\n",
       "count  60000.000000  6.000000e+04   46436.000000\n",
       "mean       1.197983  3.507670e+03    4636.487682\n",
       "std        1.056474  1.736666e+04   10952.023026\n",
       "min        1.000000  0.000000e+00       1.000000\n",
       "25%        1.000000  4.900000e+02     750.000000\n",
       "50%        1.000000  9.900000e+02    1599.000000\n",
       "75%        1.000000  2.699000e+03    3699.000000\n",
       "max       20.000000  2.580000e+06  281000.000000"
      ]
     },
     "execution_count": 24,
     "metadata": {},
     "output_type": "execute_result"
    }
   ],
   "source": [
    "# Full_PChome continuous variable describe\n",
    "Full_PChome.iloc[:,-3:].describe()"
   ]
  },
  {
   "cell_type": "code",
   "execution_count": 26,
   "metadata": {},
   "outputs": [
    {
     "name": "stdout",
     "output_type": "stream",
     "text": [
      "['day1' 'day2' 'day3' 'day4' 'day5' 'day6' 'day7' 'day8' 'day9' 'day10'\n",
      " 'day11' 'day12' 'day13' 'day14' 'day15' 'day16' 'day17' 'day18' 'day19'\n",
      " 'day20' 'day21' 'day22' 'day23' 'day24' 'day25' 'day26' 'day27' 'day28'\n",
      " 'day29' 'day30' 'day31' 'day32' 'day33' 'day34' 'day35' 'day36' 'day37'\n",
      " 'day38' 'day39' 'day40' 'day41' 'day42' 'day43' 'day44' 'day45' 'day46'\n",
      " 'day47' 'day48' 'day49' 'day50' 'day51' 'day52' 'day53' 'day54' 'day55'\n",
      " 'day56' 'day57' 'day58' 'day59' 'day60' 'day61' 'day62' 'day63' 'day64'\n",
      " 'day65' 'day66' 'day67' 'day68' 'day69' 'day70' 'day71' 'day72' 'day73'\n",
      " 'day74' 'day75' 'day76' 'day77' 'day78' 'day79' 'day80' 'day81' 'day82'\n",
      " 'day83' 'day84' 'day85' 'day86' 'day87' 'day88' 'day89' 'day90' 'day91'\n",
      " 'day92'] \n",
      "Unique count of Ticker: 92\n"
     ]
    }
   ],
   "source": [
    "# date_cd unique\n",
    "print(Full_PChome['date_cd'].unique(),'\\nUnique count of Ticker:',Full_PChome['date_cd'].nunique())"
   ]
  },
  {
   "cell_type": "code",
   "execution_count": 36,
   "metadata": {},
   "outputs": [
    {
     "data": {
      "text/html": [
       "<div>\n",
       "<style scoped>\n",
       "    .dataframe tbody tr th:only-of-type {\n",
       "        vertical-align: middle;\n",
       "    }\n",
       "\n",
       "    .dataframe tbody tr th {\n",
       "        vertical-align: top;\n",
       "    }\n",
       "\n",
       "    .dataframe thead th {\n",
       "        text-align: right;\n",
       "    }\n",
       "</style>\n",
       "<table border=\"1\" class=\"dataframe\">\n",
       "  <thead>\n",
       "    <tr style=\"text-align: right;\">\n",
       "      <th></th>\n",
       "      <th>index</th>\n",
       "      <th>date_cd</th>\n",
       "    </tr>\n",
       "  </thead>\n",
       "  <tbody>\n",
       "    <tr>\n",
       "      <th>0</th>\n",
       "      <td>day34</td>\n",
       "      <td>2526</td>\n",
       "    </tr>\n",
       "    <tr>\n",
       "      <th>1</th>\n",
       "      <td>day80</td>\n",
       "      <td>2233</td>\n",
       "    </tr>\n",
       "    <tr>\n",
       "      <th>2</th>\n",
       "      <td>day43</td>\n",
       "      <td>1067</td>\n",
       "    </tr>\n",
       "    <tr>\n",
       "      <th>3</th>\n",
       "      <td>day49</td>\n",
       "      <td>943</td>\n",
       "    </tr>\n",
       "    <tr>\n",
       "      <th>4</th>\n",
       "      <td>day81</td>\n",
       "      <td>831</td>\n",
       "    </tr>\n",
       "    <tr>\n",
       "      <th>...</th>\n",
       "      <td>...</td>\n",
       "      <td>...</td>\n",
       "    </tr>\n",
       "    <tr>\n",
       "      <th>87</th>\n",
       "      <td>day69</td>\n",
       "      <td>475</td>\n",
       "    </tr>\n",
       "    <tr>\n",
       "      <th>88</th>\n",
       "      <td>day57</td>\n",
       "      <td>450</td>\n",
       "    </tr>\n",
       "    <tr>\n",
       "      <th>89</th>\n",
       "      <td>day42</td>\n",
       "      <td>435</td>\n",
       "    </tr>\n",
       "    <tr>\n",
       "      <th>90</th>\n",
       "      <td>day15</td>\n",
       "      <td>431</td>\n",
       "    </tr>\n",
       "    <tr>\n",
       "      <th>91</th>\n",
       "      <td>day45</td>\n",
       "      <td>416</td>\n",
       "    </tr>\n",
       "  </tbody>\n",
       "</table>\n",
       "<p>92 rows × 2 columns</p>\n",
       "</div>"
      ],
      "text/plain": [
       "    index  date_cd\n",
       "0   day34     2526\n",
       "1   day80     2233\n",
       "2   day43     1067\n",
       "3   day49      943\n",
       "4   day81      831\n",
       "..    ...      ...\n",
       "87  day69      475\n",
       "88  day57      450\n",
       "89  day42      435\n",
       "90  day15      431\n",
       "91  day45      416\n",
       "\n",
       "[92 rows x 2 columns]"
      ]
     },
     "execution_count": 36,
     "metadata": {},
     "output_type": "execute_result"
    }
   ],
   "source": [
    "pd.value_counts(Full_PChome['date_cd']).to_frame().reset_index()"
   ]
  },
  {
   "cell_type": "code",
   "execution_count": 47,
   "metadata": {},
   "outputs": [
    {
     "data": {
      "text/plain": [
       "<matplotlib.axes._subplots.AxesSubplot at 0x2414ced1e50>"
      ]
     },
     "execution_count": 47,
     "metadata": {},
     "output_type": "execute_result"
    },
    {
     "data": {
      "image/png": "[encoded data removed]",
      "text/plain": [
       "<Figure size 576x576 with 1 Axes>"
      ]
     },
     "metadata": {
      "needs_background": "light"
     },
     "output_type": "display_data"
    }
   ],
   "source": [
    "# date_cd Frequency table\n",
    "pd.value_counts(Full_PChome['date_cd']).to_frame().reset_index().plot(kind = 'box',figsize = (8,8))"
   ]
  }
 ],
 "metadata": {
  "kernelspec": {
   "display_name": "Python 3",
   "language": "python",
   "name": "python3"
  },
  "language_info": {
   "codemirror_mode": {
    "name": "ipython",
    "version": 3
   },
   "file_extension": ".py",
   "mimetype": "text/x-python",
   "name": "python",
   "nbconvert_exporter": "python",
   "pygments_lexer": "ipython3",
   "version": "3.8.3"
  }
 },
 "nbformat": 4,
 "nbformat_minor": 4
}
