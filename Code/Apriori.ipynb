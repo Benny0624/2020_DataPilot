{
 "cells": [
  {
   "cell_type": "markdown",
   "metadata": {},
   "source": [
    "## Import data"
   ]
  },
  {
   "cell_type": "code",
   "execution_count": 1,
   "metadata": {},
   "outputs": [],
   "source": [
    "# Import package\n",
    "import pandas as pd\n",
    "import numpy as np\n",
    "import matplotlib.pyplot as plt\n",
    "import os"
   ]
  },
  {
   "cell_type": "code",
   "execution_count": 2,
   "metadata": {},
   "outputs": [],
   "source": [
    "# Fix view Chinese problem \n",
    "from pylab import mpl\n",
    "mpl.rcParams['font.sans-serif'] = ['Microsoft YaHei']    # 指定預設字型:解決plot不能顯示中文問題\n",
    "mpl.rcParams['axes.unicode_minus'] = False      "
   ]
  },
  {
   "cell_type": "code",
   "execution_count": 3,
   "metadata": {},
   "outputs": [
    {
     "name": "stdout",
     "output_type": "stream",
     "text": [
      "C:\\Users\\User\\Desktop\\2020_DataPilot\\Code\n"
     ]
    }
   ],
   "source": [
    "# print current working directory\n",
    "print(os.getcwd())"
   ]
  },
  {
   "cell_type": "code",
   "execution_count": 5,
   "metadata": {},
   "outputs": [
    {
     "name": "stdout",
     "output_type": "stream",
     "text": [
      "C:\\Users\\User\\Desktop\\2020_DataPilot\\Data\\PChome_data\n"
     ]
    }
   ],
   "source": [
    "# Change working directory\n",
    "os.chdir('C:\\\\Users\\\\User\\\\Desktop\\\\2020_DataPilot\\\\Data\\\\PChome_data') \n",
    "print(os.getcwd())"
   ]
  },
  {
   "cell_type": "code",
   "execution_count": 6,
   "metadata": {},
   "outputs": [
    {
     "data": {
      "text/html": [
       "<div>\n",
       "<style scoped>\n",
       "    .dataframe tbody tr th:only-of-type {\n",
       "        vertical-align: middle;\n",
       "    }\n",
       "\n",
       "    .dataframe tbody tr th {\n",
       "        vertical-align: top;\n",
       "    }\n",
       "\n",
       "    .dataframe thead th {\n",
       "        text-align: right;\n",
       "    }\n",
       "</style>\n",
       "<table border=\"1\" class=\"dataframe\">\n",
       "  <thead>\n",
       "    <tr style=\"text-align: right;\">\n",
       "      <th></th>\n",
       "      <th>member_id</th>\n",
       "      <th>prod_id</th>\n",
       "      <th>department</th>\n",
       "      <th>index</th>\n",
       "      <th>prod_Q</th>\n",
       "      <th>price</th>\n",
       "      <th>MSRP</th>\n",
       "      <th>date_create</th>\n",
       "      <th>P_Q</th>\n",
       "      <th>Region</th>\n",
       "      <th>goods_clean</th>\n",
       "      <th>brand</th>\n",
       "      <th>year</th>\n",
       "      <th>month</th>\n",
       "      <th>day</th>\n",
       "    </tr>\n",
       "  </thead>\n",
       "  <tbody>\n",
       "    <tr>\n",
       "      <th>0</th>\n",
       "      <td>15416142</td>\n",
       "      <td>QAAD70-A9006TWM5-000</td>\n",
       "      <td>3C</td>\n",
       "      <td>列 印</td>\n",
       "      <td>1</td>\n",
       "      <td>6490</td>\n",
       "      <td>NaN</td>\n",
       "      <td>2019-10-09</td>\n",
       "      <td>6490</td>\n",
       "      <td>高雄市</td>\n",
       "      <td>HP Officejet 7110 A3  網路高速印表機</td>\n",
       "      <td>HP</td>\n",
       "      <td>2019</td>\n",
       "      <td>10</td>\n",
       "      <td>9</td>\n",
       "    </tr>\n",
       "    <tr>\n",
       "      <th>1</th>\n",
       "      <td>4663689</td>\n",
       "      <td>QFAXAS-A900A38S1-001</td>\n",
       "      <td>生活</td>\n",
       "      <td>衛浴</td>\n",
       "      <td>1</td>\n",
       "      <td>599</td>\n",
       "      <td>NaN</td>\n",
       "      <td>2019-10-09</td>\n",
       "      <td>599</td>\n",
       "      <td>嘉義市</td>\n",
       "      <td>HappyLife 桌上型微波爐架 烤箱置物架  YV9799</td>\n",
       "      <td>HappyLife</td>\n",
       "      <td>2019</td>\n",
       "      <td>10</td>\n",
       "      <td>9</td>\n",
       "    </tr>\n",
       "    <tr>\n",
       "      <th>2</th>\n",
       "      <td>8097088</td>\n",
       "      <td>QFAAJY-A9009W99R-000</td>\n",
       "      <td>生活</td>\n",
       "      <td>傢俱</td>\n",
       "      <td>1</td>\n",
       "      <td>927</td>\n",
       "      <td>1359.0</td>\n",
       "      <td>2019-10-09</td>\n",
       "      <td>927</td>\n",
       "      <td>高雄市</td>\n",
       "      <td>dayneeds 輕型 45 45 160cm 四層電鍍波浪收納鐵架</td>\n",
       "      <td>dayneeds</td>\n",
       "      <td>2019</td>\n",
       "      <td>10</td>\n",
       "      <td>9</td>\n",
       "    </tr>\n",
       "    <tr>\n",
       "      <th>3</th>\n",
       "      <td>15317712</td>\n",
       "      <td>QAAS33-A900A7SR4-002</td>\n",
       "      <td>3C</td>\n",
       "      <td>電 玩</td>\n",
       "      <td>1</td>\n",
       "      <td>690</td>\n",
       "      <td>990.0</td>\n",
       "      <td>2019-10-09</td>\n",
       "      <td>690</td>\n",
       "      <td>臺南市</td>\n",
       "      <td>任天堂 Switch Joy Con 四合一鋁合金 手把充電座兩色可選</td>\n",
       "      <td>任天堂</td>\n",
       "      <td>2019</td>\n",
       "      <td>10</td>\n",
       "      <td>9</td>\n",
       "    </tr>\n",
       "    <tr>\n",
       "      <th>4</th>\n",
       "      <td>15438512</td>\n",
       "      <td>CGAACT-A80423382-005</td>\n",
       "      <td>運動戶外</td>\n",
       "      <td>汽百/記錄器</td>\n",
       "      <td>1</td>\n",
       "      <td>1055</td>\n",
       "      <td>1600.0</td>\n",
       "      <td>2019-10-09</td>\n",
       "      <td>1055</td>\n",
       "      <td>臺南市</td>\n",
       "      <td>車用攝影鏡頭</td>\n",
       "      <td>車用攝影鏡頭</td>\n",
       "      <td>2019</td>\n",
       "      <td>10</td>\n",
       "      <td>9</td>\n",
       "    </tr>\n",
       "  </tbody>\n",
       "</table>\n",
       "</div>"
      ],
      "text/plain": [
       "   member_id               prod_id department   index  prod_Q  price    MSRP  \\\n",
       "0   15416142  QAAD70-A9006TWM5-000         3C     列 印       1   6490     NaN   \n",
       "1    4663689  QFAXAS-A900A38S1-001         生活      衛浴       1    599     NaN   \n",
       "2    8097088  QFAAJY-A9009W99R-000         生活      傢俱       1    927  1359.0   \n",
       "3   15317712  QAAS33-A900A7SR4-002         3C     電 玩       1    690   990.0   \n",
       "4   15438512  CGAACT-A80423382-005       運動戶外  汽百/記錄器       1   1055  1600.0   \n",
       "\n",
       "  date_create   P_Q Region                           goods_clean      brand  \\\n",
       "0  2019-10-09  6490    高雄市         HP Officejet 7110 A3  網路高速印表機         HP   \n",
       "1  2019-10-09   599    嘉義市      HappyLife 桌上型微波爐架 烤箱置物架  YV9799   HappyLife   \n",
       "2  2019-10-09   927    高雄市    dayneeds 輕型 45 45 160cm 四層電鍍波浪收納鐵架   dayneeds   \n",
       "3  2019-10-09   690    臺南市  任天堂 Switch Joy Con 四合一鋁合金 手把充電座兩色可選         任天堂   \n",
       "4  2019-10-09  1055    臺南市                                車用攝影鏡頭     車用攝影鏡頭   \n",
       "\n",
       "   year  month  day  \n",
       "0  2019     10    9  \n",
       "1  2019     10    9  \n",
       "2  2019     10    9  \n",
       "3  2019     10    9  \n",
       "4  2019     10    9  "
      ]
     },
     "execution_count": 6,
     "metadata": {},
     "output_type": "execute_result"
    }
   ],
   "source": [
    "#Import data\n",
    "PChome = pd.read_csv('Full_PChome_utf.csv', encoding = 'utf-8')\n",
    "PChome = PChome.drop(['idx','postal_cd', 'date_cd', 'goods','Zip_Code'], axis = 1)\n",
    "PChome['date_create'] = pd.to_datetime(PChome['date_create'])\n",
    "PChome['year'] = PChome['date_create'].map(lambda x: x.year)\n",
    "PChome['month'] = PChome['date_create'].map(lambda x: x.month)\n",
    "PChome['day'] = PChome['date_create'].map(lambda x: x.day)\n",
    "PChome.head()"
   ]
  },
  {
   "cell_type": "code",
   "execution_count": 7,
   "metadata": {},
   "outputs": [],
   "source": [
    "# Replace all\n",
    "def replace_all(text, dic):\n",
    "    for key in dic:\n",
    "        text = text.replace(key, d[key])\n",
    "    return text"
   ]
  },
  {
   "cell_type": "code",
   "execution_count": 38,
   "metadata": {
    "scrolled": true
   },
   "outputs": [
    {
     "data": {
      "text/html": [
       "<div>\n",
       "<style scoped>\n",
       "    .dataframe tbody tr th:only-of-type {\n",
       "        vertical-align: middle;\n",
       "    }\n",
       "\n",
       "    .dataframe tbody tr th {\n",
       "        vertical-align: top;\n",
       "    }\n",
       "\n",
       "    .dataframe thead th {\n",
       "        text-align: right;\n",
       "    }\n",
       "</style>\n",
       "<table border=\"1\" class=\"dataframe\">\n",
       "  <thead>\n",
       "    <tr style=\"text-align: right;\">\n",
       "      <th></th>\n",
       "      <th>member_id</th>\n",
       "      <th>date</th>\n",
       "      <th>goods</th>\n",
       "    </tr>\n",
       "  </thead>\n",
       "  <tbody>\n",
       "    <tr>\n",
       "      <th>0</th>\n",
       "      <td>15416142</td>\n",
       "      <td>2019-10-09</td>\n",
       "      <td>列印</td>\n",
       "    </tr>\n",
       "    <tr>\n",
       "      <th>1</th>\n",
       "      <td>4663689</td>\n",
       "      <td>2019-10-09</td>\n",
       "      <td>衛浴</td>\n",
       "    </tr>\n",
       "    <tr>\n",
       "      <th>2</th>\n",
       "      <td>8097088</td>\n",
       "      <td>2019-10-09</td>\n",
       "      <td>傢俱,書房</td>\n",
       "    </tr>\n",
       "    <tr>\n",
       "      <th>3</th>\n",
       "      <td>15317712</td>\n",
       "      <td>2019-10-09</td>\n",
       "      <td>電玩</td>\n",
       "    </tr>\n",
       "    <tr>\n",
       "      <th>4</th>\n",
       "      <td>15438512</td>\n",
       "      <td>2019-10-09</td>\n",
       "      <td>汽百/記錄器</td>\n",
       "    </tr>\n",
       "  </tbody>\n",
       "</table>\n",
       "</div>"
      ],
      "text/plain": [
       "   member_id       date   goods\n",
       "0   15416142 2019-10-09      列印\n",
       "1    4663689 2019-10-09      衛浴\n",
       "2    8097088 2019-10-09   傢俱,書房\n",
       "3   15317712 2019-10-09      電玩\n",
       "4   15438512 2019-10-09  汽百/記錄器"
      ]
     },
     "execution_count": 38,
     "metadata": {},
     "output_type": "execute_result"
    }
   ],
   "source": [
    "# Preprocess Apriori data\n",
    "d = {\" \": \"\", \"\\u3000\": \"\", \".\":\"/\", \"?\":\"\"}\n",
    "Apriori = pd.DataFrame()\n",
    "Apriori['member_id'] = PChome['member_id']\n",
    "Apriori['date'] = PChome['date_create']\n",
    "Apriori['goods'] = PChome['index'].map(lambda x: replace_all(x, d))\n",
    "Apriori['goods'] = Apriori.groupby(['member_id', 'date'])['goods'].transform(lambda x: ','.join(x))\n",
    "Apriori = Apriori[['member_id', 'date', 'goods']].drop_duplicates()\n",
    "Apriori.head()"
   ]
  },
  {
   "cell_type": "code",
   "execution_count": 39,
   "metadata": {},
   "outputs": [],
   "source": [
    "# To_csv\n",
    "Apriori.to_csv('Apriori.csv')"
   ]
  },
  {
   "cell_type": "markdown",
   "metadata": {},
   "source": [
    "## Apriori"
   ]
  },
  {
   "cell_type": "code",
   "execution_count": 40,
   "metadata": {},
   "outputs": [],
   "source": [
    "# Preprocess \n",
    "transactions = []\n",
    "dataset = Apriori['goods'].str.split(',', expand = True)\n",
    "for i in range(dataset.shape[0]):\n",
    "    transactions.append([str(dataset.values[i,j]) for j in range(dataset.shape[1]) if str(dataset.values[i,j]) != 'None'])"
   ]
  },
  {
   "cell_type": "code",
   "execution_count": 41,
   "metadata": {},
   "outputs": [],
   "source": [
    "# apriori package\n",
    "from apyori import apriori\n",
    "rules = apriori(transactions = transactions, min_support = 0.00001,min_confidence = 0.0001)"
   ]
  },
  {
   "cell_type": "code",
   "execution_count": 236,
   "metadata": {},
   "outputs": [],
   "source": [
    "# inspect\n",
    "def inspect(result):\n",
    "    resultsinDataFrame = []\n",
    "    for i in range(len(result)):\n",
    "        if (len(result[i][0]) == 2) & (len(results[i][2]) == 2):\n",
    "            resultsinDataFrame.append({\n",
    "                'lhs_goods' : str(result[i][0]).split(',')[0].split(\"'\")[1],\n",
    "                'rhs_goods' : str(results[i][0]).split(',')[1].split(\"'\")[1],\n",
    "                'supports' : round(results[i][1],5),\n",
    "                'l_confidence' : float(str(result[i][2]).split(',')[2].split('=')[1]),\n",
    "                'r_confidence' : float(str(result[i][2]).split(',')[6].split('=')[1]),\n",
    "                'l_lift' : float(str(results[i][2]).split(',')[3].split('=')[1].split(')')[0]),\n",
    "                'r_lift' : float(str(results[i][2]).split(',')[7].split('=')[1].split(')')[0])\n",
    "            }) \n",
    "    return pd.DataFrame(resultsinDataFrame, columns = \\\n",
    "                                  ['lhs_goods', 'rhs_goods', 'supports', 'l_confidence', 'r_confidence', 'l_lift', 'r_lift'])"
   ]
  },
  {
   "cell_type": "code",
   "execution_count": 240,
   "metadata": {
    "scrolled": true
   },
   "outputs": [],
   "source": [
    "# To_csv\n",
    "inspect(results).to_csv('Apriori_result.csv', encoding = 'big5')"
   ]
  }
 ],
 "metadata": {
  "kernelspec": {
   "display_name": "Python 3",
   "language": "python",
   "name": "python3"
  },
  "language_info": {
   "codemirror_mode": {
    "name": "ipython",
    "version": 3
   },
   "file_extension": ".py",
   "mimetype": "text/x-python",
   "name": "python",
   "nbconvert_exporter": "python",
   "pygments_lexer": "ipython3",
   "version": "3.7.6"
  }
 },
 "nbformat": 4,
 "nbformat_minor": 4
}
