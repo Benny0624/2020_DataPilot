{
 "cells": [
  {
   "cell_type": "markdown",
   "metadata": {},
   "source": [
    "## Cutting 21% VIP customer of PChome"
   ]
  },
  {
   "cell_type": "code",
   "execution_count": 1,
   "metadata": {},
   "outputs": [],
   "source": [
    "# Import package\n",
    "import pandas as pd\n",
    "import numpy as np\n",
    "import matplotlib.pyplot as plt\n",
    "import os"
   ]
  },
  {
   "cell_type": "code",
   "execution_count": 2,
   "metadata": {},
   "outputs": [
    {
     "name": "stdout",
     "output_type": "stream",
     "text": [
      "C:\\Users\\User\\Desktop\\2020_DataPilot\\Code\n"
     ]
    }
   ],
   "source": [
    "# print current working directory\n",
    "print(os.getcwd())"
   ]
  },
  {
   "cell_type": "code",
   "execution_count": 3,
   "metadata": {},
   "outputs": [
    {
     "name": "stdout",
     "output_type": "stream",
     "text": [
      "C:\\Users\\User\\Desktop\\2020_DataPilot\\Data\\PChome_Data\n"
     ]
    }
   ],
   "source": [
    "# Change working directory\n",
    "os.chdir('C:\\\\Users\\\\User\\\\Desktop\\\\2020_DataPilot\\\\Data\\\\PChome_Data') \n",
    "print(os.getcwd())"
   ]
  },
  {
   "cell_type": "code",
   "execution_count": 4,
   "metadata": {},
   "outputs": [
    {
     "data": {
      "text/html": [
       "<div>\n",
       "<style scoped>\n",
       "    .dataframe tbody tr th:only-of-type {\n",
       "        vertical-align: middle;\n",
       "    }\n",
       "\n",
       "    .dataframe tbody tr th {\n",
       "        vertical-align: top;\n",
       "    }\n",
       "\n",
       "    .dataframe thead th {\n",
       "        text-align: right;\n",
       "    }\n",
       "</style>\n",
       "<table border=\"1\" class=\"dataframe\">\n",
       "  <thead>\n",
       "    <tr style=\"text-align: right;\">\n",
       "      <th></th>\n",
       "      <th>member_id</th>\n",
       "      <th>3C</th>\n",
       "      <th>休閒</th>\n",
       "      <th>周邊</th>\n",
       "      <th>家電</th>\n",
       "      <th>數位</th>\n",
       "      <th>日用</th>\n",
       "      <th>時尚</th>\n",
       "      <th>書店</th>\n",
       "      <th>生活</th>\n",
       "      <th>美妝保健</th>\n",
       "      <th>衣鞋包錶</th>\n",
       "      <th>運動戶外</th>\n",
       "      <th>食品</th>\n",
       "      <th>Buy_Amount</th>\n",
       "      <th>Region</th>\n",
       "    </tr>\n",
       "  </thead>\n",
       "  <tbody>\n",
       "    <tr>\n",
       "      <th>0</th>\n",
       "      <td>91</td>\n",
       "      <td>2900.0</td>\n",
       "      <td>0.0</td>\n",
       "      <td>0.0</td>\n",
       "      <td>0.0</td>\n",
       "      <td>0.0</td>\n",
       "      <td>0.0</td>\n",
       "      <td>0.0</td>\n",
       "      <td>0.0</td>\n",
       "      <td>0.0</td>\n",
       "      <td>0.0</td>\n",
       "      <td>0.0</td>\n",
       "      <td>0.0</td>\n",
       "      <td>0.0</td>\n",
       "      <td>2900</td>\n",
       "      <td>臺南市</td>\n",
       "    </tr>\n",
       "    <tr>\n",
       "      <th>1</th>\n",
       "      <td>549</td>\n",
       "      <td>0.0</td>\n",
       "      <td>0.0</td>\n",
       "      <td>0.0</td>\n",
       "      <td>0.0</td>\n",
       "      <td>0.0</td>\n",
       "      <td>0.0</td>\n",
       "      <td>0.0</td>\n",
       "      <td>0.0</td>\n",
       "      <td>2090.0</td>\n",
       "      <td>0.0</td>\n",
       "      <td>0.0</td>\n",
       "      <td>0.0</td>\n",
       "      <td>0.0</td>\n",
       "      <td>2090</td>\n",
       "      <td>臺南市</td>\n",
       "    </tr>\n",
       "    <tr>\n",
       "      <th>2</th>\n",
       "      <td>1655</td>\n",
       "      <td>2799.0</td>\n",
       "      <td>0.0</td>\n",
       "      <td>0.0</td>\n",
       "      <td>0.0</td>\n",
       "      <td>0.0</td>\n",
       "      <td>0.0</td>\n",
       "      <td>0.0</td>\n",
       "      <td>0.0</td>\n",
       "      <td>0.0</td>\n",
       "      <td>0.0</td>\n",
       "      <td>0.0</td>\n",
       "      <td>0.0</td>\n",
       "      <td>0.0</td>\n",
       "      <td>2799</td>\n",
       "      <td>臺南市</td>\n",
       "    </tr>\n",
       "    <tr>\n",
       "      <th>3</th>\n",
       "      <td>2241</td>\n",
       "      <td>439.0</td>\n",
       "      <td>0.0</td>\n",
       "      <td>0.0</td>\n",
       "      <td>0.0</td>\n",
       "      <td>0.0</td>\n",
       "      <td>0.0</td>\n",
       "      <td>0.0</td>\n",
       "      <td>0.0</td>\n",
       "      <td>586.0</td>\n",
       "      <td>0.0</td>\n",
       "      <td>0.0</td>\n",
       "      <td>0.0</td>\n",
       "      <td>0.0</td>\n",
       "      <td>1025</td>\n",
       "      <td>高雄市</td>\n",
       "    </tr>\n",
       "    <tr>\n",
       "      <th>4</th>\n",
       "      <td>2988</td>\n",
       "      <td>0.0</td>\n",
       "      <td>0.0</td>\n",
       "      <td>0.0</td>\n",
       "      <td>0.0</td>\n",
       "      <td>0.0</td>\n",
       "      <td>0.0</td>\n",
       "      <td>0.0</td>\n",
       "      <td>0.0</td>\n",
       "      <td>786.0</td>\n",
       "      <td>0.0</td>\n",
       "      <td>0.0</td>\n",
       "      <td>0.0</td>\n",
       "      <td>0.0</td>\n",
       "      <td>786</td>\n",
       "      <td>屏東縣</td>\n",
       "    </tr>\n",
       "  </tbody>\n",
       "</table>\n",
       "</div>"
      ],
      "text/plain": [
       "   member_id      3C   休閒   周邊   家電   數位   日用   時尚   書店      生活  美妝保健  衣鞋包錶  \\\n",
       "0         91  2900.0  0.0  0.0  0.0  0.0  0.0  0.0  0.0     0.0   0.0   0.0   \n",
       "1        549     0.0  0.0  0.0  0.0  0.0  0.0  0.0  0.0  2090.0   0.0   0.0   \n",
       "2       1655  2799.0  0.0  0.0  0.0  0.0  0.0  0.0  0.0     0.0   0.0   0.0   \n",
       "3       2241   439.0  0.0  0.0  0.0  0.0  0.0  0.0  0.0   586.0   0.0   0.0   \n",
       "4       2988     0.0  0.0  0.0  0.0  0.0  0.0  0.0  0.0   786.0   0.0   0.0   \n",
       "\n",
       "   運動戶外   食品  Buy_Amount Region  \n",
       "0   0.0  0.0        2900    臺南市  \n",
       "1   0.0  0.0        2090    臺南市  \n",
       "2   0.0  0.0        2799    臺南市  \n",
       "3   0.0  0.0        1025    高雄市  \n",
       "4   0.0  0.0         786    屏東縣  "
      ]
     },
     "execution_count": 4,
     "metadata": {},
     "output_type": "execute_result"
    }
   ],
   "source": [
    "#Import data\n",
    "PChome = pd.read_csv('PChome_flat.csv', encoding = 'Big5')\n",
    "PChome.head()"
   ]
  },
  {
   "cell_type": "code",
   "execution_count": 5,
   "metadata": {},
   "outputs": [
    {
     "data": {
      "text/html": [
       "<div>\n",
       "<style scoped>\n",
       "    .dataframe tbody tr th:only-of-type {\n",
       "        vertical-align: middle;\n",
       "    }\n",
       "\n",
       "    .dataframe tbody tr th {\n",
       "        vertical-align: top;\n",
       "    }\n",
       "\n",
       "    .dataframe thead th {\n",
       "        text-align: right;\n",
       "    }\n",
       "</style>\n",
       "<table border=\"1\" class=\"dataframe\">\n",
       "  <thead>\n",
       "    <tr style=\"text-align: right;\">\n",
       "      <th></th>\n",
       "      <th>member_id</th>\n",
       "    </tr>\n",
       "  </thead>\n",
       "  <tbody>\n",
       "    <tr>\n",
       "      <th>0</th>\n",
       "      <td>2400440</td>\n",
       "    </tr>\n",
       "    <tr>\n",
       "      <th>1</th>\n",
       "      <td>17871662</td>\n",
       "    </tr>\n",
       "    <tr>\n",
       "      <th>2</th>\n",
       "      <td>14685763</td>\n",
       "    </tr>\n",
       "    <tr>\n",
       "      <th>3</th>\n",
       "      <td>17719417</td>\n",
       "    </tr>\n",
       "    <tr>\n",
       "      <th>4</th>\n",
       "      <td>14255682</td>\n",
       "    </tr>\n",
       "  </tbody>\n",
       "</table>\n",
       "</div>"
      ],
      "text/plain": [
       "   member_id\n",
       "0    2400440\n",
       "1   17871662\n",
       "2   14685763\n",
       "3   17719417\n",
       "4   14255682"
      ]
     },
     "execution_count": 5,
     "metadata": {},
     "output_type": "execute_result"
    }
   ],
   "source": [
    "#Import 21% data\n",
    "PChome_21 = pd.read_csv('Member pq-pareto-21.txt', sep = '\\t', encoding = 'utf-8')\n",
    "PChome_21 = PChome_21.drop(['Percent_of_customers', 'Percent_of_Total_Running_Sum_of_P_Q', 'P_Q'], axis = 1)\n",
    "PChome_21 = PChome_21.rename(columns={\"Member_Id\": \"member_id\"})\n",
    "PChome_21.head()"
   ]
  },
  {
   "cell_type": "code",
   "execution_count": 8,
   "metadata": {},
   "outputs": [],
   "source": [
    "# Region\n",
    "PChome_21_W_REGION = PChome_21.merge(PChome, how = 'left').set_index('member_id')"
   ]
  },
  {
   "cell_type": "code",
   "execution_count": 12,
   "metadata": {},
   "outputs": [],
   "source": [
    "# Split the subgroups\n",
    "PChome_21_Kaohsiung = PChome_21_W_REGION.loc[PChome_21_W_REGION['Region'] == '高雄市']\n",
    "PChome_21_Chiayi = PChome_21_W_REGION.loc[(PChome_21_W_REGION['Region'] == '嘉義市')|(PChome_21_W_REGION['Region'] == '嘉義縣')]\n",
    "PChome_21_Tainan = PChome_21_W_REGION.loc[PChome_21_W_REGION['Region'] == '臺南市']\n",
    "PChome_21_Pingtung = PChome_21_W_REGION.loc[PChome_21_W_REGION['Region'] == '屏東縣']"
   ]
  },
  {
   "cell_type": "code",
   "execution_count": 14,
   "metadata": {},
   "outputs": [],
   "source": [
    "# To_csv\n",
    "PChome_21_Kaohsiung.to_csv('PChome_21_Kaohsiung.csv')\n",
    "PChome_21_Chiayi.to_csv('PChome_21_Chiayi.csv')\n",
    "PChome_21_Tainan.to_csv('PChome_21_Tainan.csv')\n",
    "PChome_21_Pingtung.to_csv('PChome_21_Pingtung.csv')"
   ]
  }
 ],
 "metadata": {
  "kernelspec": {
   "display_name": "Python 3",
   "language": "python",
   "name": "python3"
  },
  "language_info": {
   "codemirror_mode": {
    "name": "ipython",
    "version": 3
   },
   "file_extension": ".py",
   "mimetype": "text/x-python",
   "name": "python",
   "nbconvert_exporter": "python",
   "pygments_lexer": "ipython3",
   "version": "3.7.6"
  }
 },
 "nbformat": 4,
 "nbformat_minor": 4
}
