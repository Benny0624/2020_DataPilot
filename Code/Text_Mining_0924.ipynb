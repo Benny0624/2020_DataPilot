{
 "cells": [
  {
   "cell_type": "markdown",
   "metadata": {},
   "source": [
    "## Split  Data"
   ]
  },
  {
   "cell_type": "code",
   "execution_count": 23,
   "metadata": {},
   "outputs": [],
   "source": [
    "# Import package\n",
    "import pandas as pd\n",
    "import numpy as np\n",
    "import matplotlib.pyplot as plt\n",
    "import jieba \n",
    "import os"
   ]
  },
  {
   "cell_type": "code",
   "execution_count": 2,
   "metadata": {},
   "outputs": [
    {
     "name": "stdout",
     "output_type": "stream",
     "text": [
      "C:\\Users\\User\\Desktop\\2020_DataPilot\\Code\n"
     ]
    }
   ],
   "source": [
    "# print current working directory\n",
    "print(os.getcwd())"
   ]
  },
  {
   "cell_type": "code",
   "execution_count": 4,
   "metadata": {},
   "outputs": [
    {
     "name": "stdout",
     "output_type": "stream",
     "text": [
      "C:\\Users\\User\\Desktop\\2020_DataPilot\\Data\n"
     ]
    }
   ],
   "source": [
    "# Change working directory\n",
    "os.chdir('C:\\\\Users\\\\User\\\\Desktop\\\\2020_DataPilot\\\\Data') \n",
    "print(os.getcwd())"
   ]
  },
  {
   "cell_type": "code",
   "execution_count": 5,
   "metadata": {},
   "outputs": [
    {
     "name": "stderr",
     "output_type": "stream",
     "text": [
      "C:\\Users\\User\\anaconda3\\lib\\site-packages\\IPython\\core\\interactiveshell.py:3063: DtypeWarning: Columns (1,3,4,7) have mixed types.Specify dtype option on import or set low_memory=False.\n",
      "  interactivity=interactivity, compiler=compiler, result=result)\n"
     ]
    }
   ],
   "source": [
    "# Import data\n",
    "I_Lan = pd.read_csv('新冠肺炎疫情之社群輿情數據_意藍資訊.csv', encoding = 'utf-8')"
   ]
  },
  {
   "cell_type": "code",
   "execution_count": 6,
   "metadata": {},
   "outputs": [],
   "source": [
    "# 把字串全形轉半形\n",
    "# https://www.itread01.com/content/1544418568.html\n",
    "def strQ2B(ustring):\n",
    "    ss = []\n",
    "    for s in ustring:\n",
    "        rstring = \"\"\n",
    "        for uchar in s:\n",
    "            inside_code = ord(uchar)\n",
    "            if inside_code == 12288:  # 全形空格直接轉換\n",
    "                inside_code = 32\n",
    "            elif (inside_code >= 65281 and inside_code <= 65374):  # 全形字元（除空格）根據關係轉化\n",
    "                inside_code -= 65248\n",
    "            rstring += chr(inside_code)\n",
    "        ss.append(rstring)\n",
    "    return ''.join(ss)"
   ]
  },
  {
   "cell_type": "code",
   "execution_count": 7,
   "metadata": {},
   "outputs": [],
   "source": [
    "# make Chinese text clean\n",
    "# https://reurl.cc/7oD8Ok\n",
    "import re\n",
    "def clean_zh_text(text):\n",
    "    # keep only Chinese\n",
    "    comp = re.compile('[^\\u4e00-\\u9fa5]')\n",
    "    return comp.sub('', text)"
   ]
  },
  {
   "cell_type": "code",
   "execution_count": 8,
   "metadata": {},
   "outputs": [
    {
     "data": {
      "text/html": [
       "<div>\n",
       "<style scoped>\n",
       "    .dataframe tbody tr th:only-of-type {\n",
       "        vertical-align: middle;\n",
       "    }\n",
       "\n",
       "    .dataframe tbody tr th {\n",
       "        vertical-align: top;\n",
       "    }\n",
       "\n",
       "    .dataframe thead th {\n",
       "        text-align: right;\n",
       "    }\n",
       "</style>\n",
       "<table border=\"1\" class=\"dataframe\">\n",
       "  <thead>\n",
       "    <tr style=\"text-align: right;\">\n",
       "      <th></th>\n",
       "      <th>標題</th>\n",
       "      <th>內容</th>\n",
       "      <th>來源</th>\n",
       "      <th>來源網站</th>\n",
       "      <th>發布時間</th>\n",
       "      <th>討論串總則數</th>\n",
       "      <th>作者</th>\n",
       "      <th>情緒標記</th>\n",
       "      <th>原始連結</th>\n",
       "    </tr>\n",
       "  </thead>\n",
       "  <tbody>\n",
       "    <tr>\n",
       "      <th>0</th>\n",
       "      <td>喝點高度白酒曬曬太陽看來有益健康隨身帶點消毒</td>\n",
       "      <td>喝點高度白酒曬曬太陽看來有益健康隨身帶點消毒濕紙巾跟口罩</td>\n",
       "      <td>社群網站</td>\n",
       "      <td>Facebook公開社團 &gt; 韓國瑜穿雲鐵柱後援會</td>\n",
       "      <td>2020/01/23 11:44:00</td>\n",
       "      <td>0.0</td>\n",
       "      <td>J*********</td>\n",
       "      <td>中立</td>\n",
       "      <td>http://www.facebook.com/permalink.php?story_fb...</td>\n",
       "    </tr>\n",
       "    <tr>\n",
       "      <th>1</th>\n",
       "      <td>喝點高度白酒曬曬太陽看來有益健康隨身帶點消毒</td>\n",
       "      <td>喝點高度白酒曬曬太陽看來有益健康隨身帶點消毒濕紙巾跟口罩</td>\n",
       "      <td>社群網站</td>\n",
       "      <td>Facebook公開社團 &gt; 爆吱戰堂</td>\n",
       "      <td>2020/01/23 11:46:00</td>\n",
       "      <td>1.0</td>\n",
       "      <td>J*********</td>\n",
       "      <td>中立</td>\n",
       "      <td>http://www.facebook.com/permalink.php?story_fb...</td>\n",
       "    </tr>\n",
       "    <tr>\n",
       "      <th>2</th>\n",
       "      <td>知識文懶人包冠狀病毒武漢肺炎中</td>\n",
       "      <td>知識文懶人包冠狀病毒武漢肺炎以下為轉貼文章</td>\n",
       "      <td>社群網站</td>\n",
       "      <td>Facebook公開社團 &gt; 彰化縣民對魏縣長建言交流討論區</td>\n",
       "      <td>2020/01/21 18:56:00</td>\n",
       "      <td>0.0</td>\n",
       "      <td>L*******</td>\n",
       "      <td>負面</td>\n",
       "      <td>http://www.facebook.com/permalink.php?story_fb...</td>\n",
       "    </tr>\n",
       "    <tr>\n",
       "      <th>3</th>\n",
       "      <td>武漢肺炎大必知防疫知識何松穎醫師一次解析開啟今健康官網閱讀</td>\n",
       "      <td>以下為轉貼文章武漢肺炎大必知防疫知識何松穎醫師一次解析</td>\n",
       "      <td>社群網站</td>\n",
       "      <td>Facebook粉絲團 &gt; 新聞挖挖哇粉絲團</td>\n",
       "      <td>2020/01/22 20:17:00</td>\n",
       "      <td>2.0</td>\n",
       "      <td>新聞挖挖哇粉絲團</td>\n",
       "      <td>中立</td>\n",
       "      <td>http://www.facebook.com/permalink.php?story_fb...</td>\n",
       "    </tr>\n",
       "    <tr>\n",
       "      <th>4</th>\n",
       "      <td></td>\n",
       "      <td></td>\n",
       "      <td>社群網站</td>\n",
       "      <td>Facebook粉絲團 &gt; 楊晨熙</td>\n",
       "      <td>2020/01/17 17:11:29</td>\n",
       "      <td>0.0</td>\n",
       "      <td>無作者資訊</td>\n",
       "      <td>中立</td>\n",
       "      <td>http://www.facebook.com/permalink.php?story_fb...</td>\n",
       "    </tr>\n",
       "  </tbody>\n",
       "</table>\n",
       "</div>"
      ],
      "text/plain": [
       "                              標題                            內容    來源  \\\n",
       "0         喝點高度白酒曬曬太陽看來有益健康隨身帶點消毒  喝點高度白酒曬曬太陽看來有益健康隨身帶點消毒濕紙巾跟口罩  社群網站   \n",
       "1         喝點高度白酒曬曬太陽看來有益健康隨身帶點消毒  喝點高度白酒曬曬太陽看來有益健康隨身帶點消毒濕紙巾跟口罩  社群網站   \n",
       "2                知識文懶人包冠狀病毒武漢肺炎中         知識文懶人包冠狀病毒武漢肺炎以下為轉貼文章  社群網站   \n",
       "3  武漢肺炎大必知防疫知識何松穎醫師一次解析開啟今健康官網閱讀   以下為轉貼文章武漢肺炎大必知防疫知識何松穎醫師一次解析  社群網站   \n",
       "4                                                               社群網站   \n",
       "\n",
       "                             來源網站                 發布時間  討論串總則數          作者  \\\n",
       "0       Facebook公開社團 > 韓國瑜穿雲鐵柱後援會  2020/01/23 11:44:00     0.0  J*********   \n",
       "1             Facebook公開社團 > 爆吱戰堂  2020/01/23 11:46:00     1.0  J*********   \n",
       "2  Facebook公開社團 > 彰化縣民對魏縣長建言交流討論區  2020/01/21 18:56:00     0.0    L*******   \n",
       "3          Facebook粉絲團 > 新聞挖挖哇粉絲團  2020/01/22 20:17:00     2.0    新聞挖挖哇粉絲團   \n",
       "4               Facebook粉絲團 > 楊晨熙  2020/01/17 17:11:29     0.0       無作者資訊   \n",
       "\n",
       "  情緒標記                                               原始連結  \n",
       "0   中立  http://www.facebook.com/permalink.php?story_fb...  \n",
       "1   中立  http://www.facebook.com/permalink.php?story_fb...  \n",
       "2   負面  http://www.facebook.com/permalink.php?story_fb...  \n",
       "3   中立  http://www.facebook.com/permalink.php?story_fb...  \n",
       "4   中立  http://www.facebook.com/permalink.php?story_fb...  "
      ]
     },
     "execution_count": 8,
     "metadata": {},
     "output_type": "execute_result"
    }
   ],
   "source": [
    "# 全形轉半形、清除特殊字元\n",
    "I_Lan['標題'] = I_Lan['標題'].map(lambda x: strQ2B(x))\n",
    "I_Lan['標題'] = I_Lan['標題'].map(lambda x: clean_zh_text(x))\n",
    "I_Lan['內容'] = I_Lan['內容'].astype('str')\n",
    "I_Lan['內容'] = I_Lan['內容'].map(lambda x: strQ2B(x))\n",
    "I_Lan['內容'] = I_Lan['內容'].map(lambda x: clean_zh_text(x))\n",
    "I_Lan.head()"
   ]
  },
  {
   "cell_type": "code",
   "execution_count": 9,
   "metadata": {},
   "outputs": [],
   "source": [
    "# Split data\n",
    "I_Lan_Pos = I_Lan.loc[I_Lan['情緒標記'] == '正面']\n",
    "I_Lan_Neg = I_Lan.loc[I_Lan['情緒標記'] == '負面']\n",
    "I_Lan_Neu = I_Lan.loc[I_Lan['情緒標記'] == '中立']"
   ]
  },
  {
   "cell_type": "code",
   "execution_count": 10,
   "metadata": {},
   "outputs": [],
   "source": [
    "# Drop cols\n",
    "I_Lan_Pos = I_Lan_Pos.drop(['情緒標記','原始連結'], axis = 1)\n",
    "I_Lan_Neg = I_Lan_Neg.drop(['情緒標記','原始連結'], axis = 1)\n",
    "I_Lan_Neu = I_Lan_Neu.drop(['情緒標記','原始連結'], axis = 1)"
   ]
  },
  {
   "cell_type": "markdown",
   "metadata": {},
   "source": [
    "## Text Minig"
   ]
  },
  {
   "cell_type": "code",
   "execution_count": 13,
   "metadata": {},
   "outputs": [
    {
     "name": "stderr",
     "output_type": "stream",
     "text": [
      "Building prefix dict from C:\\Users\\User\\anaconda3\\Lib\\site-packages\\jieba\\dict.txt ...\n",
      "Loading model from cache C:\\Users\\User\\AppData\\Local\\Temp\\jieba.u1ca25aedd818051ae4a0fdd649b65b3b.cache\n",
      "Loading model cost 1.626 seconds.\n",
      "Prefix dict has been built successfully.\n"
     ]
    },
    {
     "name": "stdout",
     "output_type": "stream",
     "text": [
      "預設: 我來|到|北京|清華大學|吃|一碗|大|牛肉|麵\n",
      "全關閉: 我|來|到|北京|清|華|大|學|吃|一碗|大|牛肉|麵\n",
      "搜尋引擎: 我|來|到|北京|清|華|大|學|吃|一碗|大|牛肉|麵\n"
     ]
    }
   ],
   "source": [
    "#默認使用精確模式\n",
    "import jieba\n",
    "import jieba.analyse\n",
    "file_path = 'C:/Users/User/anaconda3/Lib/site-packages/jieba'\n",
    "file = 'dict.txt'\n",
    "jieba.set_dictionary(os.path.join(file_path,file))\n",
    "text = '我來到北京清華大學吃一碗大牛肉麵'\n",
    "print('預設:', '|'.join(jieba.cut(text, cut_all=False, HMM=True)))\n",
    "print('全關閉:', '|'.join(jieba.cut(text, cut_all=False, HMM=False)))\n",
    "print('搜尋引擎:', '|'.join(jieba.cut(text, cut_all=True, HMM=True)))"
   ]
  },
  {
   "cell_type": "code",
   "execution_count": 14,
   "metadata": {},
   "outputs": [],
   "source": [
    "# 增加字典字詞\n",
    "ADD = ['小兒感染科', '黃瑽寧', '治好', '林俊傑', '第九例', '張建宗', '今早', '新年新希望', '誠實豆沙包','韓市長', '世界衛生組織',\\\n",
    "       '舔中', '針灸', '蔡英文', '疾管局', '人傳人', '打臉文', '小勞勃道尼', '酷碰券', '聖荷西', '陳時中', '瑞德西韋', '衛健委',\\\n",
    "      '李昱叡', '曼尼', '賈伯斯', '自曝', '陳傑憲', '鈴木一朗', '伸卡球','潘孟安', '暖舉', '林之晨', '唐鳳', '新冠肺炎', '解盲',\\\n",
    "      '傅崑萁','王定宇', '韓導', '志村健', '驚蛰', '出生年月日', '酒精', '譚德塞', '問卦', '韓國瑜', '超前部署', '台積電', '潔手露',\\\n",
    "      '亞伯特','台灣', '紅襪隊', '高雄']\n",
    "for i in ADD:\n",
    "    jieba.suggest_freq(i,True)"
   ]
  },
  {
   "cell_type": "markdown",
   "metadata": {},
   "source": [
    "### POS"
   ]
  },
  {
   "cell_type": "code",
   "execution_count": 15,
   "metadata": {},
   "outputs": [],
   "source": [
    "# I_Lan_Pos\n",
    "Pos = []\n",
    "Series = I_Lan_Pos['標題'].map(lambda x: '|'.join(jieba.cut(x, cut_all=False, HMM=True)))\n",
    "for i in Series:\n",
    "    Pos.append(i.split('|'))\n",
    "\n",
    "# Flatten the list\n",
    "Pos_flat_list = [item for sublist in Pos for item in sublist]"
   ]
  },
  {
   "cell_type": "code",
   "execution_count": 16,
   "metadata": {},
   "outputs": [],
   "source": [
    "# 去除單字\n",
    "Pos_flat_list = [i for i in Pos_flat_list if len(i) > 1]"
   ]
  },
  {
   "cell_type": "code",
   "execution_count": 17,
   "metadata": {},
   "outputs": [],
   "source": [
    "# 減少連接、無義字詞\n",
    "DEL = ['雖然','怎麼','真的','我們','可以','希望','並非','還將']\n",
    "Pos_flat_list = [j for i, j in enumerate(Pos_flat_list) if j not in DEL]"
   ]
  },
  {
   "cell_type": "code",
   "execution_count": 18,
   "metadata": {},
   "outputs": [],
   "source": [
    "# Stats of Pos\n",
    "from collections import Counter\n",
    "Pos_count = Counter(Pos_flat_list)\n",
    "Pos_count = pd.DataFrame.from_dict(Pos_count, orient='index').reset_index().sort_values(by = 0, ascending = False)\n",
    "Pos_count.to_csv('Pos_count.csv')"
   ]
  },
  {
   "cell_type": "code",
   "execution_count": 29,
   "metadata": {},
   "outputs": [],
   "source": [
    "# Fix view Chinese problem \n",
    "from pylab import mpl\n",
    "mpl.rcParams['font.sans-serif'] = ['Microsoft YaHei']    # 指定預設字型:解決plot不能顯示中文問題\n",
    "mpl.rcParams['axes.unicode_minus'] = False "
   ]
  },
  {
   "cell_type": "code",
   "execution_count": 31,
   "metadata": {
    "scrolled": true
   },
   "outputs": [
    {
     "data": {
      "text/plain": [
       "Text(0, 0.5, '總字詞數')"
      ]
     },
     "execution_count": 31,
     "metadata": {},
     "output_type": "execute_result"
    },
    {
     "data": {
      "image/png": "[encoded data removed]",
      "text/plain": [
       "<Figure size 432x288 with 1 Axes>"
      ]
     },
     "metadata": {
      "needs_background": "light"
     },
     "output_type": "display_data"
    }
   ],
   "source": [
    "# Plot the key word num\n",
    "num = []\n",
    "i_num = []\n",
    "for i in range(10,1000):\n",
    "    i_num.append(i)\n",
    "    num.append(Pos_count.loc[Pos_count[0] >i].shape[0])\n",
    "plt.scatter(i_num, num)\n",
    "plt.title('Pos_plot')\n",
    "plt.xlabel(\"字詞出現次數\")\n",
    "plt.ylabel(\"總字詞數\")"
   ]
  },
  {
   "cell_type": "code",
   "execution_count": 64,
   "metadata": {},
   "outputs": [],
   "source": [
    "# Save key word list\n",
    "Pos_count.loc[Pos_count[0] > 100].to_csv('Pos_count_100.csv', encoding = 'big5')"
   ]
  },
  {
   "cell_type": "markdown",
   "metadata": {},
   "source": [
    "### NEG"
   ]
  },
  {
   "cell_type": "code",
   "execution_count": 19,
   "metadata": {},
   "outputs": [],
   "source": [
    "# I_Lan_Pos\n",
    "Neg = []\n",
    "Series = I_Lan_Neg['標題'].map(lambda x: '|'.join(jieba.cut(x, cut_all=False, HMM=True)))\n",
    "for i in Series:\n",
    "    Neg.append(i.split('|'))\n",
    "\n",
    "# Flatten the list\n",
    "Neg_flat_list = [item for sublist in Neg for item in sublist]"
   ]
  },
  {
   "cell_type": "code",
   "execution_count": 20,
   "metadata": {},
   "outputs": [],
   "source": [
    "# 去除單字\n",
    "Neg_flat_list = [i for i in Neg_flat_list if len(i) > 1]"
   ]
  },
  {
   "cell_type": "code",
   "execution_count": 21,
   "metadata": {},
   "outputs": [],
   "source": [
    "# 減少連接、無義字詞\n",
    "DEL = ['雖然','怎麼','真的','我們','可以','希望','並非','還將']\n",
    "Neg_flat_list = [j for i, j in enumerate(Neg_flat_list) if j not in DEL]"
   ]
  },
  {
   "cell_type": "code",
   "execution_count": 22,
   "metadata": {},
   "outputs": [],
   "source": [
    "# Stats of Neg\n",
    "Neg_count = Counter(Neg_flat_list)\n",
    "Neg_count = pd.DataFrame.from_dict(Neg_count, orient='index').reset_index().sort_values(by = 0, ascending = False)\n",
    "Neg_count.to_csv('Neg_count.csv')"
   ]
  },
  {
   "cell_type": "code",
   "execution_count": 32,
   "metadata": {},
   "outputs": [
    {
     "data": {
      "text/plain": [
       "Text(0, 0.5, '總字詞數')"
      ]
     },
     "execution_count": 32,
     "metadata": {},
     "output_type": "execute_result"
    },
    {
     "data": {
      "image/png": "[encoded data removed]",
      "text/plain": [
       "<Figure size 432x288 with 1 Axes>"
      ]
     },
     "metadata": {
      "needs_background": "light"
     },
     "output_type": "display_data"
    }
   ],
   "source": [
    "# Plot the key word num\n",
    "num = []\n",
    "i_num = []\n",
    "for i in range(10,1000):\n",
    "    i_num.append(i)\n",
    "    num.append(Neg_count.loc[Neg_count[0] >i].shape[0])\n",
    "plt.scatter(i_num, num)\n",
    "plt.title('Neg_plot')\n",
    "plt.xlabel(\"字詞出現次數\")\n",
    "plt.ylabel(\"總字詞數\")"
   ]
  },
  {
   "cell_type": "code",
   "execution_count": 68,
   "metadata": {},
   "outputs": [],
   "source": [
    "# Save key word list\n",
    "Neg_count.loc[Neg_count[0] > 100].to_csv('Neg_count_100.csv', encoding = 'utf8')"
   ]
  }
 ],
 "metadata": {
  "kernelspec": {
   "display_name": "Python 3",
   "language": "python",
   "name": "python3"
  },
  "language_info": {
   "codemirror_mode": {
    "name": "ipython",
    "version": 3
   },
   "file_extension": ".py",
   "mimetype": "text/x-python",
   "name": "python",
   "nbconvert_exporter": "python",
   "pygments_lexer": "ipython3",
   "version": "3.7.6"
  }
 },
 "nbformat": 4,
 "nbformat_minor": 4
}
