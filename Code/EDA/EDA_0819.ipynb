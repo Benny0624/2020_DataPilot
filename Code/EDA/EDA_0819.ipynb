{
 "cells": [
  {
   "cell_type": "markdown",
   "metadata": {},
   "source": [
    "## Import Data"
   ]
  },
  {
   "cell_type": "code",
   "execution_count": 1,
   "metadata": {},
   "outputs": [],
   "source": [
    "# Import package\n",
    "import pandas as pd\n",
    "import numpy as np\n",
    "import matplotlib.pyplot as plt\n",
    "import os"
   ]
  },
  {
   "cell_type": "code",
   "execution_count": 2,
   "metadata": {
    "scrolled": true
   },
   "outputs": [
    {
     "name": "stdout",
     "output_type": "stream",
     "text": [
      "C:\\Users\\User\\Desktop\\2020_DataPilot\\Code\n"
     ]
    }
   ],
   "source": [
    "# print current working directory\n",
    "print(os.getcwd())"
   ]
  },
  {
   "cell_type": "code",
   "execution_count": 3,
   "metadata": {},
   "outputs": [
    {
     "name": "stdout",
     "output_type": "stream",
     "text": [
      "C:\\Users\\User\\Desktop\\2020_DataPilot\\Data\n"
     ]
    }
   ],
   "source": [
    "# Change working directory\n",
    "os.chdir('C:\\\\Users\\\\User\\\\Desktop\\\\2020_DataPilot\\\\Data') \n",
    "print(os.getcwd())"
   ]
  },
  {
   "cell_type": "code",
   "execution_count": 5,
   "metadata": {},
   "outputs": [
    {
     "data": {
      "text/html": [
       "<div>\n",
       "<style scoped>\n",
       "    .dataframe tbody tr th:only-of-type {\n",
       "        vertical-align: middle;\n",
       "    }\n",
       "\n",
       "    .dataframe tbody tr th {\n",
       "        vertical-align: top;\n",
       "    }\n",
       "\n",
       "    .dataframe thead th {\n",
       "        text-align: right;\n",
       "    }\n",
       "</style>\n",
       "<table border=\"1\" class=\"dataframe\">\n",
       "  <thead>\n",
       "    <tr style=\"text-align: right;\">\n",
       "      <th></th>\n",
       "      <th>member_id</th>\n",
       "      <th>postal_cd</th>\n",
       "      <th>date_cd</th>\n",
       "      <th>prod_id</th>\n",
       "      <th>goods</th>\n",
       "      <th>department</th>\n",
       "      <th>index</th>\n",
       "      <th>prod_Q</th>\n",
       "      <th>price</th>\n",
       "      <th>MSRP</th>\n",
       "    </tr>\n",
       "  </thead>\n",
       "  <tbody>\n",
       "    <tr>\n",
       "      <th>0</th>\n",
       "      <td>15416142</td>\n",
       "      <td>831</td>\n",
       "      <td>day1</td>\n",
       "      <td>QAAD70-A9006TWM5-000</td>\n",
       "      <td>HP Officejet 7110 A3+ 網路高速印表機</td>\n",
       "      <td>3C</td>\n",
       "      <td>列 印</td>\n",
       "      <td>1</td>\n",
       "      <td>6490</td>\n",
       "      <td>NaN</td>\n",
       "    </tr>\n",
       "    <tr>\n",
       "      <th>1</th>\n",
       "      <td>4663689</td>\n",
       "      <td>600</td>\n",
       "      <td>day1</td>\n",
       "      <td>QFAXAS-A900A38S1-001</td>\n",
       "      <td>【HappyLife】桌上型微波爐架/烤箱置物架  (YV9799)</td>\n",
       "      <td>生活</td>\n",
       "      <td>衛浴</td>\n",
       "      <td>1</td>\n",
       "      <td>599</td>\n",
       "      <td>NaN</td>\n",
       "    </tr>\n",
       "    <tr>\n",
       "      <th>2</th>\n",
       "      <td>8097088</td>\n",
       "      <td>815</td>\n",
       "      <td>day1</td>\n",
       "      <td>QFAAJY-A9009W99R-000</td>\n",
       "      <td>【dayneeds】輕型 45x45x160cm 四層電鍍波浪收納鐵架</td>\n",
       "      <td>生活</td>\n",
       "      <td>傢俱</td>\n",
       "      <td>1</td>\n",
       "      <td>927</td>\n",
       "      <td>1359.0</td>\n",
       "    </tr>\n",
       "    <tr>\n",
       "      <th>3</th>\n",
       "      <td>15317712</td>\n",
       "      <td>708</td>\n",
       "      <td>day1</td>\n",
       "      <td>QAAS33-A900A7SR4-002</td>\n",
       "      <td>任天堂 Switch Joy-Con 四合一鋁合金 手把充電座(兩色可選)</td>\n",
       "      <td>3C</td>\n",
       "      <td>電 玩</td>\n",
       "      <td>1</td>\n",
       "      <td>690</td>\n",
       "      <td>990.0</td>\n",
       "    </tr>\n",
       "    <tr>\n",
       "      <th>4</th>\n",
       "      <td>15438512</td>\n",
       "      <td>704</td>\n",
       "      <td>day1</td>\n",
       "      <td>CGAACT-A80423382-005</td>\n",
       "      <td>車用攝影鏡頭</td>\n",
       "      <td>運動戶外</td>\n",
       "      <td>汽百/記錄器</td>\n",
       "      <td>1</td>\n",
       "      <td>1055</td>\n",
       "      <td>1600.0</td>\n",
       "    </tr>\n",
       "  </tbody>\n",
       "</table>\n",
       "</div>"
      ],
      "text/plain": [
       "   member_id  postal_cd date_cd               prod_id  \\\n",
       "0   15416142        831    day1  QAAD70-A9006TWM5-000   \n",
       "1    4663689        600    day1  QFAXAS-A900A38S1-001   \n",
       "2    8097088        815    day1  QFAAJY-A9009W99R-000   \n",
       "3   15317712        708    day1  QAAS33-A900A7SR4-002   \n",
       "4   15438512        704    day1  CGAACT-A80423382-005   \n",
       "\n",
       "                                   goods department   index  prod_Q  price  \\\n",
       "0          HP Officejet 7110 A3+ 網路高速印表機         3C     列 印       1   6490   \n",
       "1     【HappyLife】桌上型微波爐架/烤箱置物架  (YV9799)         生活      衛浴       1    599   \n",
       "2    【dayneeds】輕型 45x45x160cm 四層電鍍波浪收納鐵架         生活      傢俱       1    927   \n",
       "3  任天堂 Switch Joy-Con 四合一鋁合金 手把充電座(兩色可選)         3C     電 玩       1    690   \n",
       "4                                 車用攝影鏡頭       運動戶外  汽百/記錄器       1   1055   \n",
       "\n",
       "     MSRP  \n",
       "0     NaN  \n",
       "1     NaN  \n",
       "2  1359.0  \n",
       "3   990.0  \n",
       "4  1600.0  "
      ]
     },
     "execution_count": 5,
     "metadata": {},
     "output_type": "execute_result"
    }
   ],
   "source": [
    "#Import data\n",
    "Full_PChome = pd.read_excel('2020datapilot_PChome.xlsx')\n",
    "# Rename columns\n",
    "Full_PChome = Full_PChome.rename(columns={\"消費者編號(member_id) \" : \"member_id\", \"郵遞區號(postal_cd)\" : \"postal_cd\",\\\n",
    "                                        \"訂單日期(date_cd)\" : \"date_cd\",\"商品編號(prod_id)\" : \"prod_id\",\\\n",
    "                                        \"商品名稱(goods)\" : \"goods\",\"商品類別(department)\" : \"department\",\\\n",
    "                                        \"商品專區(index)\" : \"index\",\"商品數量(prod_Q)\" : \"prod_Q\",\\\n",
    "                                        \"商品單價(price)\" : \"price\",\"建議售價(MSRP)\" : \"MSRP\"})\n",
    "Full_PChome.head()"
   ]
  },
  {
   "cell_type": "code",
   "execution_count": 6,
   "metadata": {},
   "outputs": [
    {
     "name": "stdout",
     "output_type": "stream",
     "text": [
      "<class 'pandas.core.frame.DataFrame'>\n",
      "RangeIndex: 60000 entries, 0 to 59999\n",
      "Data columns (total 10 columns):\n",
      " #   Column      Non-Null Count  Dtype  \n",
      "---  ------      --------------  -----  \n",
      " 0   member_id   60000 non-null  int64  \n",
      " 1   postal_cd   60000 non-null  int64  \n",
      " 2   date_cd     60000 non-null  object \n",
      " 3   prod_id     60000 non-null  object \n",
      " 4   goods       59998 non-null  object \n",
      " 5   department  60000 non-null  object \n",
      " 6   index       60000 non-null  object \n",
      " 7   prod_Q      60000 non-null  int64  \n",
      " 8   price       60000 non-null  int64  \n",
      " 9   MSRP        46436 non-null  float64\n",
      "dtypes: float64(1), int64(4), object(5)\n",
      "memory usage: 4.6+ MB\n"
     ]
    }
   ],
   "source": [
    "# Full_PChome info\n",
    "Full_PChome.info()"
   ]
  },
  {
   "cell_type": "code",
   "execution_count": 15,
   "metadata": {},
   "outputs": [
    {
     "data": {
      "text/html": [
       "<div>\n",
       "<style scoped>\n",
       "    .dataframe tbody tr th:only-of-type {\n",
       "        vertical-align: middle;\n",
       "    }\n",
       "\n",
       "    .dataframe tbody tr th {\n",
       "        vertical-align: top;\n",
       "    }\n",
       "\n",
       "    .dataframe thead th {\n",
       "        text-align: right;\n",
       "    }\n",
       "</style>\n",
       "<table border=\"1\" class=\"dataframe\">\n",
       "  <thead>\n",
       "    <tr style=\"text-align: right;\">\n",
       "      <th></th>\n",
       "      <th>prod_Q</th>\n",
       "      <th>price</th>\n",
       "      <th>MSRP</th>\n",
       "    </tr>\n",
       "  </thead>\n",
       "  <tbody>\n",
       "    <tr>\n",
       "      <th>count</th>\n",
       "      <td>60000.0</td>\n",
       "      <td>60000.0</td>\n",
       "      <td>46436.0</td>\n",
       "    </tr>\n",
       "    <tr>\n",
       "      <th>mean</th>\n",
       "      <td>1.2</td>\n",
       "      <td>3507.7</td>\n",
       "      <td>4636.5</td>\n",
       "    </tr>\n",
       "    <tr>\n",
       "      <th>std</th>\n",
       "      <td>1.1</td>\n",
       "      <td>17366.7</td>\n",
       "      <td>10952.0</td>\n",
       "    </tr>\n",
       "    <tr>\n",
       "      <th>min</th>\n",
       "      <td>1.0</td>\n",
       "      <td>0.0</td>\n",
       "      <td>1.0</td>\n",
       "    </tr>\n",
       "    <tr>\n",
       "      <th>25%</th>\n",
       "      <td>1.0</td>\n",
       "      <td>490.0</td>\n",
       "      <td>750.0</td>\n",
       "    </tr>\n",
       "    <tr>\n",
       "      <th>50%</th>\n",
       "      <td>1.0</td>\n",
       "      <td>990.0</td>\n",
       "      <td>1599.0</td>\n",
       "    </tr>\n",
       "    <tr>\n",
       "      <th>75%</th>\n",
       "      <td>1.0</td>\n",
       "      <td>2699.0</td>\n",
       "      <td>3699.0</td>\n",
       "    </tr>\n",
       "    <tr>\n",
       "      <th>max</th>\n",
       "      <td>20.0</td>\n",
       "      <td>2580000.0</td>\n",
       "      <td>281000.0</td>\n",
       "    </tr>\n",
       "  </tbody>\n",
       "</table>\n",
       "</div>"
      ],
      "text/plain": [
       "       prod_Q     price     MSRP\n",
       "count 60000.0   60000.0  46436.0\n",
       "mean      1.2    3507.7   4636.5\n",
       "std       1.1   17366.7  10952.0\n",
       "min       1.0       0.0      1.0\n",
       "25%       1.0     490.0    750.0\n",
       "50%       1.0     990.0   1599.0\n",
       "75%       1.0    2699.0   3699.0\n",
       "max      20.0 2580000.0 281000.0"
      ]
     },
     "execution_count": 15,
     "metadata": {},
     "output_type": "execute_result"
    }
   ],
   "source": [
    "# Full_PChome continuous variable describe\n",
    "pd.set_option('float_format', '{:.1f}'.format)\n",
    "Full_PChome.iloc[:,-3:].describe()"
   ]
  },
  {
   "cell_type": "code",
   "execution_count": 29,
   "metadata": {},
   "outputs": [
    {
     "data": {
      "text/plain": [
       "<matplotlib.axes._subplots.AxesSubplot at 0x257ed6ded08>"
      ]
     },
     "execution_count": 29,
     "metadata": {},
     "output_type": "execute_result"
    },
    {
     "data": {
      "image/png": "[encoded data removed]",
      "text/plain": [
       "<Figure size 432x288 with 1 Axes>"
      ]
     },
     "metadata": {
      "needs_background": "light"
     },
     "output_type": "display_data"
    }
   ],
   "source": [
    "# Full_PChome continuous variable box plot\n",
    "Full_PChome.iloc[:,-3:].plot(kind = 'box', title = 'quant, price, MSRP')"
   ]
  },
  {
   "cell_type": "code",
   "execution_count": 13,
   "metadata": {},
   "outputs": [],
   "source": [
    "# Outliers (not within 1.5 IQR)\n",
    "def Outlier(S1):\n",
    "    Q1 = np.percentile(S1, 25)\n",
    "    Q3 = np.percentile(S1, 75)\n",
    "    step = 1.5*(Q3 - Q1)\n",
    "    Outlier_Index = ~((S1 >= Q1 - step)&(S1 <= Q3 + step))\n",
    "    return Outlier_Index"
   ]
  },
  {
   "cell_type": "code",
   "execution_count": 28,
   "metadata": {},
   "outputs": [
    {
     "name": "stdout",
     "output_type": "stream",
     "text": [
      "Price Outlier proportion = 0.13\n"
     ]
    },
    {
     "data": {
      "image/png": "[encoded data removed]",
      "text/plain": [
       "<Figure size 432x288 with 1 Axes>"
      ]
     },
     "metadata": {
      "needs_background": "light"
     },
     "output_type": "display_data"
    }
   ],
   "source": [
    "# Plot price without outliers\n",
    "Full_PChome['price'].loc[~Outlier(Full_PChome['price'])].plot(kind = 'box',title = 'price without outliers')\n",
    "print('Price Outlier proportion = %s'%round(Outlier(Full_PChome['price']).sum()/Full_PChome['price'].count(),2))"
   ]
  },
  {
   "cell_type": "markdown",
   "metadata": {},
   "source": [
    "## Day analysis"
   ]
  },
  {
   "cell_type": "code",
   "execution_count": 12,
   "metadata": {},
   "outputs": [
    {
     "name": "stdout",
     "output_type": "stream",
     "text": [
      "['day1' 'day2' 'day3' 'day4' 'day5' 'day6' 'day7' 'day8' 'day9' 'day10'\n",
      " 'day11' 'day12' 'day13' 'day14' 'day15' 'day16' 'day17' 'day18' 'day19'\n",
      " 'day20' 'day21' 'day22' 'day23' 'day24' 'day25' 'day26' 'day27' 'day28'\n",
      " 'day29' 'day30' 'day31' 'day32' 'day33' 'day34' 'day35' 'day36' 'day37'\n",
      " 'day38' 'day39' 'day40' 'day41' 'day42' 'day43' 'day44' 'day45' 'day46'\n",
      " 'day47' 'day48' 'day49' 'day50' 'day51' 'day52' 'day53' 'day54' 'day55'\n",
      " 'day56' 'day57' 'day58' 'day59' 'day60' 'day61' 'day62' 'day63' 'day64'\n",
      " 'day65' 'day66' 'day67' 'day68' 'day69' 'day70' 'day71' 'day72' 'day73'\n",
      " 'day74' 'day75' 'day76' 'day77' 'day78' 'day79' 'day80' 'day81' 'day82'\n",
      " 'day83' 'day84' 'day85' 'day86' 'day87' 'day88' 'day89' 'day90' 'day91'\n",
      " 'day92'] \n",
      "Unique count of Ticker: 92\n"
     ]
    }
   ],
   "source": [
    "# date_cd unique\n",
    "print(Full_PChome['date_cd'].unique(),'\\nUnique count of day:',Full_PChome['date_cd'].nunique())"
   ]
  },
  {
   "cell_type": "code",
   "execution_count": 44,
   "metadata": {},
   "outputs": [
    {
     "data": {
      "text/html": [
       "<div>\n",
       "<style scoped>\n",
       "    .dataframe tbody tr th:only-of-type {\n",
       "        vertical-align: middle;\n",
       "    }\n",
       "\n",
       "    .dataframe tbody tr th {\n",
       "        vertical-align: top;\n",
       "    }\n",
       "\n",
       "    .dataframe thead th {\n",
       "        text-align: right;\n",
       "    }\n",
       "</style>\n",
       "<table border=\"1\" class=\"dataframe\">\n",
       "  <thead>\n",
       "    <tr style=\"text-align: right;\">\n",
       "      <th></th>\n",
       "      <th>date_cd</th>\n",
       "    </tr>\n",
       "  </thead>\n",
       "  <tbody>\n",
       "    <tr>\n",
       "      <th>count</th>\n",
       "      <td>92.0</td>\n",
       "    </tr>\n",
       "    <tr>\n",
       "      <th>mean</th>\n",
       "      <td>652.2</td>\n",
       "    </tr>\n",
       "    <tr>\n",
       "      <th>std</th>\n",
       "      <td>284.2</td>\n",
       "    </tr>\n",
       "    <tr>\n",
       "      <th>min</th>\n",
       "      <td>416.0</td>\n",
       "    </tr>\n",
       "    <tr>\n",
       "      <th>25%</th>\n",
       "      <td>525.5</td>\n",
       "    </tr>\n",
       "    <tr>\n",
       "      <th>50%</th>\n",
       "      <td>603.5</td>\n",
       "    </tr>\n",
       "    <tr>\n",
       "      <th>75%</th>\n",
       "      <td>693.2</td>\n",
       "    </tr>\n",
       "    <tr>\n",
       "      <th>max</th>\n",
       "      <td>2526.0</td>\n",
       "    </tr>\n",
       "  </tbody>\n",
       "</table>\n",
       "</div>"
      ],
      "text/plain": [
       "       date_cd\n",
       "count     92.0\n",
       "mean     652.2\n",
       "std      284.2\n",
       "min      416.0\n",
       "25%      525.5\n",
       "50%      603.5\n",
       "75%      693.2\n",
       "max     2526.0"
      ]
     },
     "execution_count": 44,
     "metadata": {},
     "output_type": "execute_result"
    }
   ],
   "source": [
    "# date_cd Frequency table describe\n",
    "pd.value_counts(Full_PChome['date_cd']).to_frame().reset_index().describe()"
   ]
  },
  {
   "cell_type": "code",
   "execution_count": 22,
   "metadata": {},
   "outputs": [
    {
     "data": {
      "text/plain": [
       "Text(82, 2215, '2019.12.27')"
      ]
     },
     "execution_count": 22,
     "metadata": {},
     "output_type": "execute_result"
    },
    {
     "data": {
      "image/png": "[encoded data removed]",
      "text/plain": [
       "<Figure size 1440x720 with 1 Axes>"
      ]
     },
     "metadata": {
      "needs_background": "light"
     },
     "output_type": "display_data"
    }
   ],
   "source": [
    "# date_cd Frequency table plot\n",
    "date_cd_f = pd.value_counts(Full_PChome['date_cd']).to_frame().reset_index()\n",
    "date_cd_f['day_no'] = date_cd_f['index'].str.split('y', expand = True)[1].astype('int')\n",
    "date_cd_f = date_cd_f.drop(['index'], axis = 1)\n",
    "date_cd_f = date_cd_f.sort_values(by = 'day_no').set_index('day_no')\n",
    "ax = date_cd_f.plot(kind = 'bar',color = [np.where(date_cd_f[\"date_cd\"]>693, 'r', 'b')],figsize = (20,10))\n",
    "ax.annotate('2019.11.11', xy=(34, 2500), xytext=(36, 2515),arrowprops=dict(facecolor='black', shrink=0.05))\n",
    "ax.annotate('2019.12.27', xy=(80, 2200), xytext=(82, 2215),arrowprops=dict(facecolor='black', shrink=0.05))"
   ]
  },
  {
   "cell_type": "code",
   "execution_count": 6,
   "metadata": {},
   "outputs": [
    {
     "data": {
      "text/html": [
       "<div>\n",
       "<style scoped>\n",
       "    .dataframe tbody tr th:only-of-type {\n",
       "        vertical-align: middle;\n",
       "    }\n",
       "\n",
       "    .dataframe tbody tr th {\n",
       "        vertical-align: top;\n",
       "    }\n",
       "\n",
       "    .dataframe thead th {\n",
       "        text-align: right;\n",
       "    }\n",
       "</style>\n",
       "<table border=\"1\" class=\"dataframe\">\n",
       "  <thead>\n",
       "    <tr style=\"text-align: right;\">\n",
       "      <th></th>\n",
       "      <th>member_id</th>\n",
       "      <th>postal_cd</th>\n",
       "      <th>date_cd</th>\n",
       "      <th>prod_id</th>\n",
       "      <th>goods</th>\n",
       "      <th>department</th>\n",
       "      <th>index</th>\n",
       "      <th>prod_Q</th>\n",
       "      <th>price</th>\n",
       "      <th>MSRP</th>\n",
       "      <th>date_create</th>\n",
       "    </tr>\n",
       "  </thead>\n",
       "  <tbody>\n",
       "    <tr>\n",
       "      <th>0</th>\n",
       "      <td>15416142</td>\n",
       "      <td>831</td>\n",
       "      <td>day1</td>\n",
       "      <td>QAAD70-A9006TWM5-000</td>\n",
       "      <td>HP Officejet 7110 A3+ 網路高速印表機</td>\n",
       "      <td>3C</td>\n",
       "      <td>列 印</td>\n",
       "      <td>1</td>\n",
       "      <td>6490</td>\n",
       "      <td>NaN</td>\n",
       "      <td>2019-10-09</td>\n",
       "    </tr>\n",
       "    <tr>\n",
       "      <th>1</th>\n",
       "      <td>4663689</td>\n",
       "      <td>600</td>\n",
       "      <td>day1</td>\n",
       "      <td>QFAXAS-A900A38S1-001</td>\n",
       "      <td>【HappyLife】桌上型微波爐架/烤箱置物架  (YV9799)</td>\n",
       "      <td>生活</td>\n",
       "      <td>衛浴</td>\n",
       "      <td>1</td>\n",
       "      <td>599</td>\n",
       "      <td>NaN</td>\n",
       "      <td>2019-10-09</td>\n",
       "    </tr>\n",
       "    <tr>\n",
       "      <th>2</th>\n",
       "      <td>8097088</td>\n",
       "      <td>815</td>\n",
       "      <td>day1</td>\n",
       "      <td>QFAAJY-A9009W99R-000</td>\n",
       "      <td>【dayneeds】輕型 45x45x160cm 四層電鍍波浪收納鐵架</td>\n",
       "      <td>生活</td>\n",
       "      <td>傢俱</td>\n",
       "      <td>1</td>\n",
       "      <td>927</td>\n",
       "      <td>1359.0</td>\n",
       "      <td>2019-10-09</td>\n",
       "    </tr>\n",
       "    <tr>\n",
       "      <th>3</th>\n",
       "      <td>15317712</td>\n",
       "      <td>708</td>\n",
       "      <td>day1</td>\n",
       "      <td>QAAS33-A900A7SR4-002</td>\n",
       "      <td>任天堂 Switch Joy-Con 四合一鋁合金 手把充電座(兩色可選)</td>\n",
       "      <td>3C</td>\n",
       "      <td>電 玩</td>\n",
       "      <td>1</td>\n",
       "      <td>690</td>\n",
       "      <td>990.0</td>\n",
       "      <td>2019-10-09</td>\n",
       "    </tr>\n",
       "    <tr>\n",
       "      <th>4</th>\n",
       "      <td>15438512</td>\n",
       "      <td>704</td>\n",
       "      <td>day1</td>\n",
       "      <td>CGAACT-A80423382-005</td>\n",
       "      <td>車用攝影鏡頭</td>\n",
       "      <td>運動戶外</td>\n",
       "      <td>汽百/記錄器</td>\n",
       "      <td>1</td>\n",
       "      <td>1055</td>\n",
       "      <td>1600.0</td>\n",
       "      <td>2019-10-09</td>\n",
       "    </tr>\n",
       "  </tbody>\n",
       "</table>\n",
       "</div>"
      ],
      "text/plain": [
       "   member_id  postal_cd date_cd               prod_id  \\\n",
       "0   15416142        831    day1  QAAD70-A9006TWM5-000   \n",
       "1    4663689        600    day1  QFAXAS-A900A38S1-001   \n",
       "2    8097088        815    day1  QFAAJY-A9009W99R-000   \n",
       "3   15317712        708    day1  QAAS33-A900A7SR4-002   \n",
       "4   15438512        704    day1  CGAACT-A80423382-005   \n",
       "\n",
       "                                   goods department   index  prod_Q  price  \\\n",
       "0          HP Officejet 7110 A3+ 網路高速印表機         3C     列 印       1   6490   \n",
       "1     【HappyLife】桌上型微波爐架/烤箱置物架  (YV9799)         生活      衛浴       1    599   \n",
       "2    【dayneeds】輕型 45x45x160cm 四層電鍍波浪收納鐵架         生活      傢俱       1    927   \n",
       "3  任天堂 Switch Joy-Con 四合一鋁合金 手把充電座(兩色可選)         3C     電 玩       1    690   \n",
       "4                                 車用攝影鏡頭       運動戶外  汽百/記錄器       1   1055   \n",
       "\n",
       "     MSRP date_create  \n",
       "0     NaN  2019-10-09  \n",
       "1     NaN  2019-10-09  \n",
       "2  1359.0  2019-10-09  \n",
       "3   990.0  2019-10-09  \n",
       "4  1600.0  2019-10-09  "
      ]
     },
     "execution_count": 6,
     "metadata": {},
     "output_type": "execute_result"
    }
   ],
   "source": [
    "#Import data\n",
    "Date_Map = pd.read_csv('Date_Map.csv')\n",
    "\n",
    "# Merge date\n",
    "Full_PChome = Full_PChome.merge(Date_Map, how = 'left')\n",
    "Full_PChome['date_create'] = pd.to_datetime(Full_PChome['date_create'])\n",
    "Full_PChome.head()"
   ]
  },
  {
   "cell_type": "markdown",
   "metadata": {},
   "source": [
    "## Goods Analysis"
   ]
  },
  {
   "cell_type": "code",
   "execution_count": 7,
   "metadata": {},
   "outputs": [],
   "source": [
    "# Fix view Chinese problem \n",
    "from pylab import mpl\n",
    "mpl.rcParams['font.sans-serif'] = ['Microsoft YaHei']    # 指定預設字型:解決plot不能顯示中文問題\n",
    "mpl.rcParams['axes.unicode_minus'] = False           # 解決儲存影象是負號'-'顯示為方塊的問題"
   ]
  },
  {
   "cell_type": "code",
   "execution_count": 15,
   "metadata": {},
   "outputs": [],
   "source": [
    "# Trim Whitespace in cols\n",
    "Full_PChome['department'] = Full_PChome['department'].str.strip()\n",
    "Full_PChome['index'] = Full_PChome['index'].str.strip()\n",
    "Full_PChome['goods'] = Full_PChome['goods'].str.strip()"
   ]
  },
  {
   "cell_type": "code",
   "execution_count": 7,
   "metadata": {},
   "outputs": [
    {
     "name": "stdout",
     "output_type": "stream",
     "text": [
      "department Amount :13\n"
     ]
    }
   ],
   "source": [
    "# department Amount\n",
    "print('department Amount :%s'%(Full_PChome['department'].nunique()))"
   ]
  },
  {
   "cell_type": "markdown",
   "metadata": {},
   "source": [
    "#### Department"
   ]
  },
  {
   "cell_type": "code",
   "execution_count": 12,
   "metadata": {},
   "outputs": [],
   "source": [
    "# Create Price*Quantity\n",
    "Full_PChome['P_Q'] = Full_PChome['prod_Q'] * Full_PChome['price']"
   ]
  },
  {
   "cell_type": "code",
   "execution_count": 16,
   "metadata": {},
   "outputs": [
    {
     "data": {
      "text/plain": [
       "<matplotlib.axes._subplots.AxesSubplot at 0x1b5b8c09dc0>"
      ]
     },
     "execution_count": 16,
     "metadata": {},
     "output_type": "execute_result"
    },
    {
     "data": {
      "image/png": "[encoded data removed]",
      "text/plain": [
       "<Figure size 1080x360 with 1 Axes>"
      ]
     },
     "metadata": {
      "needs_background": "light"
     },
     "output_type": "display_data"
    }
   ],
   "source": [
    "# Create Price*Quantity\n",
    "Full_PChome['P_Q'] = Full_PChome['prod_Q'] * Full_PChome['price']\n",
    "\n",
    "# Group by department\n",
    "df_gp = Full_PChome.groupby('department').sum()['P_Q'].map(lambda x: round(x,2))\n",
    "df_gp.sort_values(ascending=True).plot(kind = 'barh',figsize = (15,5), title = 'Department Sales')"
   ]
  },
  {
   "cell_type": "markdown",
   "metadata": {},
   "source": [
    "#### Department, Index"
   ]
  },
  {
   "cell_type": "code",
   "execution_count": 18,
   "metadata": {},
   "outputs": [
    {
     "name": "stdout",
     "output_type": "stream",
     "text": [
      "index Amount :193\n"
     ]
    }
   ],
   "source": [
    "# index Amount\n",
    "print('index Amount :%s'%(Full_PChome['index'].nunique()))"
   ]
  },
  {
   "cell_type": "code",
   "execution_count": 38,
   "metadata": {},
   "outputs": [
    {
     "data": {
      "text/html": [
       "<div>\n",
       "<style scoped>\n",
       "    .dataframe tbody tr th:only-of-type {\n",
       "        vertical-align: middle;\n",
       "    }\n",
       "\n",
       "    .dataframe tbody tr th {\n",
       "        vertical-align: top;\n",
       "    }\n",
       "\n",
       "    .dataframe thead th {\n",
       "        text-align: right;\n",
       "    }\n",
       "</style>\n",
       "<table border=\"1\" class=\"dataframe\">\n",
       "  <thead>\n",
       "    <tr style=\"text-align: right;\">\n",
       "      <th></th>\n",
       "      <th></th>\n",
       "      <th>P_Q</th>\n",
       "    </tr>\n",
       "    <tr>\n",
       "      <th>department</th>\n",
       "      <th>index</th>\n",
       "      <th></th>\n",
       "    </tr>\n",
       "  </thead>\n",
       "  <tbody>\n",
       "    <tr>\n",
       "      <th rowspan=\"2\" valign=\"top\">3C</th>\n",
       "      <th>預購</th>\n",
       "      <td>25850454</td>\n",
       "    </tr>\n",
       "    <tr>\n",
       "      <th>筆記電腦</th>\n",
       "      <td>15646210</td>\n",
       "    </tr>\n",
       "    <tr>\n",
       "      <th>運動戶外</th>\n",
       "      <th>機車/部品</th>\n",
       "      <td>14035073</td>\n",
       "    </tr>\n",
       "    <tr>\n",
       "      <th>3C</th>\n",
       "      <th>智慧手機</th>\n",
       "      <td>9938816</td>\n",
       "    </tr>\n",
       "    <tr>\n",
       "      <th>生活</th>\n",
       "      <th>傢俱</th>\n",
       "      <td>9881373</td>\n",
       "    </tr>\n",
       "    <tr>\n",
       "      <th>家電</th>\n",
       "      <th>音響劇院</th>\n",
       "      <td>8758441</td>\n",
       "    </tr>\n",
       "    <tr>\n",
       "      <th>3C</th>\n",
       "      <th>南紡3C</th>\n",
       "      <td>6335838</td>\n",
       "    </tr>\n",
       "    <tr>\n",
       "      <th>家電</th>\n",
       "      <th>液晶電視</th>\n",
       "      <td>6163750</td>\n",
       "    </tr>\n",
       "    <tr>\n",
       "      <th>時尚</th>\n",
       "      <th>瑞士錶</th>\n",
       "      <td>5901772</td>\n",
       "    </tr>\n",
       "    <tr>\n",
       "      <th rowspan=\"2\" valign=\"top\">家電</th>\n",
       "      <th>電器商城</th>\n",
       "      <td>5504695</td>\n",
       "    </tr>\n",
       "    <tr>\n",
       "      <th>南紡家電</th>\n",
       "      <td>3964985</td>\n",
       "    </tr>\n",
       "    <tr>\n",
       "      <th>3C</th>\n",
       "      <th>三井3C</th>\n",
       "      <td>3945865</td>\n",
       "    </tr>\n",
       "    <tr>\n",
       "      <th>時尚</th>\n",
       "      <th>黃金</th>\n",
       "      <td>3552123</td>\n",
       "    </tr>\n",
       "    <tr>\n",
       "      <th>家電</th>\n",
       "      <th>廚房家電</th>\n",
       "      <td>3307247</td>\n",
       "    </tr>\n",
       "    <tr>\n",
       "      <th>生活</th>\n",
       "      <th>燈飾</th>\n",
       "      <td>3282973</td>\n",
       "    </tr>\n",
       "    <tr>\n",
       "      <th rowspan=\"2\" valign=\"top\">3C</th>\n",
       "      <th>數位相機</th>\n",
       "      <td>2939060</td>\n",
       "    </tr>\n",
       "    <tr>\n",
       "      <th>藍牙/耳機</th>\n",
       "      <td>2828226</td>\n",
       "    </tr>\n",
       "    <tr>\n",
       "      <th>生活</th>\n",
       "      <th>衛浴</th>\n",
       "      <td>2627474</td>\n",
       "    </tr>\n",
       "    <tr>\n",
       "      <th>3C</th>\n",
       "      <th>列 印</th>\n",
       "      <td>2610888</td>\n",
       "    </tr>\n",
       "    <tr>\n",
       "      <th>家電</th>\n",
       "      <th>冰箱</th>\n",
       "      <td>2566137</td>\n",
       "    </tr>\n",
       "  </tbody>\n",
       "</table>\n",
       "</div>"
      ],
      "text/plain": [
       "                       P_Q\n",
       "department index          \n",
       "3C         預購     25850454\n",
       "           筆記電腦   15646210\n",
       "運動戶外       機車/部品  14035073\n",
       "3C         智慧手機    9938816\n",
       "生活         傢俱      9881373\n",
       "家電         音響劇院    8758441\n",
       "3C         南紡3C    6335838\n",
       "家電         液晶電視    6163750\n",
       "時尚         瑞士錶     5901772\n",
       "家電         電器商城    5504695\n",
       "           南紡家電    3964985\n",
       "3C         三井3C    3945865\n",
       "時尚         黃金      3552123\n",
       "家電         廚房家電    3307247\n",
       "生活         燈飾      3282973\n",
       "3C         數位相機    2939060\n",
       "           藍牙/耳機   2828226\n",
       "生活         衛浴      2627474\n",
       "3C         列 印     2610888\n",
       "家電         冰箱      2566137"
      ]
     },
     "execution_count": 38,
     "metadata": {},
     "output_type": "execute_result"
    }
   ],
   "source": [
    "# Group by department, index\n",
    "df_gp = Full_PChome.groupby(['department', 'index']).sum()['P_Q'].map(lambda x: round(x,2))\n",
    "\n",
    "# Top 20 index Sales\n",
    "df_gp.sort_values(ascending=False).to_frame().head(20)"
   ]
  },
  {
   "cell_type": "markdown",
   "metadata": {},
   "source": [
    "#### Department, Index, Goods"
   ]
  },
  {
   "cell_type": "code",
   "execution_count": 39,
   "metadata": {},
   "outputs": [
    {
     "name": "stdout",
     "output_type": "stream",
     "text": [
      "index Amount :30913\n"
     ]
    }
   ],
   "source": [
    "# goods Amount\n",
    "print('index Amount :%s'%(Full_PChome['goods'].nunique()))"
   ]
  },
  {
   "cell_type": "code",
   "execution_count": 40,
   "metadata": {},
   "outputs": [
    {
     "data": {
      "text/html": [
       "<div>\n",
       "<style scoped>\n",
       "    .dataframe tbody tr th:only-of-type {\n",
       "        vertical-align: middle;\n",
       "    }\n",
       "\n",
       "    .dataframe tbody tr th {\n",
       "        vertical-align: top;\n",
       "    }\n",
       "\n",
       "    .dataframe thead th {\n",
       "        text-align: right;\n",
       "    }\n",
       "</style>\n",
       "<table border=\"1\" class=\"dataframe\">\n",
       "  <thead>\n",
       "    <tr style=\"text-align: right;\">\n",
       "      <th></th>\n",
       "      <th></th>\n",
       "      <th></th>\n",
       "      <th>P_Q</th>\n",
       "    </tr>\n",
       "    <tr>\n",
       "      <th>department</th>\n",
       "      <th>index</th>\n",
       "      <th>goods</th>\n",
       "      <th></th>\n",
       "    </tr>\n",
       "  </thead>\n",
       "  <tbody>\n",
       "    <tr>\n",
       "      <th>家電</th>\n",
       "      <th>音響劇院</th>\n",
       "      <th>Audio Valve Challenger 400 單聲道後級擴大機</th>\n",
       "      <td>2580000.0</td>\n",
       "    </tr>\n",
       "    <tr>\n",
       "      <th rowspan=\"3\" valign=\"top\">時尚</th>\n",
       "      <th rowspan=\"3\" valign=\"top\">瑞士錶</th>\n",
       "      <th>ROLEX 勞力士 海使116610LV  專業潛水錶綠水鬼</th>\n",
       "      <td>573000.0</td>\n",
       "    </tr>\n",
       "    <tr>\n",
       "      <th>ROLEX 勞力士126300 Datejust 蠔式恆動易調鏈帶腕錶藍面-41mm</th>\n",
       "      <td>284000.0</td>\n",
       "    </tr>\n",
       "    <tr>\n",
       "      <th>CHANEL 香奈兒 2019新款透背款H5705 38mm 時尚女王鑽面款 Automatic 名媛必備款</th>\n",
       "      <td>232000.0</td>\n",
       "    </tr>\n",
       "    <tr>\n",
       "      <th>運動戶外</th>\n",
       "      <th>Johnson</th>\n",
       "      <th>FUJIIRYOKI 富士醫療器JP-1100按摩椅-米色</th>\n",
       "      <td>228000.0</td>\n",
       "    </tr>\n",
       "    <tr>\n",
       "      <th rowspan=\"4\" valign=\"top\">時尚</th>\n",
       "      <th>黃金</th>\n",
       "      <th>Jove gold 幸運守護神黃金條塊-15公克三塊(共45公克)</th>\n",
       "      <td>199998.0</td>\n",
       "    </tr>\n",
       "    <tr>\n",
       "      <th>瑞士錶</th>\n",
       "      <th>ROLEX 勞力士 116000 熱門藍面3.6.9 36mm 五年保固</th>\n",
       "      <td>194600.0</td>\n",
       "    </tr>\n",
       "    <tr>\n",
       "      <th rowspan=\"2\" valign=\"top\">黃金</th>\n",
       "      <th>Jove Gold 漾金飾 富貴福人黃金男項鍊(約20.20錢)(約2尺/60cm)</th>\n",
       "      <td>186780.0</td>\n",
       "    </tr>\n",
       "    <tr>\n",
       "      <th>Jove gold 幸運守護神黃金條塊-伍台錢三塊(共15台錢)</th>\n",
       "      <td>170832.0</td>\n",
       "    </tr>\n",
       "    <tr>\n",
       "      <th>3C</th>\n",
       "      <th>數位相機</th>\n",
       "      <th>Canon EOS 1DX MarkII 單機身 *(中文平輸)</th>\n",
       "      <td>156900.0</td>\n",
       "    </tr>\n",
       "    <tr>\n",
       "      <th rowspan=\"3\" valign=\"top\">時尚</th>\n",
       "      <th>瑞士錶</th>\n",
       "      <th>Longines 浪琴 Evidenza 典藏系列金馬彩繪限量機械錶 L27068902</th>\n",
       "      <td>153425.0</td>\n",
       "    </tr>\n",
       "    <tr>\n",
       "      <th rowspan=\"2\" valign=\"top\">黃金</th>\n",
       "      <th>煌隆 壹台兩黃金條塊</th>\n",
       "      <td>149998.0</td>\n",
       "    </tr>\n",
       "    <tr>\n",
       "      <th>Taiwan Precious Metals黃金條塊 - 壹台兩</th>\n",
       "      <td>149998.0</td>\n",
       "    </tr>\n",
       "    <tr>\n",
       "      <th>運動戶外</th>\n",
       "      <th>機車/部品</th>\n",
       "      <th>YAMAHA R15 雙碟 155- 全新進口車</th>\n",
       "      <td>149800.0</td>\n",
       "    </tr>\n",
       "    <tr>\n",
       "      <th>時尚</th>\n",
       "      <th>瑞士錶</th>\n",
       "      <th>PANERAI 沛納海LUMINOR BASE LOGO PAM00773</th>\n",
       "      <td>145000.0</td>\n",
       "    </tr>\n",
       "    <tr>\n",
       "      <th rowspan=\"2\" valign=\"top\">運動戶外</th>\n",
       "      <th rowspan=\"2\" valign=\"top\">機車/部品</th>\n",
       "      <th>HONDA CBR150R-全新進口車</th>\n",
       "      <td>145000.0</td>\n",
       "    </tr>\n",
       "    <tr>\n",
       "      <th>SUZUKI GSX R150 跑車版</th>\n",
       "      <td>129999.0</td>\n",
       "    </tr>\n",
       "    <tr>\n",
       "      <th>時尚</th>\n",
       "      <th>黃金</th>\n",
       "      <th>Jove gold 圓滿黃金項鍊(約15.30錢)(約2尺60cm)</th>\n",
       "      <td>129800.0</td>\n",
       "    </tr>\n",
       "    <tr>\n",
       "      <th rowspan=\"2\" valign=\"top\">運動戶外</th>\n",
       "      <th rowspan=\"2\" valign=\"top\">機車/部品</th>\n",
       "      <th>HONDA MSX 125 SF ABS全新進口車 (平行輸入原裝進口)</th>\n",
       "      <td>123600.0</td>\n",
       "    </tr>\n",
       "    <tr>\n",
       "      <th>YAMAHA MT-15 - 全新進口車</th>\n",
       "      <td>123000.0</td>\n",
       "    </tr>\n",
       "  </tbody>\n",
       "</table>\n",
       "</div>"
      ],
      "text/plain": [
       "                                                                             P_Q\n",
       "department index   goods                                                        \n",
       "家電         音響劇院    Audio Valve Challenger 400 單聲道後級擴大機                 2580000.0\n",
       "時尚         瑞士錶     ROLEX 勞力士 海使116610LV  專業潛水錶綠水鬼                       573000.0\n",
       "                   ROLEX 勞力士126300 Datejust 蠔式恆動易調鏈帶腕錶藍面-41mm           284000.0\n",
       "                   CHANEL 香奈兒 2019新款透背款H5705 38mm 時尚女王鑽面款 Automati...   232000.0\n",
       "運動戶外       Johnson FUJIIRYOKI 富士醫療器JP-1100按摩椅-米色                        228000.0\n",
       "時尚         黃金      Jove gold 幸運守護神黃金條塊-15公克三塊(共45公克)                    199998.0\n",
       "           瑞士錶     ROLEX 勞力士 116000 熱門藍面3.6.9 36mm 五年保固                 194600.0\n",
       "           黃金      Jove Gold 漾金飾 富貴福人黃金男項鍊(約20.20錢)(約2尺/60cm)           186780.0\n",
       "                   Jove gold 幸運守護神黃金條塊-伍台錢三塊(共15台錢)                     170832.0\n",
       "3C         數位相機    Canon EOS 1DX MarkII 單機身 *(中文平輸)                     156900.0\n",
       "時尚         瑞士錶     Longines 浪琴 Evidenza 典藏系列金馬彩繪限量機械錶 L27068902         153425.0\n",
       "           黃金      煌隆 壹台兩黃金條塊                                           149998.0\n",
       "                   Taiwan Precious Metals黃金條塊 - 壹台兩                     149998.0\n",
       "運動戶外       機車/部品   YAMAHA R15 雙碟 155- 全新進口車                             149800.0\n",
       "時尚         瑞士錶     PANERAI 沛納海LUMINOR BASE LOGO PAM00773                145000.0\n",
       "運動戶外       機車/部品   HONDA CBR150R-全新進口車                                  145000.0\n",
       "                   SUZUKI GSX R150 跑車版                                  129999.0\n",
       "時尚         黃金      Jove gold 圓滿黃金項鍊(約15.30錢)(約2尺60cm)                   129800.0\n",
       "運動戶外       機車/部品   HONDA MSX 125 SF ABS全新進口車 (平行輸入原裝進口)                 123600.0\n",
       "                   YAMAHA MT-15 - 全新進口車                                 123000.0"
      ]
     },
     "execution_count": 40,
     "metadata": {},
     "output_type": "execute_result"
    }
   ],
   "source": [
    "# Group by department, index, goods\n",
    "df_gp = Full_PChome.groupby(['department', 'index', 'goods']).mean()['P_Q'].map(lambda x: round(x,2))\n",
    "\n",
    "# Top 20 Goods Sales\n",
    "df_gp.sort_values(ascending=False).to_frame().head(20)"
   ]
  },
  {
   "cell_type": "markdown",
   "metadata": {},
   "source": [
    "## Customer Analysis"
   ]
  },
  {
   "cell_type": "code",
   "execution_count": 41,
   "metadata": {},
   "outputs": [
    {
     "name": "stdout",
     "output_type": "stream",
     "text": [
      "Customer Amount during 3 months :36345\n"
     ]
    }
   ],
   "source": [
    "# Customer Amount during 3 months\n",
    "print('Customer Amount during 3 months :%s'%(Full_PChome['member_id'].nunique()))"
   ]
  },
  {
   "cell_type": "code",
   "execution_count": 42,
   "metadata": {},
   "outputs": [
    {
     "data": {
      "text/html": [
       "<div>\n",
       "<style scoped>\n",
       "    .dataframe tbody tr th:only-of-type {\n",
       "        vertical-align: middle;\n",
       "    }\n",
       "\n",
       "    .dataframe tbody tr th {\n",
       "        vertical-align: top;\n",
       "    }\n",
       "\n",
       "    .dataframe thead th {\n",
       "        text-align: right;\n",
       "    }\n",
       "</style>\n",
       "<table border=\"1\" class=\"dataframe\">\n",
       "  <thead>\n",
       "    <tr style=\"text-align: right;\">\n",
       "      <th></th>\n",
       "      <th>P_Q</th>\n",
       "    </tr>\n",
       "    <tr>\n",
       "      <th>member_id</th>\n",
       "      <th></th>\n",
       "    </tr>\n",
       "  </thead>\n",
       "  <tbody>\n",
       "    <tr>\n",
       "      <th>2400440</th>\n",
       "      <td>5160000</td>\n",
       "    </tr>\n",
       "    <tr>\n",
       "      <th>17871662</th>\n",
       "      <td>2245276</td>\n",
       "    </tr>\n",
       "    <tr>\n",
       "      <th>14685763</th>\n",
       "      <td>1868927</td>\n",
       "    </tr>\n",
       "    <tr>\n",
       "      <th>17719417</th>\n",
       "      <td>1146000</td>\n",
       "    </tr>\n",
       "    <tr>\n",
       "      <th>14255682</th>\n",
       "      <td>1084578</td>\n",
       "    </tr>\n",
       "    <tr>\n",
       "      <th>17407874</th>\n",
       "      <td>785860</td>\n",
       "    </tr>\n",
       "    <tr>\n",
       "      <th>11521175</th>\n",
       "      <td>735971</td>\n",
       "    </tr>\n",
       "    <tr>\n",
       "      <th>17797544</th>\n",
       "      <td>696000</td>\n",
       "    </tr>\n",
       "    <tr>\n",
       "      <th>13823048</th>\n",
       "      <td>603680</td>\n",
       "    </tr>\n",
       "    <tr>\n",
       "      <th>16574617</th>\n",
       "      <td>579500</td>\n",
       "    </tr>\n",
       "    <tr>\n",
       "      <th>8801859</th>\n",
       "      <td>555000</td>\n",
       "    </tr>\n",
       "    <tr>\n",
       "      <th>15651146</th>\n",
       "      <td>519752</td>\n",
       "    </tr>\n",
       "    <tr>\n",
       "      <th>14875891</th>\n",
       "      <td>475780</td>\n",
       "    </tr>\n",
       "    <tr>\n",
       "      <th>14114293</th>\n",
       "      <td>470590</td>\n",
       "    </tr>\n",
       "    <tr>\n",
       "      <th>8965993</th>\n",
       "      <td>462500</td>\n",
       "    </tr>\n",
       "    <tr>\n",
       "      <th>4661478</th>\n",
       "      <td>432500</td>\n",
       "    </tr>\n",
       "    <tr>\n",
       "      <th>17966392</th>\n",
       "      <td>432500</td>\n",
       "    </tr>\n",
       "    <tr>\n",
       "      <th>10613795</th>\n",
       "      <td>405000</td>\n",
       "    </tr>\n",
       "    <tr>\n",
       "      <th>9941836</th>\n",
       "      <td>389000</td>\n",
       "    </tr>\n",
       "    <tr>\n",
       "      <th>17659016</th>\n",
       "      <td>384600</td>\n",
       "    </tr>\n",
       "  </tbody>\n",
       "</table>\n",
       "</div>"
      ],
      "text/plain": [
       "               P_Q\n",
       "member_id         \n",
       "2400440    5160000\n",
       "17871662   2245276\n",
       "14685763   1868927\n",
       "17719417   1146000\n",
       "14255682   1084578\n",
       "17407874    785860\n",
       "11521175    735971\n",
       "17797544    696000\n",
       "13823048    603680\n",
       "16574617    579500\n",
       "8801859     555000\n",
       "15651146    519752\n",
       "14875891    475780\n",
       "14114293    470590\n",
       "8965993     462500\n",
       "4661478     432500\n",
       "17966392    432500\n",
       "10613795    405000\n",
       "9941836     389000\n",
       "17659016    384600"
      ]
     },
     "execution_count": 42,
     "metadata": {},
     "output_type": "execute_result"
    }
   ],
   "source": [
    "# Group by department, index\n",
    "df_gp = Full_PChome.groupby('member_id').sum()['P_Q'].map(lambda x: round(x,2))\n",
    "df_gp.sort_values(ascending=False).to_frame().head(20)"
   ]
  },
  {
   "cell_type": "markdown",
   "metadata": {},
   "source": [
    "## Discount Analysis"
   ]
  },
  {
   "cell_type": "code",
   "execution_count": 8,
   "metadata": {},
   "outputs": [
    {
     "name": "stdout",
     "output_type": "stream",
     "text": [
      "MSRP Null Rate is :0.29\n"
     ]
    }
   ],
   "source": [
    "# MSRP Null Rate\n",
    "print('MSRP Null Rate is :%s'%round((Full_PChome['MSRP'].isnull().sum())/Full_PChome['MSRP'].count(),2))\n",
    "\n",
    "# Fill NA of MSRP with original price\n",
    "list_ = []\n",
    "for i,j in zip(Full_PChome['price'], Full_PChome['MSRP']):\n",
    "    if np.isnan(j) == True:\n",
    "        list_.append(i)\n",
    "    else:\n",
    "        list_.append(j)\n",
    "Full_PChome['New_MSRP'] = list_"
   ]
  },
  {
   "cell_type": "code",
   "execution_count": 9,
   "metadata": {},
   "outputs": [
    {
     "data": {
      "text/plain": [
       "<matplotlib.axes._subplots.AxesSubplot at 0x1ff1bfe2130>"
      ]
     },
     "execution_count": 9,
     "metadata": {},
     "output_type": "execute_result"
    },
    {
     "data": {
      "image/png": "[encoded data removed]",
      "text/plain": [
       "<Figure size 360x576 with 1 Axes>"
      ]
     },
     "metadata": {
      "needs_background": "light"
     },
     "output_type": "display_data"
    }
   ],
   "source": [
    "# Count the discount\n",
    "Full_PChome['Discount'] = round((Full_PChome['New_MSRP'] - Full_PChome['price']) / Full_PChome['New_MSRP'],1)\n",
    "\n",
    "# Discount describe\n",
    "Full_PChome['Discount'].plot(kind = 'box', figsize = (5,8), title = 'Discount Size')"
   ]
  },
  {
   "cell_type": "code",
   "execution_count": 11,
   "metadata": {},
   "outputs": [],
   "source": [
    "# create year, month, day\n",
    "Full_PChome['Year'] = Full_PChome['date_create'].map(lambda x: x.year)\n",
    "Full_PChome['Month'] = Full_PChome['date_create'].map(lambda x: x.month)\n",
    "Full_PChome['Day'] = Full_PChome['date_create'].map(lambda x: x.day)"
   ]
  },
  {
   "cell_type": "code",
   "execution_count": 52,
   "metadata": {},
   "outputs": [
    {
     "data": {
      "image/png": "[encoded data removed]",
      "text/plain": [
       "<Figure size 1152x360 with 4 Axes>"
      ]
     },
     "metadata": {
      "needs_background": "light"
     },
     "output_type": "display_data"
    }
   ],
   "source": [
    "# plot discount by month\n",
    "plt.figure(figsize=(16, 5)) \n",
    "for i,j in enumerate(Full_PChome['Month'].unique()):\n",
    "    plt.subplot(1,4,i+1)\n",
    "    plt.boxplot(Full_PChome.loc[Full_PChome['Month'] == j]['Discount'])\n",
    "    plt.title('Mon %s Discount Size'%j)"
   ]
  },
  {
   "cell_type": "code",
   "execution_count": 58,
   "metadata": {},
   "outputs": [
    {
     "data": {
      "image/png": "[encoded data removed]",
      "text/plain": [
       "<Figure size 1008x1440 with 13 Axes>"
      ]
     },
     "metadata": {
      "needs_background": "light"
     },
     "output_type": "display_data"
    }
   ],
   "source": [
    "# plot discount by department\n",
    "plt.figure(figsize=(14, 20)) \n",
    "for i,j in enumerate(Full_PChome['department'].unique()):\n",
    "    plt.subplot(5,3,i+1)\n",
    "    plt.boxplot(Full_PChome.loc[Full_PChome['department'] == j]['Discount'])\n",
    "    plt.title('Dep %s Discount Size'%j)"
   ]
  },
  {
   "cell_type": "markdown",
   "metadata": {},
   "source": [
    "## Region Analysis"
   ]
  },
  {
   "cell_type": "code",
   "execution_count": 19,
   "metadata": {},
   "outputs": [
    {
     "data": {
      "text/html": [
       "<div>\n",
       "<style scoped>\n",
       "    .dataframe tbody tr th:only-of-type {\n",
       "        vertical-align: middle;\n",
       "    }\n",
       "\n",
       "    .dataframe tbody tr th {\n",
       "        vertical-align: top;\n",
       "    }\n",
       "\n",
       "    .dataframe thead th {\n",
       "        text-align: right;\n",
       "    }\n",
       "</style>\n",
       "<table border=\"1\" class=\"dataframe\">\n",
       "  <thead>\n",
       "    <tr style=\"text-align: right;\">\n",
       "      <th></th>\n",
       "      <th>Region</th>\n",
       "      <th>Zip_Code</th>\n",
       "    </tr>\n",
       "  </thead>\n",
       "  <tbody>\n",
       "    <tr>\n",
       "      <th>0</th>\n",
       "      <td>臺北市</td>\n",
       "      <td>100</td>\n",
       "    </tr>\n",
       "    <tr>\n",
       "      <th>1</th>\n",
       "      <td>臺北市</td>\n",
       "      <td>103</td>\n",
       "    </tr>\n",
       "    <tr>\n",
       "      <th>2</th>\n",
       "      <td>臺北市</td>\n",
       "      <td>104</td>\n",
       "    </tr>\n",
       "    <tr>\n",
       "      <th>3</th>\n",
       "      <td>臺北市</td>\n",
       "      <td>105</td>\n",
       "    </tr>\n",
       "    <tr>\n",
       "      <th>4</th>\n",
       "      <td>臺北市</td>\n",
       "      <td>106</td>\n",
       "    </tr>\n",
       "  </tbody>\n",
       "</table>\n",
       "</div>"
      ],
      "text/plain": [
       "  Region Zip_Code\n",
       "0    臺北市      100\n",
       "1    臺北市      103\n",
       "2    臺北市      104\n",
       "3    臺北市      105\n",
       "4    臺北市      106"
      ]
     },
     "execution_count": 19,
     "metadata": {},
     "output_type": "execute_result"
    }
   ],
   "source": [
    "# Zip Map\n",
    "Zip_Map = pd.read_excel('Zip_Code.xls')\n",
    "Zip_Map = Zip_Map.dropna()\n",
    "Zip_Map['Zip_Code'] = Zip_Map['Zip_Code'].astype('str')\n",
    "Zip_Map.head()"
   ]
  },
  {
   "cell_type": "code",
   "execution_count": 20,
   "metadata": {},
   "outputs": [
    {
     "data": {
      "text/html": [
       "<div>\n",
       "<style scoped>\n",
       "    .dataframe tbody tr th:only-of-type {\n",
       "        vertical-align: middle;\n",
       "    }\n",
       "\n",
       "    .dataframe tbody tr th {\n",
       "        vertical-align: top;\n",
       "    }\n",
       "\n",
       "    .dataframe thead th {\n",
       "        text-align: right;\n",
       "    }\n",
       "</style>\n",
       "<table border=\"1\" class=\"dataframe\">\n",
       "  <thead>\n",
       "    <tr style=\"text-align: right;\">\n",
       "      <th></th>\n",
       "      <th>member_id</th>\n",
       "      <th>postal_cd</th>\n",
       "      <th>date_cd</th>\n",
       "      <th>prod_id</th>\n",
       "      <th>goods</th>\n",
       "      <th>department</th>\n",
       "      <th>index</th>\n",
       "      <th>prod_Q</th>\n",
       "      <th>price</th>\n",
       "      <th>MSRP</th>\n",
       "      <th>date_create</th>\n",
       "      <th>P_Q</th>\n",
       "      <th>New_MSRP</th>\n",
       "      <th>Discount</th>\n",
       "      <th>Zip_Code</th>\n",
       "      <th>Region</th>\n",
       "    </tr>\n",
       "  </thead>\n",
       "  <tbody>\n",
       "    <tr>\n",
       "      <th>0</th>\n",
       "      <td>15416142</td>\n",
       "      <td>831</td>\n",
       "      <td>day1</td>\n",
       "      <td>QAAD70-A9006TWM5-000</td>\n",
       "      <td>HP Officejet 7110 A3+ 網路高速印表機</td>\n",
       "      <td>3C</td>\n",
       "      <td>列 印</td>\n",
       "      <td>1</td>\n",
       "      <td>6490</td>\n",
       "      <td>NaN</td>\n",
       "      <td>2019-10-09</td>\n",
       "      <td>6490</td>\n",
       "      <td>6490.0</td>\n",
       "      <td>0.0</td>\n",
       "      <td>831</td>\n",
       "      <td>高雄市</td>\n",
       "    </tr>\n",
       "    <tr>\n",
       "      <th>1</th>\n",
       "      <td>4663689</td>\n",
       "      <td>600</td>\n",
       "      <td>day1</td>\n",
       "      <td>QFAXAS-A900A38S1-001</td>\n",
       "      <td>【HappyLife】桌上型微波爐架/烤箱置物架  (YV9799)</td>\n",
       "      <td>生活</td>\n",
       "      <td>衛浴</td>\n",
       "      <td>1</td>\n",
       "      <td>599</td>\n",
       "      <td>NaN</td>\n",
       "      <td>2019-10-09</td>\n",
       "      <td>599</td>\n",
       "      <td>599.0</td>\n",
       "      <td>0.0</td>\n",
       "      <td>600</td>\n",
       "      <td>嘉義市</td>\n",
       "    </tr>\n",
       "    <tr>\n",
       "      <th>2</th>\n",
       "      <td>8097088</td>\n",
       "      <td>815</td>\n",
       "      <td>day1</td>\n",
       "      <td>QFAAJY-A9009W99R-000</td>\n",
       "      <td>【dayneeds】輕型 45x45x160cm 四層電鍍波浪收納鐵架</td>\n",
       "      <td>生活</td>\n",
       "      <td>傢俱</td>\n",
       "      <td>1</td>\n",
       "      <td>927</td>\n",
       "      <td>1359.0</td>\n",
       "      <td>2019-10-09</td>\n",
       "      <td>927</td>\n",
       "      <td>1359.0</td>\n",
       "      <td>0.3</td>\n",
       "      <td>815</td>\n",
       "      <td>高雄市</td>\n",
       "    </tr>\n",
       "    <tr>\n",
       "      <th>3</th>\n",
       "      <td>15317712</td>\n",
       "      <td>708</td>\n",
       "      <td>day1</td>\n",
       "      <td>QAAS33-A900A7SR4-002</td>\n",
       "      <td>任天堂 Switch Joy-Con 四合一鋁合金 手把充電座(兩色可選)</td>\n",
       "      <td>3C</td>\n",
       "      <td>電 玩</td>\n",
       "      <td>1</td>\n",
       "      <td>690</td>\n",
       "      <td>990.0</td>\n",
       "      <td>2019-10-09</td>\n",
       "      <td>690</td>\n",
       "      <td>990.0</td>\n",
       "      <td>0.3</td>\n",
       "      <td>708</td>\n",
       "      <td>臺南市</td>\n",
       "    </tr>\n",
       "    <tr>\n",
       "      <th>4</th>\n",
       "      <td>15438512</td>\n",
       "      <td>704</td>\n",
       "      <td>day1</td>\n",
       "      <td>CGAACT-A80423382-005</td>\n",
       "      <td>車用攝影鏡頭</td>\n",
       "      <td>運動戶外</td>\n",
       "      <td>汽百/記錄器</td>\n",
       "      <td>1</td>\n",
       "      <td>1055</td>\n",
       "      <td>1600.0</td>\n",
       "      <td>2019-10-09</td>\n",
       "      <td>1055</td>\n",
       "      <td>1600.0</td>\n",
       "      <td>0.3</td>\n",
       "      <td>704</td>\n",
       "      <td>臺南市</td>\n",
       "    </tr>\n",
       "  </tbody>\n",
       "</table>\n",
       "</div>"
      ],
      "text/plain": [
       "   member_id  postal_cd date_cd               prod_id  \\\n",
       "0   15416142        831    day1  QAAD70-A9006TWM5-000   \n",
       "1    4663689        600    day1  QFAXAS-A900A38S1-001   \n",
       "2    8097088        815    day1  QFAAJY-A9009W99R-000   \n",
       "3   15317712        708    day1  QAAS33-A900A7SR4-002   \n",
       "4   15438512        704    day1  CGAACT-A80423382-005   \n",
       "\n",
       "                                   goods department   index  prod_Q  price  \\\n",
       "0          HP Officejet 7110 A3+ 網路高速印表機         3C     列 印       1   6490   \n",
       "1     【HappyLife】桌上型微波爐架/烤箱置物架  (YV9799)         生活      衛浴       1    599   \n",
       "2    【dayneeds】輕型 45x45x160cm 四層電鍍波浪收納鐵架         生活      傢俱       1    927   \n",
       "3  任天堂 Switch Joy-Con 四合一鋁合金 手把充電座(兩色可選)         3C     電 玩       1    690   \n",
       "4                                 車用攝影鏡頭       運動戶外  汽百/記錄器       1   1055   \n",
       "\n",
       "     MSRP date_create   P_Q  New_MSRP  Discount Zip_Code Region  \n",
       "0     NaN  2019-10-09  6490    6490.0       0.0      831    高雄市  \n",
       "1     NaN  2019-10-09   599     599.0       0.0      600    嘉義市  \n",
       "2  1359.0  2019-10-09   927    1359.0       0.3      815    高雄市  \n",
       "3   990.0  2019-10-09   690     990.0       0.3      708    臺南市  \n",
       "4  1600.0  2019-10-09  1055    1600.0       0.3      704    臺南市  "
      ]
     },
     "execution_count": 20,
     "metadata": {},
     "output_type": "execute_result"
    }
   ],
   "source": [
    "# Map the Location\n",
    "Full_PChome['Zip_Code'] = Full_PChome['postal_cd'].astype('str')\n",
    "Full_PChome =  Full_PChome.merge(Zip_Map, how = 'left')\n",
    "Full_PChome.head()"
   ]
  },
  {
   "cell_type": "code",
   "execution_count": 21,
   "metadata": {},
   "outputs": [
    {
     "data": {
      "text/plain": [
       "<matplotlib.axes._subplots.AxesSubplot at 0x1b5b9289640>"
      ]
     },
     "execution_count": 21,
     "metadata": {},
     "output_type": "execute_result"
    },
    {
     "data": {
      "image/png": "[encoded data removed]",
      "text/plain": [
       "<Figure size 1080x360 with 1 Axes>"
      ]
     },
     "metadata": {
      "needs_background": "light"
     },
     "output_type": "display_data"
    }
   ],
   "source": [
    "# Group by Region\n",
    "df_gp = Full_PChome.groupby('Region').sum()['P_Q'].map(lambda x: round(x,2))\n",
    "df_gp.sort_values(ascending=True).plot(kind = 'barh',figsize = (15,5), title = 'Regional Sales')"
   ]
  },
  {
   "cell_type": "code",
   "execution_count": 28,
   "metadata": {},
   "outputs": [],
   "source": [
    "# Full_PChome_sameID_buy_over_1same_prods\n",
    "GP_1 = Full_PChome.groupby(['member_id','Region','department','index','goods'])\n",
    "GP_1.size().loc[GP_1.size()>1].sort_values(ascending=False).to_csv('Full_PChome_sameID_buy_over_1same_prods.csv',\\\n",
    "                                                                   encoding = 'ANSI')"
   ]
  }
 ],
 "metadata": {
  "kernelspec": {
   "display_name": "Python 3",
   "language": "python",
   "name": "python3"
  },
  "language_info": {
   "codemirror_mode": {
    "name": "ipython",
    "version": 3
   },
   "file_extension": ".py",
   "mimetype": "text/x-python",
   "name": "python",
   "nbconvert_exporter": "python",
   "pygments_lexer": "ipython3",
   "version": "3.7.6"
  }
 },
 "nbformat": 4,
 "nbformat_minor": 4
}
