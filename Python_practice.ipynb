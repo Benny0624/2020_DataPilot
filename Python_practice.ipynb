{
 "cells": [
  {
   "cell_type": "markdown",
   "metadata": {},
   "source": [
    "## 讀檔"
   ]
  },
  {
   "cell_type": "code",
   "execution_count": 1,
   "metadata": {},
   "outputs": [],
   "source": [
    "# Import package\n",
    "import pandas as pd\n",
    "import numpy as np\n",
    "import matplotlib.pyplot as plt\n",
    "import os"
   ]
  },
  {
   "cell_type": "code",
   "execution_count": 2,
   "metadata": {},
   "outputs": [
    {
     "name": "stdout",
     "output_type": "stream",
     "text": [
      "C:\\Users\\i9400230\\Python_ZT\\Code\n"
     ]
    }
   ],
   "source": [
    "# print current working directory\n",
    "print(os.getcwd())"
   ]
  },
  {
   "cell_type": "code",
   "execution_count": 3,
   "metadata": {},
   "outputs": [
    {
     "name": "stdout",
     "output_type": "stream",
     "text": [
      "C:\\Users\\i9400230\\Python_ZT\\Data\n"
     ]
    }
   ],
   "source": [
    "# Change working directory\n",
    "os.chdir('C:\\\\Users\\\\i9400230\\\\Python_ZT\\\\Data') \n",
    "print(os.getcwd())"
   ]
  },
  {
   "cell_type": "code",
   "execution_count": 4,
   "metadata": {},
   "outputs": [
    {
     "data": {
      "text/html": [
       "<div>\n",
       "<style scoped>\n",
       "    .dataframe tbody tr th:only-of-type {\n",
       "        vertical-align: middle;\n",
       "    }\n",
       "\n",
       "    .dataframe tbody tr th {\n",
       "        vertical-align: top;\n",
       "    }\n",
       "\n",
       "    .dataframe thead th {\n",
       "        text-align: right;\n",
       "    }\n",
       "</style>\n",
       "<table border=\"1\" class=\"dataframe\">\n",
       "  <thead>\n",
       "    <tr style=\"text-align: right;\">\n",
       "      <th></th>\n",
       "      <th>date</th>\n",
       "      <th>volume</th>\n",
       "      <th>open</th>\n",
       "      <th>high</th>\n",
       "      <th>low</th>\n",
       "      <th>close</th>\n",
       "      <th>adjclose</th>\n",
       "      <th>symbol</th>\n",
       "    </tr>\n",
       "  </thead>\n",
       "  <tbody>\n",
       "    <tr>\n",
       "      <th>0</th>\n",
       "      <td>2020-07-02</td>\n",
       "      <td>257500</td>\n",
       "      <td>17.639999</td>\n",
       "      <td>17.740000</td>\n",
       "      <td>17.620001</td>\n",
       "      <td>17.709999</td>\n",
       "      <td>17.709999</td>\n",
       "      <td>AAAU</td>\n",
       "    </tr>\n",
       "    <tr>\n",
       "      <th>1</th>\n",
       "      <td>2020-07-01</td>\n",
       "      <td>468100</td>\n",
       "      <td>17.730000</td>\n",
       "      <td>17.730000</td>\n",
       "      <td>17.540001</td>\n",
       "      <td>17.680000</td>\n",
       "      <td>17.680000</td>\n",
       "      <td>AAAU</td>\n",
       "    </tr>\n",
       "    <tr>\n",
       "      <th>2</th>\n",
       "      <td>2020-06-30</td>\n",
       "      <td>319100</td>\n",
       "      <td>17.650000</td>\n",
       "      <td>17.799999</td>\n",
       "      <td>17.610001</td>\n",
       "      <td>17.780001</td>\n",
       "      <td>17.780001</td>\n",
       "      <td>AAAU</td>\n",
       "    </tr>\n",
       "    <tr>\n",
       "      <th>3</th>\n",
       "      <td>2020-06-29</td>\n",
       "      <td>405500</td>\n",
       "      <td>17.670000</td>\n",
       "      <td>17.690001</td>\n",
       "      <td>17.629999</td>\n",
       "      <td>17.680000</td>\n",
       "      <td>17.680000</td>\n",
       "      <td>AAAU</td>\n",
       "    </tr>\n",
       "    <tr>\n",
       "      <th>4</th>\n",
       "      <td>2020-06-26</td>\n",
       "      <td>335100</td>\n",
       "      <td>17.490000</td>\n",
       "      <td>17.670000</td>\n",
       "      <td>17.420000</td>\n",
       "      <td>17.670000</td>\n",
       "      <td>17.670000</td>\n",
       "      <td>AAAU</td>\n",
       "    </tr>\n",
       "  </tbody>\n",
       "</table>\n",
       "</div>"
      ],
      "text/plain": [
       "         date  volume       open       high        low      close   adjclose  \\\n",
       "0  2020-07-02  257500  17.639999  17.740000  17.620001  17.709999  17.709999   \n",
       "1  2020-07-01  468100  17.730000  17.730000  17.540001  17.680000  17.680000   \n",
       "2  2020-06-30  319100  17.650000  17.799999  17.610001  17.780001  17.780001   \n",
       "3  2020-06-29  405500  17.670000  17.690001  17.629999  17.680000  17.680000   \n",
       "4  2020-06-26  335100  17.490000  17.670000  17.420000  17.670000  17.670000   \n",
       "\n",
       "  symbol  \n",
       "0   AAAU  \n",
       "1   AAAU  \n",
       "2   AAAU  \n",
       "3   AAAU  \n",
       "4   AAAU  "
      ]
     },
     "execution_count": 4,
     "metadata": {},
     "output_type": "execute_result"
    }
   ],
   "source": [
    "#Import data\n",
    "Full_history = pd.read_csv('fh_5yrs.csv')\n",
    "Full_history.head()"
   ]
  },
  {
   "cell_type": "markdown",
   "metadata": {},
   "source": [
    "## 資料操作"
   ]
  },
  {
   "cell_type": "code",
   "execution_count": 18,
   "metadata": {
    "scrolled": true
   },
   "outputs": [
    {
     "name": "stdout",
     "output_type": "stream",
     "text": [
      "<class 'pandas.core.frame.DataFrame'>\n",
      "RangeIndex: 6852038 entries, 0 to 6852037\n",
      "Data columns (total 8 columns):\n",
      " #   Column    Dtype  \n",
      "---  ------    -----  \n",
      " 0   date      object \n",
      " 1   volume    int64  \n",
      " 2   open      float64\n",
      " 3   high      float64\n",
      " 4   low       float64\n",
      " 5   close     float64\n",
      " 6   adjclose  float64\n",
      " 7   symbol    object \n",
      "dtypes: float64(5), int64(1), object(2)\n",
      "memory usage: 418.2+ MB\n"
     ]
    }
   ],
   "source": [
    "# Full_history info\n",
    "Full_history.info()"
   ]
  },
  {
   "cell_type": "code",
   "execution_count": 10,
   "metadata": {},
   "outputs": [
    {
     "data": {
      "text/html": [
       "<div>\n",
       "<style scoped>\n",
       "    .dataframe tbody tr th:only-of-type {\n",
       "        vertical-align: middle;\n",
       "    }\n",
       "\n",
       "    .dataframe tbody tr th {\n",
       "        vertical-align: top;\n",
       "    }\n",
       "\n",
       "    .dataframe thead th {\n",
       "        text-align: right;\n",
       "    }\n",
       "</style>\n",
       "<table border=\"1\" class=\"dataframe\">\n",
       "  <thead>\n",
       "    <tr style=\"text-align: right;\">\n",
       "      <th></th>\n",
       "      <th>volume</th>\n",
       "      <th>open</th>\n",
       "      <th>high</th>\n",
       "      <th>low</th>\n",
       "      <th>close</th>\n",
       "      <th>adjclose</th>\n",
       "    </tr>\n",
       "  </thead>\n",
       "  <tbody>\n",
       "    <tr>\n",
       "      <th>count</th>\n",
       "      <td>6.852038e+06</td>\n",
       "      <td>6.852038e+06</td>\n",
       "      <td>6.852038e+06</td>\n",
       "      <td>6.852038e+06</td>\n",
       "      <td>6.852038e+06</td>\n",
       "      <td>6.852038e+06</td>\n",
       "    </tr>\n",
       "    <tr>\n",
       "      <th>mean</th>\n",
       "      <td>1.015414e+06</td>\n",
       "      <td>2.980861e+02</td>\n",
       "      <td>3.058757e+02</td>\n",
       "      <td>2.910136e+02</td>\n",
       "      <td>2.967831e+02</td>\n",
       "      <td>2.932311e+02</td>\n",
       "    </tr>\n",
       "    <tr>\n",
       "      <th>std</th>\n",
       "      <td>4.833380e+06</td>\n",
       "      <td>1.158088e+05</td>\n",
       "      <td>1.182161e+05</td>\n",
       "      <td>1.135286e+05</td>\n",
       "      <td>1.151575e+05</td>\n",
       "      <td>1.143443e+05</td>\n",
       "    </tr>\n",
       "    <tr>\n",
       "      <th>min</th>\n",
       "      <td>1.000000e+00</td>\n",
       "      <td>1.000000e-03</td>\n",
       "      <td>0.000000e+00</td>\n",
       "      <td>0.000000e+00</td>\n",
       "      <td>1.000000e-03</td>\n",
       "      <td>-3.770961e+00</td>\n",
       "    </tr>\n",
       "    <tr>\n",
       "      <th>25%</th>\n",
       "      <td>1.870000e+04</td>\n",
       "      <td>1.195000e+01</td>\n",
       "      <td>1.213000e+01</td>\n",
       "      <td>1.175000e+01</td>\n",
       "      <td>1.194000e+01</td>\n",
       "      <td>1.077661e+01</td>\n",
       "    </tr>\n",
       "    <tr>\n",
       "      <th>50%</th>\n",
       "      <td>1.206000e+05</td>\n",
       "      <td>2.495000e+01</td>\n",
       "      <td>2.511000e+01</td>\n",
       "      <td>2.475000e+01</td>\n",
       "      <td>2.494000e+01</td>\n",
       "      <td>2.332580e+01</td>\n",
       "    </tr>\n",
       "    <tr>\n",
       "      <th>75%</th>\n",
       "      <td>5.863000e+05</td>\n",
       "      <td>4.790000e+01</td>\n",
       "      <td>4.835000e+01</td>\n",
       "      <td>4.741000e+01</td>\n",
       "      <td>4.790000e+01</td>\n",
       "      <td>4.538986e+01</td>\n",
       "    </tr>\n",
       "    <tr>\n",
       "      <th>max</th>\n",
       "      <td>2.156725e+09</td>\n",
       "      <td>6.915530e+07</td>\n",
       "      <td>7.058858e+07</td>\n",
       "      <td>6.843866e+07</td>\n",
       "      <td>6.951362e+07</td>\n",
       "      <td>6.902224e+07</td>\n",
       "    </tr>\n",
       "  </tbody>\n",
       "</table>\n",
       "</div>"
      ],
      "text/plain": [
       "             volume          open          high           low         close  \\\n",
       "count  6.852038e+06  6.852038e+06  6.852038e+06  6.852038e+06  6.852038e+06   \n",
       "mean   1.015414e+06  2.980861e+02  3.058757e+02  2.910136e+02  2.967831e+02   \n",
       "std    4.833380e+06  1.158088e+05  1.182161e+05  1.135286e+05  1.151575e+05   \n",
       "min    1.000000e+00  1.000000e-03  0.000000e+00  0.000000e+00  1.000000e-03   \n",
       "25%    1.870000e+04  1.195000e+01  1.213000e+01  1.175000e+01  1.194000e+01   \n",
       "50%    1.206000e+05  2.495000e+01  2.511000e+01  2.475000e+01  2.494000e+01   \n",
       "75%    5.863000e+05  4.790000e+01  4.835000e+01  4.741000e+01  4.790000e+01   \n",
       "max    2.156725e+09  6.915530e+07  7.058858e+07  6.843866e+07  6.951362e+07   \n",
       "\n",
       "           adjclose  \n",
       "count  6.852038e+06  \n",
       "mean   2.932311e+02  \n",
       "std    1.143443e+05  \n",
       "min   -3.770961e+00  \n",
       "25%    1.077661e+01  \n",
       "50%    2.332580e+01  \n",
       "75%    4.538986e+01  \n",
       "max    6.902224e+07  "
      ]
     },
     "execution_count": 10,
     "metadata": {},
     "output_type": "execute_result"
    }
   ],
   "source": [
    "# Full_history continuous variable describe\n",
    "Full_history.describe()"
   ]
  },
  {
   "cell_type": "code",
   "execution_count": 17,
   "metadata": {
    "scrolled": true
   },
   "outputs": [
    {
     "name": "stdout",
     "output_type": "stream",
     "text": [
      "['AAAU' 'AACG' 'AADR' ... 'ZYME' 'ZYNE' 'ZYXI'] \n",
      "Unique count of Ticker: 6335\n"
     ]
    }
   ],
   "source": [
    "# Stock Ticker unique\n",
    "print(Full_history['symbol'].unique(),'\\nUnique count of Ticker:',Full_history['symbol'].nunique())"
   ]
  },
  {
   "cell_type": "code",
   "execution_count": 19,
   "metadata": {},
   "outputs": [
    {
     "data": {
      "text/html": [
       "<div>\n",
       "<style scoped>\n",
       "    .dataframe tbody tr th:only-of-type {\n",
       "        vertical-align: middle;\n",
       "    }\n",
       "\n",
       "    .dataframe tbody tr th {\n",
       "        vertical-align: top;\n",
       "    }\n",
       "\n",
       "    .dataframe thead th {\n",
       "        text-align: right;\n",
       "    }\n",
       "</style>\n",
       "<table border=\"1\" class=\"dataframe\">\n",
       "  <thead>\n",
       "    <tr style=\"text-align: right;\">\n",
       "      <th></th>\n",
       "      <th>index</th>\n",
       "      <th>symbol</th>\n",
       "    </tr>\n",
       "  </thead>\n",
       "  <tbody>\n",
       "    <tr>\n",
       "      <th>0</th>\n",
       "      <td>PBPB</td>\n",
       "      <td>1385</td>\n",
       "    </tr>\n",
       "    <tr>\n",
       "      <th>1</th>\n",
       "      <td>SGOL</td>\n",
       "      <td>1385</td>\n",
       "    </tr>\n",
       "    <tr>\n",
       "      <th>2</th>\n",
       "      <td>DIS</td>\n",
       "      <td>1385</td>\n",
       "    </tr>\n",
       "    <tr>\n",
       "      <th>3</th>\n",
       "      <td>GLOG</td>\n",
       "      <td>1385</td>\n",
       "    </tr>\n",
       "    <tr>\n",
       "      <th>4</th>\n",
       "      <td>WPP</td>\n",
       "      <td>1385</td>\n",
       "    </tr>\n",
       "    <tr>\n",
       "      <th>...</th>\n",
       "      <td>...</td>\n",
       "      <td>...</td>\n",
       "    </tr>\n",
       "    <tr>\n",
       "      <th>6330</th>\n",
       "      <td>HTLFP</td>\n",
       "      <td>4</td>\n",
       "    </tr>\n",
       "    <tr>\n",
       "      <th>6331</th>\n",
       "      <td>ADTX</td>\n",
       "      <td>3</td>\n",
       "    </tr>\n",
       "    <tr>\n",
       "      <th>6332</th>\n",
       "      <td>ALTA</td>\n",
       "      <td>3</td>\n",
       "    </tr>\n",
       "    <tr>\n",
       "      <th>6333</th>\n",
       "      <td>IPOC</td>\n",
       "      <td>2</td>\n",
       "    </tr>\n",
       "    <tr>\n",
       "      <th>6334</th>\n",
       "      <td>EAI</td>\n",
       "      <td>1</td>\n",
       "    </tr>\n",
       "  </tbody>\n",
       "</table>\n",
       "<p>6335 rows × 2 columns</p>\n",
       "</div>"
      ],
      "text/plain": [
       "      index  symbol\n",
       "0      PBPB    1385\n",
       "1      SGOL    1385\n",
       "2       DIS    1385\n",
       "3      GLOG    1385\n",
       "4       WPP    1385\n",
       "...     ...     ...\n",
       "6330  HTLFP       4\n",
       "6331   ADTX       3\n",
       "6332   ALTA       3\n",
       "6333   IPOC       2\n",
       "6334    EAI       1\n",
       "\n",
       "[6335 rows x 2 columns]"
      ]
     },
     "execution_count": 19,
     "metadata": {},
     "output_type": "execute_result"
    }
   ],
   "source": [
    "# Stock Ticker Frequency table\n",
    "pd.value_counts(Full_history.symbol).to_frame().reset_index()"
   ]
  },
  {
   "cell_type": "markdown",
   "metadata": {},
   "source": [
    "## Group by 方法"
   ]
  },
  {
   "cell_type": "code",
   "execution_count": 5,
   "metadata": {},
   "outputs": [],
   "source": [
    "# Date to datetime\n",
    "Full_history.date = pd.to_datetime(Full_history.date)"
   ]
  },
  {
   "cell_type": "code",
   "execution_count": 6,
   "metadata": {},
   "outputs": [],
   "source": [
    "# Store Ticker price each year\n",
    "df = pd.DataFrame()\n",
    "df['year'] = Full_history.date.map(lambda x: x.year)\n",
    "df['symbol'] = Full_history.symbol\n",
    "df['price'] = Full_history['close']"
   ]
  },
  {
   "cell_type": "code",
   "execution_count": 7,
   "metadata": {},
   "outputs": [
    {
     "data": {
      "text/plain": [
       "symbol\n",
       "VHI      2687392.46\n",
       "RAND       16794.11\n",
       "EFOI       14536.17\n",
       "SRV         8960.60\n",
       "APG         5933.50\n",
       "            ...    \n",
       "BRPAR          0.18\n",
       "ENSV           0.16\n",
       "HJLIW          0.15\n",
       "HUSA           0.14\n",
       "TBLTW          0.05\n",
       "Name: price, Length: 6333, dtype: float64"
      ]
     },
     "execution_count": 7,
     "metadata": {},
     "output_type": "execute_result"
    }
   ],
   "source": [
    "# Mean Close Price in 2020 of each Tickers\n",
    "def MeanPricePerTicker(year=2020):\n",
    "    Filter = (df['year'] == year)\n",
    "    df_gp = df[Filter].groupby('symbol').mean()['price'].map(lambda x: round(x,2))\n",
    "    return df_gp.sort_values(ascending=False)\n",
    "MeanPricePerTicker()"
   ]
  },
  {
   "cell_type": "code",
   "execution_count": 8,
   "metadata": {},
   "outputs": [
    {
     "data": {
      "text/plain": [
       "year\n",
       "2015    235.19\n",
       "2016    114.13\n",
       "2017     72.49\n",
       "2018     62.53\n",
       "2019    976.75\n",
       "2020    127.53\n",
       "Name: price, dtype: float64"
      ]
     },
     "execution_count": 8,
     "metadata": {},
     "output_type": "execute_result"
    }
   ],
   "source": [
    "# Mean Close Price per year\n",
    "def MeanPricePeryear(ticker='all'):\n",
    "    if ticker == 'all':\n",
    "        df_gp = df.groupby('year').mean()['price'].map(lambda x: round(x,2))\n",
    "    else:\n",
    "        Filter = (df['symbol'] == ticker)\n",
    "        df_gp = df[Filter].groupby('year').mean()['price'].map(lambda x: round(x,2))\n",
    "    return df_gp\n",
    "MeanPricePeryear()"
   ]
  },
  {
   "cell_type": "code",
   "execution_count": 38,
   "metadata": {},
   "outputs": [
    {
     "data": {
      "image/png": "[encoded data removed]",
      "text/plain": [
       "<Figure size 1080x360 with 1 Axes>"
      ]
     },
     "metadata": {
      "needs_background": "light"
     },
     "output_type": "display_data"
    }
   ],
   "source": [
    "# Draw 6 Boxplots group by year\n",
    "import seaborn as sns\n",
    "plt.figure(figsize=(15,5))\n",
    "sns.boxplot(x='year', y='price', data=df)\n",
    "plt.title('Boxplot of Year group')\n",
    "plt.show()"
   ]
  },
  {
   "cell_type": "code",
   "execution_count": 9,
   "metadata": {},
   "outputs": [
    {
     "data": {
      "text/plain": [
       "<matplotlib.axes._subplots.AxesSubplot at 0x1d50d0a8b50>"
      ]
     },
     "execution_count": 9,
     "metadata": {},
     "output_type": "execute_result"
    },
    {
     "data": {
      "image/png": "[encoded data removed]",
      "text/plain": [
       "<Figure size 432x288 with 1 Axes>"
      ]
     },
     "metadata": {
      "needs_background": "light"
     },
     "output_type": "display_data"
    }
   ],
   "source": [
    "# Plot the price by year\n",
    "MeanPricePeryear().plot()"
   ]
  },
  {
   "cell_type": "markdown",
   "metadata": {},
   "source": [
    "## iloc,loc,ix方法"
   ]
  },
  {
   "cell_type": "code",
   "execution_count": 16,
   "metadata": {},
   "outputs": [
    {
     "data": {
      "text/html": [
       "<div>\n",
       "<style scoped>\n",
       "    .dataframe tbody tr th:only-of-type {\n",
       "        vertical-align: middle;\n",
       "    }\n",
       "\n",
       "    .dataframe tbody tr th {\n",
       "        vertical-align: top;\n",
       "    }\n",
       "\n",
       "    .dataframe thead th {\n",
       "        text-align: right;\n",
       "    }\n",
       "</style>\n",
       "<table border=\"1\" class=\"dataframe\">\n",
       "  <thead>\n",
       "    <tr style=\"text-align: right;\">\n",
       "      <th></th>\n",
       "      <th>year</th>\n",
       "      <th>price</th>\n",
       "    </tr>\n",
       "    <tr>\n",
       "      <th>symbol</th>\n",
       "      <th></th>\n",
       "      <th></th>\n",
       "    </tr>\n",
       "  </thead>\n",
       "  <tbody>\n",
       "    <tr>\n",
       "      <th>VHI</th>\n",
       "      <td>2020</td>\n",
       "      <td>10.14</td>\n",
       "    </tr>\n",
       "    <tr>\n",
       "      <th>VHI</th>\n",
       "      <td>2020</td>\n",
       "      <td>10.13</td>\n",
       "    </tr>\n",
       "    <tr>\n",
       "      <th>VHI</th>\n",
       "      <td>2020</td>\n",
       "      <td>10.48</td>\n",
       "    </tr>\n",
       "    <tr>\n",
       "      <th>VHI</th>\n",
       "      <td>2020</td>\n",
       "      <td>10.19</td>\n",
       "    </tr>\n",
       "    <tr>\n",
       "      <th>VHI</th>\n",
       "      <td>2020</td>\n",
       "      <td>9.57</td>\n",
       "    </tr>\n",
       "  </tbody>\n",
       "</table>\n",
       "</div>"
      ],
      "text/plain": [
       "        year  price\n",
       "symbol             \n",
       "VHI     2020  10.14\n",
       "VHI     2020  10.13\n",
       "VHI     2020  10.48\n",
       "VHI     2020  10.19\n",
       "VHI     2020   9.57"
      ]
     },
     "execution_count": 16,
     "metadata": {},
     "output_type": "execute_result"
    }
   ],
   "source": [
    "# Set symbol as index, find Ticker \"VHI\"\n",
    "df1 = df.set_index('symbol')\n",
    "df1.loc['VHI'].head()"
   ]
  },
  {
   "cell_type": "code",
   "execution_count": 19,
   "metadata": {},
   "outputs": [
    {
     "data": {
      "text/html": [
       "<div>\n",
       "<style scoped>\n",
       "    .dataframe tbody tr th:only-of-type {\n",
       "        vertical-align: middle;\n",
       "    }\n",
       "\n",
       "    .dataframe tbody tr th {\n",
       "        vertical-align: top;\n",
       "    }\n",
       "\n",
       "    .dataframe thead th {\n",
       "        text-align: right;\n",
       "    }\n",
       "</style>\n",
       "<table border=\"1\" class=\"dataframe\">\n",
       "  <thead>\n",
       "    <tr style=\"text-align: right;\">\n",
       "      <th></th>\n",
       "      <th>year</th>\n",
       "      <th>symbol</th>\n",
       "      <th>price</th>\n",
       "    </tr>\n",
       "  </thead>\n",
       "  <tbody>\n",
       "    <tr>\n",
       "      <th>6431097</th>\n",
       "      <td>2020</td>\n",
       "      <td>VHI</td>\n",
       "      <td>10.14</td>\n",
       "    </tr>\n",
       "    <tr>\n",
       "      <th>6431098</th>\n",
       "      <td>2020</td>\n",
       "      <td>VHI</td>\n",
       "      <td>10.13</td>\n",
       "    </tr>\n",
       "    <tr>\n",
       "      <th>6431099</th>\n",
       "      <td>2020</td>\n",
       "      <td>VHI</td>\n",
       "      <td>10.48</td>\n",
       "    </tr>\n",
       "    <tr>\n",
       "      <th>6431100</th>\n",
       "      <td>2020</td>\n",
       "      <td>VHI</td>\n",
       "      <td>10.19</td>\n",
       "    </tr>\n",
       "    <tr>\n",
       "      <th>6431101</th>\n",
       "      <td>2020</td>\n",
       "      <td>VHI</td>\n",
       "      <td>9.57</td>\n",
       "    </tr>\n",
       "  </tbody>\n",
       "</table>\n",
       "</div>"
      ],
      "text/plain": [
       "         year symbol  price\n",
       "6431097  2020    VHI  10.14\n",
       "6431098  2020    VHI  10.13\n",
       "6431099  2020    VHI  10.48\n",
       "6431100  2020    VHI  10.19\n",
       "6431101  2020    VHI   9.57"
      ]
     },
     "execution_count": 19,
     "metadata": {},
     "output_type": "execute_result"
    }
   ],
   "source": [
    "# Not set symbol index, find Ticker \"VHI\"\n",
    "Ticker_filter = (df['symbol'] == 'VHI')\n",
    "df.loc[Ticker_filter].head()"
   ]
  },
  {
   "cell_type": "code",
   "execution_count": 18,
   "metadata": {},
   "outputs": [
    {
     "data": {
      "text/html": [
       "<div>\n",
       "<style scoped>\n",
       "    .dataframe tbody tr th:only-of-type {\n",
       "        vertical-align: middle;\n",
       "    }\n",
       "\n",
       "    .dataframe tbody tr th {\n",
       "        vertical-align: top;\n",
       "    }\n",
       "\n",
       "    .dataframe thead th {\n",
       "        text-align: right;\n",
       "    }\n",
       "</style>\n",
       "<table border=\"1\" class=\"dataframe\">\n",
       "  <thead>\n",
       "    <tr style=\"text-align: right;\">\n",
       "      <th></th>\n",
       "      <th>year</th>\n",
       "      <th>symbol</th>\n",
       "      <th>price</th>\n",
       "    </tr>\n",
       "  </thead>\n",
       "  <tbody>\n",
       "    <tr>\n",
       "      <th>6431097</th>\n",
       "      <td>2020</td>\n",
       "      <td>VHI</td>\n",
       "      <td>10.14</td>\n",
       "    </tr>\n",
       "    <tr>\n",
       "      <th>6431098</th>\n",
       "      <td>2020</td>\n",
       "      <td>VHI</td>\n",
       "      <td>10.13</td>\n",
       "    </tr>\n",
       "    <tr>\n",
       "      <th>6431099</th>\n",
       "      <td>2020</td>\n",
       "      <td>VHI</td>\n",
       "      <td>10.48</td>\n",
       "    </tr>\n",
       "    <tr>\n",
       "      <th>6431100</th>\n",
       "      <td>2020</td>\n",
       "      <td>VHI</td>\n",
       "      <td>10.19</td>\n",
       "    </tr>\n",
       "    <tr>\n",
       "      <th>6431101</th>\n",
       "      <td>2020</td>\n",
       "      <td>VHI</td>\n",
       "      <td>9.57</td>\n",
       "    </tr>\n",
       "  </tbody>\n",
       "</table>\n",
       "</div>"
      ],
      "text/plain": [
       "         year symbol  price\n",
       "6431097  2020    VHI  10.14\n",
       "6431098  2020    VHI  10.13\n",
       "6431099  2020    VHI  10.48\n",
       "6431100  2020    VHI  10.19\n",
       "6431101  2020    VHI   9.57"
      ]
     },
     "execution_count": 18,
     "metadata": {},
     "output_type": "execute_result"
    }
   ],
   "source": [
    "# iloc method, find Ticker \"VHI\"\n",
    "df.iloc[6431097:6431102,:]"
   ]
  },
  {
   "cell_type": "markdown",
   "metadata": {},
   "source": [
    "## 找出極端的排序"
   ]
  },
  {
   "cell_type": "code",
   "execution_count": 20,
   "metadata": {},
   "outputs": [
    {
     "data": {
      "text/html": [
       "<div>\n",
       "<style scoped>\n",
       "    .dataframe tbody tr th:only-of-type {\n",
       "        vertical-align: middle;\n",
       "    }\n",
       "\n",
       "    .dataframe tbody tr th {\n",
       "        vertical-align: top;\n",
       "    }\n",
       "\n",
       "    .dataframe thead th {\n",
       "        text-align: right;\n",
       "    }\n",
       "</style>\n",
       "<table border=\"1\" class=\"dataframe\">\n",
       "  <thead>\n",
       "    <tr style=\"text-align: right;\">\n",
       "      <th></th>\n",
       "      <th>year</th>\n",
       "      <th>symbol</th>\n",
       "      <th>price</th>\n",
       "    </tr>\n",
       "  </thead>\n",
       "  <tbody>\n",
       "    <tr>\n",
       "      <th>6431125</th>\n",
       "      <td>2019</td>\n",
       "      <td>VHI</td>\n",
       "      <td>69513616.0</td>\n",
       "    </tr>\n",
       "    <tr>\n",
       "      <th>6431126</th>\n",
       "      <td>2019</td>\n",
       "      <td>VHI</td>\n",
       "      <td>69155304.0</td>\n",
       "    </tr>\n",
       "    <tr>\n",
       "      <th>6431124</th>\n",
       "      <td>2019</td>\n",
       "      <td>VHI</td>\n",
       "      <td>68438664.0</td>\n",
       "    </tr>\n",
       "  </tbody>\n",
       "</table>\n",
       "</div>"
      ],
      "text/plain": [
       "         year symbol       price\n",
       "6431125  2019    VHI  69513616.0\n",
       "6431126  2019    VHI  69155304.0\n",
       "6431124  2019    VHI  68438664.0"
      ]
     },
     "execution_count": 20,
     "metadata": {},
     "output_type": "execute_result"
    }
   ],
   "source": [
    "# Nlargest\n",
    "df.nlargest(3,'price')"
   ]
  },
  {
   "cell_type": "code",
   "execution_count": 9,
   "metadata": {},
   "outputs": [],
   "source": [
    "# Full_history_Numeric\n",
    "Full_history_Numeric = Full_history.loc[:,['volume', 'open', 'high', 'low', 'close', 'adjclose']]"
   ]
  },
  {
   "cell_type": "code",
   "execution_count": 10,
   "metadata": {},
   "outputs": [],
   "source": [
    "# Statistical Outliers detect\n",
    "feature_outliers = []\n",
    "writer = pd.ExcelWriter('Stock_Outliers_sheets.xlsx', engine='xlsxwriter')\n",
    "\n",
    "for feature in Full_history_Numeric.keys():\n",
    "    Q1 = np.percentile(Full_history_Numeric[feature], 25)\n",
    "    Q3 = np.percentile(Full_history_Numeric[feature], 75)\n",
    "    step = 1.5*(Q3 - Q1)\n",
    "    Outlier_Index = ~((Full_history_Numeric[feature] >= Q1 - step)&\\\n",
    "                       (Full_history_Numeric[feature] <= Q3 + step))\n",
    "    Full_history_Numeric.loc[Full_history_Numeric.loc[Outlier_Index].index,:].to_excel(writer, sheet_name = feature)\n",
    "    feature_outliers.append(Full_history_Numeric.loc[Full_history_Numeric.loc[Outlier_Index].index,:])\n",
    "writer.save()\n",
    "\n",
    "# Flatten list of outliers\n",
    "outliers_flattened = []\n",
    "\n",
    "for i, j in enumerate(feature_outliers):\n",
    "    outliers_flattened.append(feature_outliers[i].index)\n",
    "flat_list = [item for sublist in outliers_flattened for item in sublist]"
   ]
  },
  {
   "cell_type": "code",
   "execution_count": 11,
   "metadata": {},
   "outputs": [],
   "source": [
    "# Count the number of features for which a given observation is considered an outlier\n",
    "from collections import Counter\n",
    "outlier_count = Counter(flat_list)\n",
    "outliers = [observation for observation in outlier_count.elements() if outlier_count[observation] >= 3]\n",
    "Full_history_Numeric.loc[Full_history_Numeric.loc[outliers].index,:]\\\n",
    ".to_csv('Real_Outliers.csv', encoding='utf_8_sig')"
   ]
  },
  {
   "cell_type": "markdown",
   "metadata": {},
   "source": [
    "## 刪除資料"
   ]
  },
  {
   "cell_type": "code",
   "execution_count": 12,
   "metadata": {},
   "outputs": [],
   "source": [
    "# Drop Outliers\n",
    "Full_history_New = Full_history.drop(outliers)"
   ]
  },
  {
   "cell_type": "code",
   "execution_count": 13,
   "metadata": {},
   "outputs": [],
   "source": [
    "# Store Ticker price each year\n",
    "df = pd.DataFrame()\n",
    "df['year'] = Full_history_New.date.map(lambda x: x.year)\n",
    "df['symbol'] = Full_history_New.symbol\n",
    "df['price'] = Full_history_New['close']"
   ]
  },
  {
   "cell_type": "code",
   "execution_count": 15,
   "metadata": {},
   "outputs": [
    {
     "data": {
      "text/plain": [
       "symbol\n",
       "CBPO     100.99\n",
       "BOND     100.87\n",
       "VTHR     100.69\n",
       "EMNT     100.04\n",
       "VTWG      99.53\n",
       "          ...  \n",
       "BRPAR      0.18\n",
       "ENSV       0.16\n",
       "HJLIW      0.15\n",
       "HUSA       0.14\n",
       "TBLTW      0.05\n",
       "Name: price, Length: 6079, dtype: float64"
      ]
     },
     "execution_count": 15,
     "metadata": {},
     "output_type": "execute_result"
    }
   ],
   "source": [
    "# MeanPricePerTicker\n",
    "MeanPricePerTicker()"
   ]
  },
  {
   "cell_type": "code",
   "execution_count": 16,
   "metadata": {},
   "outputs": [
    {
     "data": {
      "text/plain": [
       "year\n",
       "2015    29.31\n",
       "2016    27.68\n",
       "2017    29.52\n",
       "2018    29.52\n",
       "2019    27.50\n",
       "2020    24.89\n",
       "Name: price, dtype: float64"
      ]
     },
     "execution_count": 16,
     "metadata": {},
     "output_type": "execute_result"
    }
   ],
   "source": [
    "# Mean Close Price per year\n",
    "MeanPricePeryear()"
   ]
  },
  {
   "cell_type": "code",
   "execution_count": 36,
   "metadata": {},
   "outputs": [
    {
     "data": {
      "image/png": "[encoded data removed]",
      "text/plain": [
       "<Figure size 1080x360 with 1 Axes>"
      ]
     },
     "metadata": {
      "needs_background": "light"
     },
     "output_type": "display_data"
    }
   ],
   "source": [
    "# Draw 6 Boxplots group by year\n",
    "import seaborn as sns\n",
    "plt.figure(figsize=(15,5))\n",
    "sns.boxplot(x='year', y='price', data=df)\n",
    "plt.title('Boxplot of Year group')\n",
    "plt.show()"
   ]
  },
  {
   "cell_type": "code",
   "execution_count": 17,
   "metadata": {},
   "outputs": [
    {
     "data": {
      "text/plain": [
       "<matplotlib.axes._subplots.AxesSubplot at 0x1d4a9d54370>"
      ]
     },
     "execution_count": 17,
     "metadata": {},
     "output_type": "execute_result"
    },
    {
     "data": {
      "image/png": "[encoded data removed]",
      "text/plain": [
       "<Figure size 432x288 with 1 Axes>"
      ]
     },
     "metadata": {
      "needs_background": "light"
     },
     "output_type": "display_data"
    }
   ],
   "source": [
    "# Plot the price by year\n",
    "MeanPricePeryear().plot()"
   ]
  },
  {
   "cell_type": "markdown",
   "metadata": {},
   "source": [
    "## 處理NAN資料"
   ]
  },
  {
   "cell_type": "code",
   "execution_count": 22,
   "metadata": {},
   "outputs": [
    {
     "data": {
      "text/plain": [
       "date        0\n",
       "volume      0\n",
       "open        0\n",
       "high        0\n",
       "low         0\n",
       "close       0\n",
       "adjclose    0\n",
       "symbol      0\n",
       "dtype: int64"
      ]
     },
     "execution_count": 22,
     "metadata": {},
     "output_type": "execute_result"
    }
   ],
   "source": [
    "# List the NANs in the data\n",
    "Full_history_New.isnull().sum()"
   ]
  },
  {
   "cell_type": "markdown",
   "metadata": {},
   "source": [
    "## sort排序"
   ]
  },
  {
   "cell_type": "code",
   "execution_count": 32,
   "metadata": {},
   "outputs": [
    {
     "data": {
      "text/html": [
       "<div>\n",
       "<style scoped>\n",
       "    .dataframe tbody tr th:only-of-type {\n",
       "        vertical-align: middle;\n",
       "    }\n",
       "\n",
       "    .dataframe tbody tr th {\n",
       "        vertical-align: top;\n",
       "    }\n",
       "\n",
       "    .dataframe thead th {\n",
       "        text-align: right;\n",
       "    }\n",
       "</style>\n",
       "<table border=\"1\" class=\"dataframe\">\n",
       "  <thead>\n",
       "    <tr style=\"text-align: right;\">\n",
       "      <th></th>\n",
       "      <th>open</th>\n",
       "      <th>high</th>\n",
       "      <th>low</th>\n",
       "      <th>close</th>\n",
       "    </tr>\n",
       "    <tr>\n",
       "      <th>symbol</th>\n",
       "      <th></th>\n",
       "      <th></th>\n",
       "      <th></th>\n",
       "      <th></th>\n",
       "    </tr>\n",
       "  </thead>\n",
       "  <tbody>\n",
       "    <tr>\n",
       "      <th>RHS</th>\n",
       "      <td>99.820000</td>\n",
       "      <td>105.160004</td>\n",
       "      <td>69.510002</td>\n",
       "      <td>103.809998</td>\n",
       "    </tr>\n",
       "    <tr>\n",
       "      <th>MBB</th>\n",
       "      <td>101.814999</td>\n",
       "      <td>101.855000</td>\n",
       "      <td>101.755001</td>\n",
       "      <td>101.805000</td>\n",
       "    </tr>\n",
       "    <tr>\n",
       "      <th>CI</th>\n",
       "      <td>101.769997</td>\n",
       "      <td>102.559998</td>\n",
       "      <td>100.860001</td>\n",
       "      <td>101.459999</td>\n",
       "    </tr>\n",
       "    <tr>\n",
       "      <th>DEO</th>\n",
       "      <td>101.050000</td>\n",
       "      <td>101.802000</td>\n",
       "      <td>100.466499</td>\n",
       "      <td>101.365000</td>\n",
       "    </tr>\n",
       "    <tr>\n",
       "      <th>BOND</th>\n",
       "      <td>101.303913</td>\n",
       "      <td>101.456304</td>\n",
       "      <td>101.203261</td>\n",
       "      <td>101.312609</td>\n",
       "    </tr>\n",
       "    <tr>\n",
       "      <th>VBK</th>\n",
       "      <td>100.399998</td>\n",
       "      <td>102.169998</td>\n",
       "      <td>100.080002</td>\n",
       "      <td>101.060001</td>\n",
       "    </tr>\n",
       "    <tr>\n",
       "      <th>ECL</th>\n",
       "      <td>100.855001</td>\n",
       "      <td>101.860000</td>\n",
       "      <td>99.616250</td>\n",
       "      <td>101.042500</td>\n",
       "    </tr>\n",
       "    <tr>\n",
       "      <th>GLD</th>\n",
       "      <td>101.166667</td>\n",
       "      <td>101.436666</td>\n",
       "      <td>100.536667</td>\n",
       "      <td>100.983335</td>\n",
       "    </tr>\n",
       "    <tr>\n",
       "      <th>ZROZ</th>\n",
       "      <td>101.642500</td>\n",
       "      <td>101.817499</td>\n",
       "      <td>100.870001</td>\n",
       "      <td>100.962502</td>\n",
       "    </tr>\n",
       "    <tr>\n",
       "      <th>KMB</th>\n",
       "      <td>100.413333</td>\n",
       "      <td>101.778889</td>\n",
       "      <td>99.467778</td>\n",
       "      <td>100.625555</td>\n",
       "    </tr>\n",
       "    <tr>\n",
       "      <th>JJSF</th>\n",
       "      <td>100.443659</td>\n",
       "      <td>101.574146</td>\n",
       "      <td>99.234878</td>\n",
       "      <td>100.481708</td>\n",
       "    </tr>\n",
       "    <tr>\n",
       "      <th>TM</th>\n",
       "      <td>100.355152</td>\n",
       "      <td>100.978788</td>\n",
       "      <td>99.686364</td>\n",
       "      <td>100.405757</td>\n",
       "    </tr>\n",
       "    <tr>\n",
       "      <th>CORP</th>\n",
       "      <td>100.315675</td>\n",
       "      <td>100.536013</td>\n",
       "      <td>100.060317</td>\n",
       "      <td>100.290928</td>\n",
       "    </tr>\n",
       "    <tr>\n",
       "      <th>IYK</th>\n",
       "      <td>100.538125</td>\n",
       "      <td>101.618125</td>\n",
       "      <td>98.125000</td>\n",
       "      <td>100.249376</td>\n",
       "    </tr>\n",
       "    <tr>\n",
       "      <th>EMNT</th>\n",
       "      <td>100.053401</td>\n",
       "      <td>100.108124</td>\n",
       "      <td>100.008569</td>\n",
       "      <td>100.044686</td>\n",
       "    </tr>\n",
       "    <tr>\n",
       "      <th>QQQ</th>\n",
       "      <td>99.901111</td>\n",
       "      <td>101.144075</td>\n",
       "      <td>98.407037</td>\n",
       "      <td>99.981852</td>\n",
       "    </tr>\n",
       "    <tr>\n",
       "      <th>BBH</th>\n",
       "      <td>99.510667</td>\n",
       "      <td>101.029667</td>\n",
       "      <td>98.257333</td>\n",
       "      <td>99.807000</td>\n",
       "    </tr>\n",
       "    <tr>\n",
       "      <th>DPZ</th>\n",
       "      <td>99.506333</td>\n",
       "      <td>100.515166</td>\n",
       "      <td>98.623666</td>\n",
       "      <td>99.626333</td>\n",
       "    </tr>\n",
       "    <tr>\n",
       "      <th>VGT</th>\n",
       "      <td>99.725932</td>\n",
       "      <td>100.657118</td>\n",
       "      <td>98.175424</td>\n",
       "      <td>99.569322</td>\n",
       "    </tr>\n",
       "    <tr>\n",
       "      <th>IGM</th>\n",
       "      <td>99.605469</td>\n",
       "      <td>100.477343</td>\n",
       "      <td>98.342656</td>\n",
       "      <td>99.558594</td>\n",
       "    </tr>\n",
       "  </tbody>\n",
       "</table>\n",
       "</div>"
      ],
      "text/plain": [
       "              open        high         low       close\n",
       "symbol                                                \n",
       "RHS      99.820000  105.160004   69.510002  103.809998\n",
       "MBB     101.814999  101.855000  101.755001  101.805000\n",
       "CI      101.769997  102.559998  100.860001  101.459999\n",
       "DEO     101.050000  101.802000  100.466499  101.365000\n",
       "BOND    101.303913  101.456304  101.203261  101.312609\n",
       "VBK     100.399998  102.169998  100.080002  101.060001\n",
       "ECL     100.855001  101.860000   99.616250  101.042500\n",
       "GLD     101.166667  101.436666  100.536667  100.983335\n",
       "ZROZ    101.642500  101.817499  100.870001  100.962502\n",
       "KMB     100.413333  101.778889   99.467778  100.625555\n",
       "JJSF    100.443659  101.574146   99.234878  100.481708\n",
       "TM      100.355152  100.978788   99.686364  100.405757\n",
       "CORP    100.315675  100.536013  100.060317  100.290928\n",
       "IYK     100.538125  101.618125   98.125000  100.249376\n",
       "EMNT    100.053401  100.108124  100.008569  100.044686\n",
       "QQQ      99.901111  101.144075   98.407037   99.981852\n",
       "BBH      99.510667  101.029667   98.257333   99.807000\n",
       "DPZ      99.506333  100.515166   98.623666   99.626333\n",
       "VGT      99.725932  100.657118   98.175424   99.569322\n",
       "IGM      99.605469  100.477343   98.342656   99.558594"
      ]
     },
     "execution_count": 32,
     "metadata": {},
     "output_type": "execute_result"
    }
   ],
   "source": [
    "# Group by Tickers then Sort by mean close price\n",
    "Full_history_New.groupby('symbol')[['open','high','low','close']].mean().\\\n",
    "sort_values(by = 'close', ascending = False).head(20)"
   ]
  },
  {
   "cell_type": "markdown",
   "metadata": {},
   "source": [
    "## 使用函數: apply"
   ]
  },
  {
   "cell_type": "code",
   "execution_count": 14,
   "metadata": {},
   "outputs": [],
   "source": [
    "# Calculate the stock return((c-o)/o) \n",
    "Full_history_New['return'] = round((Full_history_New['close'] - Full_history_New['open'])/Full_history_New['open'],2)"
   ]
  },
  {
   "cell_type": "code",
   "execution_count": 41,
   "metadata": {},
   "outputs": [
    {
     "data": {
      "text/plain": [
       "count    6.323292e+06\n",
       "mean     9.592630e-05\n",
       "std      6.660934e-01\n",
       "min     -1.000000e+00\n",
       "25%     -1.000000e-02\n",
       "50%     -0.000000e+00\n",
       "75%      1.000000e-02\n",
       "max      1.549000e+03\n",
       "Name: return, dtype: float64"
      ]
     },
     "execution_count": 41,
     "metadata": {},
     "output_type": "execute_result"
    }
   ],
   "source": [
    "# Stock Return describe\n",
    "Full_history_New['return'].describe()"
   ]
  },
  {
   "cell_type": "code",
   "execution_count": 15,
   "metadata": {},
   "outputs": [],
   "source": [
    "# Calculate the stock return((c-o)/o) degree using apply function\n",
    "Full_history_New['return_degree'] = Full_history_New['return'].\\\n",
    "apply(lambda x : 1 if x >= 0.01 else(2 if (x >= -0.01 and x <0.01) else 3))"
   ]
  },
  {
   "cell_type": "code",
   "execution_count": 46,
   "metadata": {},
   "outputs": [
    {
     "data": {
      "text/plain": [
       "count    6.323292e+06\n",
       "mean     1.861272e+00\n",
       "std      6.584782e-01\n",
       "min      1.000000e+00\n",
       "25%      1.000000e+00\n",
       "50%      2.000000e+00\n",
       "75%      2.000000e+00\n",
       "max      3.000000e+00\n",
       "Name: return_degree, dtype: float64"
      ]
     },
     "execution_count": 46,
     "metadata": {},
     "output_type": "execute_result"
    }
   ],
   "source": [
    "# Stock Return degree describe\n",
    "Full_history_New['return_degree'].describe() "
   ]
  },
  {
   "cell_type": "markdown",
   "metadata": {},
   "source": [
    "## 處理時間序列"
   ]
  },
  {
   "cell_type": "code",
   "execution_count": null,
   "metadata": {},
   "outputs": [],
   "source": [
    "# Date to datetime\n",
    "# Full_history_New.date = pd.to_datetime(Full_history.date)"
   ]
  },
  {
   "cell_type": "code",
   "execution_count": 16,
   "metadata": {},
   "outputs": [],
   "source": [
    "# Year, Month, Day\n",
    "Full_history_New['year'] = Full_history_New.date.map(lambda x: x.year)\n",
    "Full_history_New['month'] = Full_history_New.date.map(lambda x: x.month)\n",
    "Full_history_New['day'] = Full_history_New.date.map(lambda x: x.day)"
   ]
  },
  {
   "cell_type": "code",
   "execution_count": 57,
   "metadata": {},
   "outputs": [
    {
     "data": {
      "text/html": [
       "<div>\n",
       "<style scoped>\n",
       "    .dataframe tbody tr th:only-of-type {\n",
       "        vertical-align: middle;\n",
       "    }\n",
       "\n",
       "    .dataframe tbody tr th {\n",
       "        vertical-align: top;\n",
       "    }\n",
       "\n",
       "    .dataframe thead th {\n",
       "        text-align: right;\n",
       "    }\n",
       "</style>\n",
       "<table border=\"1\" class=\"dataframe\">\n",
       "  <thead>\n",
       "    <tr style=\"text-align: right;\">\n",
       "      <th></th>\n",
       "      <th>date</th>\n",
       "      <th>volume</th>\n",
       "      <th>open</th>\n",
       "      <th>high</th>\n",
       "      <th>low</th>\n",
       "      <th>close</th>\n",
       "      <th>adjclose</th>\n",
       "      <th>symbol</th>\n",
       "      <th>return</th>\n",
       "      <th>return_degree</th>\n",
       "      <th>year</th>\n",
       "      <th>month</th>\n",
       "      <th>day</th>\n",
       "    </tr>\n",
       "  </thead>\n",
       "  <tbody>\n",
       "    <tr>\n",
       "      <th>0</th>\n",
       "      <td>2020-07-02</td>\n",
       "      <td>257500</td>\n",
       "      <td>17.639999</td>\n",
       "      <td>17.740000</td>\n",
       "      <td>17.620001</td>\n",
       "      <td>17.709999</td>\n",
       "      <td>17.709999</td>\n",
       "      <td>AAAU</td>\n",
       "      <td>0.00</td>\n",
       "      <td>2</td>\n",
       "      <td>2020</td>\n",
       "      <td>7</td>\n",
       "      <td>2</td>\n",
       "    </tr>\n",
       "    <tr>\n",
       "      <th>1</th>\n",
       "      <td>2020-07-01</td>\n",
       "      <td>468100</td>\n",
       "      <td>17.730000</td>\n",
       "      <td>17.730000</td>\n",
       "      <td>17.540001</td>\n",
       "      <td>17.680000</td>\n",
       "      <td>17.680000</td>\n",
       "      <td>AAAU</td>\n",
       "      <td>-0.00</td>\n",
       "      <td>2</td>\n",
       "      <td>2020</td>\n",
       "      <td>7</td>\n",
       "      <td>1</td>\n",
       "    </tr>\n",
       "    <tr>\n",
       "      <th>2</th>\n",
       "      <td>2020-06-30</td>\n",
       "      <td>319100</td>\n",
       "      <td>17.650000</td>\n",
       "      <td>17.799999</td>\n",
       "      <td>17.610001</td>\n",
       "      <td>17.780001</td>\n",
       "      <td>17.780001</td>\n",
       "      <td>AAAU</td>\n",
       "      <td>0.01</td>\n",
       "      <td>1</td>\n",
       "      <td>2020</td>\n",
       "      <td>6</td>\n",
       "      <td>30</td>\n",
       "    </tr>\n",
       "    <tr>\n",
       "      <th>3</th>\n",
       "      <td>2020-06-29</td>\n",
       "      <td>405500</td>\n",
       "      <td>17.670000</td>\n",
       "      <td>17.690001</td>\n",
       "      <td>17.629999</td>\n",
       "      <td>17.680000</td>\n",
       "      <td>17.680000</td>\n",
       "      <td>AAAU</td>\n",
       "      <td>0.00</td>\n",
       "      <td>2</td>\n",
       "      <td>2020</td>\n",
       "      <td>6</td>\n",
       "      <td>29</td>\n",
       "    </tr>\n",
       "    <tr>\n",
       "      <th>4</th>\n",
       "      <td>2020-06-26</td>\n",
       "      <td>335100</td>\n",
       "      <td>17.490000</td>\n",
       "      <td>17.670000</td>\n",
       "      <td>17.420000</td>\n",
       "      <td>17.670000</td>\n",
       "      <td>17.670000</td>\n",
       "      <td>AAAU</td>\n",
       "      <td>0.01</td>\n",
       "      <td>1</td>\n",
       "      <td>2020</td>\n",
       "      <td>6</td>\n",
       "      <td>26</td>\n",
       "    </tr>\n",
       "  </tbody>\n",
       "</table>\n",
       "</div>"
      ],
      "text/plain": [
       "        date  volume       open       high        low      close   adjclose  \\\n",
       "0 2020-07-02  257500  17.639999  17.740000  17.620001  17.709999  17.709999   \n",
       "1 2020-07-01  468100  17.730000  17.730000  17.540001  17.680000  17.680000   \n",
       "2 2020-06-30  319100  17.650000  17.799999  17.610001  17.780001  17.780001   \n",
       "3 2020-06-29  405500  17.670000  17.690001  17.629999  17.680000  17.680000   \n",
       "4 2020-06-26  335100  17.490000  17.670000  17.420000  17.670000  17.670000   \n",
       "\n",
       "  symbol  return  return_degree  year  month  day  \n",
       "0   AAAU    0.00              2  2020      7    2  \n",
       "1   AAAU   -0.00              2  2020      7    1  \n",
       "2   AAAU    0.01              1  2020      6   30  \n",
       "3   AAAU    0.00              2  2020      6   29  \n",
       "4   AAAU    0.01              1  2020      6   26  "
      ]
     },
     "execution_count": 57,
     "metadata": {},
     "output_type": "execute_result"
    }
   ],
   "source": [
    "# View the data\n",
    "Full_history_New.head()"
   ]
  },
  {
   "cell_type": "code",
   "execution_count": 62,
   "metadata": {},
   "outputs": [
    {
     "data": {
      "image/png": "[encoded data removed]",
      "text/plain": [
       "<Figure size 720x432 with 1 Axes>"
      ]
     },
     "metadata": {
      "needs_background": "light"
     },
     "output_type": "display_data"
    }
   ],
   "source": [
    "# First Ticker ('AAAU') price plot\n",
    "plt.figure(figsize=(10,6))\n",
    "#plt.style.use('ggplot')\n",
    "plt.title(\"Opening and closing price\")\n",
    "df1 = Full_history_New[Full_history_New['symbol'] == 'AAAU']\n",
    "plt.plot(df1['date'], df1['open'], label='Open price')\n",
    "plt.plot(df1['date'], df1['close'], label='Close price')\n",
    "plt.legend(loc='upper left')\n",
    "plt.show()"
   ]
  },
  {
   "cell_type": "code",
   "execution_count": 69,
   "metadata": {},
   "outputs": [
    {
     "data": {
      "text/plain": [
       "Text(0.5, 1.0, 'Return_rolling_var_dayk')"
      ]
     },
     "execution_count": 69,
     "metadata": {},
     "output_type": "execute_result"
    },
    {
     "data": {
      "image/png": "[encoded data removed]",
      "text/plain": [
       "<Figure size 720x288 with 1 Axes>"
      ]
     },
     "metadata": {
      "needs_background": "light"
     },
     "output_type": "display_data"
    }
   ],
   "source": [
    "# 20day Rolling variance of Return of 'AAAU'\n",
    "plt.figure(figsize = (10,4))\n",
    "plt.plot(df1['date'],df1['return'].rolling(20).std())\n",
    "plt.title('Return_rolling_var_dayk')"
   ]
  },
  {
   "cell_type": "code",
   "execution_count": 70,
   "metadata": {},
   "outputs": [
    {
     "data": {
      "text/plain": [
       "Text(0.5, 1.0, 'Return_rolling_var_dayk During Month')"
      ]
     },
     "execution_count": 70,
     "metadata": {},
     "output_type": "execute_result"
    },
    {
     "data": {
      "image/png": "[encoded data removed]",
      "text/plain": [
       "<Figure size 720x288 with 1 Axes>"
      ]
     },
     "metadata": {
      "needs_background": "light"
     },
     "output_type": "display_data"
    }
   ],
   "source": [
    "# 20day Rolling variance of Return of 'AAAU'(Month)\n",
    "plt.figure(figsize = (10,4))\n",
    "plt.scatter(df1['month'],df1['return'].rolling(20).std())\n",
    "plt.title('Return_rolling_var_dayk During Month')"
   ]
  },
  {
   "cell_type": "markdown",
   "metadata": {},
   "source": [
    "## 進行分類切割"
   ]
  },
  {
   "cell_type": "code",
   "execution_count": 17,
   "metadata": {},
   "outputs": [
    {
     "ename": "NameError",
     "evalue": "name 'df1' is not defined",
     "output_type": "error",
     "traceback": [
      "\u001b[1;31m---------------------------------------------------------------------------\u001b[0m",
      "\u001b[1;31mNameError\u001b[0m                                 Traceback (most recent call last)",
      "\u001b[1;32m<ipython-input-17-a4c8a662eb0d>\u001b[0m in \u001b[0;36m<module>\u001b[1;34m\u001b[0m\n\u001b[0;32m      1\u001b[0m \u001b[1;31m# pd.cut\u001b[0m\u001b[1;33m\u001b[0m\u001b[1;33m\u001b[0m\u001b[1;33m\u001b[0m\u001b[0m\n\u001b[0;32m      2\u001b[0m \u001b[0mbins\u001b[0m \u001b[1;33m=\u001b[0m \u001b[1;33m[\u001b[0m\u001b[1;36m0\u001b[0m\u001b[1;33m,\u001b[0m \u001b[1;36m3\u001b[0m\u001b[1;33m,\u001b[0m \u001b[1;36m6\u001b[0m\u001b[1;33m,\u001b[0m \u001b[1;36m9\u001b[0m\u001b[1;33m,\u001b[0m \u001b[1;36m12\u001b[0m\u001b[1;33m]\u001b[0m\u001b[1;33m\u001b[0m\u001b[1;33m\u001b[0m\u001b[0m\n\u001b[1;32m----> 3\u001b[1;33m \u001b[0mdf1\u001b[0m\u001b[1;33m[\u001b[0m\u001b[1;34m'quarter'\u001b[0m\u001b[1;33m]\u001b[0m \u001b[1;33m=\u001b[0m \u001b[0mpd\u001b[0m\u001b[1;33m.\u001b[0m\u001b[0mcut\u001b[0m\u001b[1;33m(\u001b[0m\u001b[0mdf1\u001b[0m\u001b[1;33m[\u001b[0m\u001b[1;34m'month'\u001b[0m\u001b[1;33m]\u001b[0m\u001b[1;33m,\u001b[0m \u001b[0mbins\u001b[0m\u001b[1;33m,\u001b[0m \u001b[0mlabels\u001b[0m\u001b[1;33m=\u001b[0m\u001b[1;33m[\u001b[0m\u001b[1;34m'Q1'\u001b[0m\u001b[1;33m,\u001b[0m \u001b[1;34m'Q2'\u001b[0m\u001b[1;33m,\u001b[0m \u001b[1;34m'Q3'\u001b[0m\u001b[1;33m,\u001b[0m \u001b[1;34m'Q4'\u001b[0m\u001b[1;33m]\u001b[0m\u001b[1;33m)\u001b[0m\u001b[1;33m\u001b[0m\u001b[1;33m\u001b[0m\u001b[0m\n\u001b[0m",
      "\u001b[1;31mNameError\u001b[0m: name 'df1' is not defined"
     ]
    }
   ],
   "source": [
    "# pd.cut\n",
    "bins = [0, 3, 6, 9, 12]\n",
    "df1['quarter'] = pd.cut(df1['month'], bins, labels=['Q1', 'Q2', 'Q3', 'Q4'])"
   ]
  },
  {
   "cell_type": "code",
   "execution_count": 76,
   "metadata": {
    "scrolled": true
   },
   "outputs": [
    {
     "data": {
      "text/html": [
       "<div>\n",
       "<style scoped>\n",
       "    .dataframe tbody tr th:only-of-type {\n",
       "        vertical-align: middle;\n",
       "    }\n",
       "\n",
       "    .dataframe tbody tr th {\n",
       "        vertical-align: top;\n",
       "    }\n",
       "\n",
       "    .dataframe thead th {\n",
       "        text-align: right;\n",
       "    }\n",
       "</style>\n",
       "<table border=\"1\" class=\"dataframe\">\n",
       "  <thead>\n",
       "    <tr style=\"text-align: right;\">\n",
       "      <th></th>\n",
       "      <th>date</th>\n",
       "      <th>volume</th>\n",
       "      <th>open</th>\n",
       "      <th>high</th>\n",
       "      <th>low</th>\n",
       "      <th>close</th>\n",
       "      <th>adjclose</th>\n",
       "      <th>symbol</th>\n",
       "      <th>return</th>\n",
       "      <th>return_degree</th>\n",
       "      <th>year</th>\n",
       "      <th>month</th>\n",
       "      <th>day</th>\n",
       "      <th>quarter</th>\n",
       "    </tr>\n",
       "  </thead>\n",
       "  <tbody>\n",
       "    <tr>\n",
       "      <th>0</th>\n",
       "      <td>2020-07-02</td>\n",
       "      <td>257500</td>\n",
       "      <td>17.639999</td>\n",
       "      <td>17.740000</td>\n",
       "      <td>17.620001</td>\n",
       "      <td>17.709999</td>\n",
       "      <td>17.709999</td>\n",
       "      <td>AAAU</td>\n",
       "      <td>0.00</td>\n",
       "      <td>2</td>\n",
       "      <td>2020</td>\n",
       "      <td>7</td>\n",
       "      <td>2</td>\n",
       "      <td>Q3</td>\n",
       "    </tr>\n",
       "    <tr>\n",
       "      <th>1</th>\n",
       "      <td>2020-07-01</td>\n",
       "      <td>468100</td>\n",
       "      <td>17.730000</td>\n",
       "      <td>17.730000</td>\n",
       "      <td>17.540001</td>\n",
       "      <td>17.680000</td>\n",
       "      <td>17.680000</td>\n",
       "      <td>AAAU</td>\n",
       "      <td>-0.00</td>\n",
       "      <td>2</td>\n",
       "      <td>2020</td>\n",
       "      <td>7</td>\n",
       "      <td>1</td>\n",
       "      <td>Q3</td>\n",
       "    </tr>\n",
       "    <tr>\n",
       "      <th>2</th>\n",
       "      <td>2020-06-30</td>\n",
       "      <td>319100</td>\n",
       "      <td>17.650000</td>\n",
       "      <td>17.799999</td>\n",
       "      <td>17.610001</td>\n",
       "      <td>17.780001</td>\n",
       "      <td>17.780001</td>\n",
       "      <td>AAAU</td>\n",
       "      <td>0.01</td>\n",
       "      <td>1</td>\n",
       "      <td>2020</td>\n",
       "      <td>6</td>\n",
       "      <td>30</td>\n",
       "      <td>Q2</td>\n",
       "    </tr>\n",
       "    <tr>\n",
       "      <th>3</th>\n",
       "      <td>2020-06-29</td>\n",
       "      <td>405500</td>\n",
       "      <td>17.670000</td>\n",
       "      <td>17.690001</td>\n",
       "      <td>17.629999</td>\n",
       "      <td>17.680000</td>\n",
       "      <td>17.680000</td>\n",
       "      <td>AAAU</td>\n",
       "      <td>0.00</td>\n",
       "      <td>2</td>\n",
       "      <td>2020</td>\n",
       "      <td>6</td>\n",
       "      <td>29</td>\n",
       "      <td>Q2</td>\n",
       "    </tr>\n",
       "    <tr>\n",
       "      <th>4</th>\n",
       "      <td>2020-06-26</td>\n",
       "      <td>335100</td>\n",
       "      <td>17.490000</td>\n",
       "      <td>17.670000</td>\n",
       "      <td>17.420000</td>\n",
       "      <td>17.670000</td>\n",
       "      <td>17.670000</td>\n",
       "      <td>AAAU</td>\n",
       "      <td>0.01</td>\n",
       "      <td>1</td>\n",
       "      <td>2020</td>\n",
       "      <td>6</td>\n",
       "      <td>26</td>\n",
       "      <td>Q2</td>\n",
       "    </tr>\n",
       "  </tbody>\n",
       "</table>\n",
       "</div>"
      ],
      "text/plain": [
       "        date  volume       open       high        low      close   adjclose  \\\n",
       "0 2020-07-02  257500  17.639999  17.740000  17.620001  17.709999  17.709999   \n",
       "1 2020-07-01  468100  17.730000  17.730000  17.540001  17.680000  17.680000   \n",
       "2 2020-06-30  319100  17.650000  17.799999  17.610001  17.780001  17.780001   \n",
       "3 2020-06-29  405500  17.670000  17.690001  17.629999  17.680000  17.680000   \n",
       "4 2020-06-26  335100  17.490000  17.670000  17.420000  17.670000  17.670000   \n",
       "\n",
       "  symbol  return  return_degree  year  month  day quarter  \n",
       "0   AAAU    0.00              2  2020      7    2      Q3  \n",
       "1   AAAU   -0.00              2  2020      7    1      Q3  \n",
       "2   AAAU    0.01              1  2020      6   30      Q2  \n",
       "3   AAAU    0.00              2  2020      6   29      Q2  \n",
       "4   AAAU    0.01              1  2020      6   26      Q2  "
      ]
     },
     "execution_count": 76,
     "metadata": {},
     "output_type": "execute_result"
    }
   ],
   "source": [
    "# View data\n",
    "df1.head()"
   ]
  },
  {
   "cell_type": "code",
   "execution_count": 79,
   "metadata": {},
   "outputs": [
    {
     "data": {
      "text/plain": [
       "Text(0.5, 1.0, 'Return_rolling_var_dayk During Quarter')"
      ]
     },
     "execution_count": 79,
     "metadata": {},
     "output_type": "execute_result"
    },
    {
     "data": {
      "image/png": "[encoded data removed]",
      "text/plain": [
       "<Figure size 720x288 with 1 Axes>"
      ]
     },
     "metadata": {
      "needs_background": "light"
     },
     "output_type": "display_data"
    }
   ],
   "source": [
    "# 20day Rolling variance of Return of 'AAAU'(Month)\n",
    "plt.figure(figsize = (10,4))\n",
    "df2 = df1.sort_values(by = 'quarter')\n",
    "plt.scatter(df2['quarter'],df2['return'].rolling(20).std())\n",
    "plt.title('Return_rolling_var_dayk During Quarter')"
   ]
  },
  {
   "cell_type": "markdown",
   "metadata": {},
   "source": [
    "##  資料型態轉換"
   ]
  },
  {
   "cell_type": "code",
   "execution_count": 82,
   "metadata": {},
   "outputs": [
    {
     "data": {
      "text/plain": [
       "date             datetime64[ns]\n",
       "volume                    int64\n",
       "open                    float64\n",
       "high                    float64\n",
       "low                     float64\n",
       "close                   float64\n",
       "adjclose                float64\n",
       "symbol                   object\n",
       "return                  float64\n",
       "return_degree             int64\n",
       "year                      int64\n",
       "month                     int64\n",
       "day                       int64\n",
       "dtype: object"
      ]
     },
     "execution_count": 82,
     "metadata": {},
     "output_type": "execute_result"
    }
   ],
   "source": [
    "# data type of Full_history_New\n",
    "Full_history_New.dtypes"
   ]
  },
  {
   "cell_type": "code",
   "execution_count": 83,
   "metadata": {},
   "outputs": [
    {
     "data": {
      "text/plain": [
       "0          17\n",
       "1          17\n",
       "2          17\n",
       "3          17\n",
       "4          17\n",
       "           ..\n",
       "6852033     0\n",
       "6852034     0\n",
       "6852035     0\n",
       "6852036     0\n",
       "6852037     0\n",
       "Name: close, Length: 6323292, dtype: int32"
      ]
     },
     "execution_count": 83,
     "metadata": {},
     "output_type": "execute_result"
    }
   ],
   "source": [
    "# Float to integer\n",
    "Full_history_New['close'].astype(int)"
   ]
  },
  {
   "cell_type": "code",
   "execution_count": 85,
   "metadata": {},
   "outputs": [
    {
     "data": {
      "text/plain": [
       "0          17\n",
       "1          17\n",
       "2          17\n",
       "3          17\n",
       "4          17\n",
       "           ..\n",
       "6852033     0\n",
       "6852034     0\n",
       "6852035     0\n",
       "6852036     0\n",
       "6852037     0\n",
       "Name: close, Length: 6323292, dtype: object"
      ]
     },
     "execution_count": 85,
     "metadata": {},
     "output_type": "execute_result"
    }
   ],
   "source": [
    "# Float to int to Str\n",
    "Full_history_New['close'].astype(int).astype(str)"
   ]
  },
  {
   "cell_type": "markdown",
   "metadata": {},
   "source": [
    "## 字串處理"
   ]
  },
  {
   "cell_type": "code",
   "execution_count": 86,
   "metadata": {},
   "outputs": [
    {
     "data": {
      "text/plain": [
       "0          Aaau\n",
       "1          Aaau\n",
       "2          Aaau\n",
       "3          Aaau\n",
       "4          Aaau\n",
       "           ... \n",
       "6852033    Zyxi\n",
       "6852034    Zyxi\n",
       "6852035    Zyxi\n",
       "6852036    Zyxi\n",
       "6852037    Zyxi\n",
       "Name: symbol, Length: 6323292, dtype: object"
      ]
     },
     "execution_count": 86,
     "metadata": {},
     "output_type": "execute_result"
    }
   ],
   "source": [
    "# Capitalize first letter\n",
    "Full_history_New['symbol'].str.title()"
   ]
  },
  {
   "cell_type": "code",
   "execution_count": 88,
   "metadata": {},
   "outputs": [
    {
     "data": {
      "text/plain": [
       "0          AAAU\n",
       "1          AAAU\n",
       "2          AAAU\n",
       "3          AAAU\n",
       "4          AAAU\n",
       "           ... \n",
       "6852033    ZYXI\n",
       "6852034    ZYXI\n",
       "6852035    ZYXI\n",
       "6852036    ZYXI\n",
       "6852037    ZYXI\n",
       "Name: symbol, Length: 6323292, dtype: object"
      ]
     },
     "execution_count": 88,
     "metadata": {},
     "output_type": "execute_result"
    }
   ],
   "source": [
    "# Capitalize all letters\n",
    "Full_history_New['symbol'].str.upper()"
   ]
  },
  {
   "cell_type": "code",
   "execution_count": 87,
   "metadata": {},
   "outputs": [
    {
     "data": {
      "text/plain": [
       "0          aaau\n",
       "1          aaau\n",
       "2          aaau\n",
       "3          aaau\n",
       "4          aaau\n",
       "           ... \n",
       "6852033    zyxi\n",
       "6852034    zyxi\n",
       "6852035    zyxi\n",
       "6852036    zyxi\n",
       "6852037    zyxi\n",
       "Name: symbol, Length: 6323292, dtype: object"
      ]
     },
     "execution_count": 87,
     "metadata": {},
     "output_type": "execute_result"
    }
   ],
   "source": [
    "# lower all letters\n",
    "Full_history_New['symbol'].str.lower()"
   ]
  },
  {
   "cell_type": "code",
   "execution_count": 89,
   "metadata": {},
   "outputs": [
    {
     "data": {
      "text/plain": [
       "0          111U\n",
       "1          111U\n",
       "2          111U\n",
       "3          111U\n",
       "4          111U\n",
       "           ... \n",
       "6852033    ZYXI\n",
       "6852034    ZYXI\n",
       "6852035    ZYXI\n",
       "6852036    ZYXI\n",
       "6852037    ZYXI\n",
       "Name: symbol, Length: 6323292, dtype: object"
      ]
     },
     "execution_count": 89,
     "metadata": {},
     "output_type": "execute_result"
    }
   ],
   "source": [
    "# str replace\n",
    "Full_history_New['symbol'].str.replace(\"A\",\"1\")"
   ]
  },
  {
   "cell_type": "code",
   "execution_count": 90,
   "metadata": {},
   "outputs": [
    {
     "data": {
      "text/html": [
       "<div>\n",
       "<style scoped>\n",
       "    .dataframe tbody tr th:only-of-type {\n",
       "        vertical-align: middle;\n",
       "    }\n",
       "\n",
       "    .dataframe tbody tr th {\n",
       "        vertical-align: top;\n",
       "    }\n",
       "\n",
       "    .dataframe thead th {\n",
       "        text-align: right;\n",
       "    }\n",
       "</style>\n",
       "<table border=\"1\" class=\"dataframe\">\n",
       "  <thead>\n",
       "    <tr style=\"text-align: right;\">\n",
       "      <th></th>\n",
       "      <th>date</th>\n",
       "      <th>volume</th>\n",
       "      <th>open</th>\n",
       "      <th>high</th>\n",
       "      <th>low</th>\n",
       "      <th>close</th>\n",
       "      <th>adjclose</th>\n",
       "      <th>symbol</th>\n",
       "      <th>return</th>\n",
       "      <th>return_degree</th>\n",
       "      <th>year</th>\n",
       "      <th>month</th>\n",
       "      <th>day</th>\n",
       "    </tr>\n",
       "  </thead>\n",
       "  <tbody>\n",
       "    <tr>\n",
       "      <th>0</th>\n",
       "      <td>2020-07-02</td>\n",
       "      <td>257500</td>\n",
       "      <td>17.639999</td>\n",
       "      <td>17.740000</td>\n",
       "      <td>17.620001</td>\n",
       "      <td>17.709999</td>\n",
       "      <td>17.709999</td>\n",
       "      <td>AAAU</td>\n",
       "      <td>0.00</td>\n",
       "      <td>2</td>\n",
       "      <td>2020</td>\n",
       "      <td>7</td>\n",
       "      <td>2</td>\n",
       "    </tr>\n",
       "    <tr>\n",
       "      <th>1</th>\n",
       "      <td>2020-07-01</td>\n",
       "      <td>468100</td>\n",
       "      <td>17.730000</td>\n",
       "      <td>17.730000</td>\n",
       "      <td>17.540001</td>\n",
       "      <td>17.680000</td>\n",
       "      <td>17.680000</td>\n",
       "      <td>AAAU</td>\n",
       "      <td>-0.00</td>\n",
       "      <td>2</td>\n",
       "      <td>2020</td>\n",
       "      <td>7</td>\n",
       "      <td>1</td>\n",
       "    </tr>\n",
       "    <tr>\n",
       "      <th>2</th>\n",
       "      <td>2020-06-30</td>\n",
       "      <td>319100</td>\n",
       "      <td>17.650000</td>\n",
       "      <td>17.799999</td>\n",
       "      <td>17.610001</td>\n",
       "      <td>17.780001</td>\n",
       "      <td>17.780001</td>\n",
       "      <td>AAAU</td>\n",
       "      <td>0.01</td>\n",
       "      <td>1</td>\n",
       "      <td>2020</td>\n",
       "      <td>6</td>\n",
       "      <td>30</td>\n",
       "    </tr>\n",
       "    <tr>\n",
       "      <th>3</th>\n",
       "      <td>2020-06-29</td>\n",
       "      <td>405500</td>\n",
       "      <td>17.670000</td>\n",
       "      <td>17.690001</td>\n",
       "      <td>17.629999</td>\n",
       "      <td>17.680000</td>\n",
       "      <td>17.680000</td>\n",
       "      <td>AAAU</td>\n",
       "      <td>0.00</td>\n",
       "      <td>2</td>\n",
       "      <td>2020</td>\n",
       "      <td>6</td>\n",
       "      <td>29</td>\n",
       "    </tr>\n",
       "    <tr>\n",
       "      <th>4</th>\n",
       "      <td>2020-06-26</td>\n",
       "      <td>335100</td>\n",
       "      <td>17.490000</td>\n",
       "      <td>17.670000</td>\n",
       "      <td>17.420000</td>\n",
       "      <td>17.670000</td>\n",
       "      <td>17.670000</td>\n",
       "      <td>AAAU</td>\n",
       "      <td>0.01</td>\n",
       "      <td>1</td>\n",
       "      <td>2020</td>\n",
       "      <td>6</td>\n",
       "      <td>26</td>\n",
       "    </tr>\n",
       "    <tr>\n",
       "      <th>...</th>\n",
       "      <td>...</td>\n",
       "      <td>...</td>\n",
       "      <td>...</td>\n",
       "      <td>...</td>\n",
       "      <td>...</td>\n",
       "      <td>...</td>\n",
       "      <td>...</td>\n",
       "      <td>...</td>\n",
       "      <td>...</td>\n",
       "      <td>...</td>\n",
       "      <td>...</td>\n",
       "      <td>...</td>\n",
       "      <td>...</td>\n",
       "    </tr>\n",
       "    <tr>\n",
       "      <th>18530</th>\n",
       "      <td>2015-01-08</td>\n",
       "      <td>2053000</td>\n",
       "      <td>60.959999</td>\n",
       "      <td>61.529999</td>\n",
       "      <td>60.919998</td>\n",
       "      <td>61.400002</td>\n",
       "      <td>55.312943</td>\n",
       "      <td>AAXJ</td>\n",
       "      <td>0.01</td>\n",
       "      <td>1</td>\n",
       "      <td>2015</td>\n",
       "      <td>1</td>\n",
       "      <td>8</td>\n",
       "    </tr>\n",
       "    <tr>\n",
       "      <th>18531</th>\n",
       "      <td>2015-01-07</td>\n",
       "      <td>837800</td>\n",
       "      <td>60.000000</td>\n",
       "      <td>60.369999</td>\n",
       "      <td>59.959999</td>\n",
       "      <td>60.360001</td>\n",
       "      <td>54.376041</td>\n",
       "      <td>AAXJ</td>\n",
       "      <td>0.01</td>\n",
       "      <td>1</td>\n",
       "      <td>2015</td>\n",
       "      <td>1</td>\n",
       "      <td>7</td>\n",
       "    </tr>\n",
       "    <tr>\n",
       "      <th>18532</th>\n",
       "      <td>2015-01-06</td>\n",
       "      <td>725900</td>\n",
       "      <td>59.599998</td>\n",
       "      <td>59.840000</td>\n",
       "      <td>59.040001</td>\n",
       "      <td>59.320000</td>\n",
       "      <td>53.439148</td>\n",
       "      <td>AAXJ</td>\n",
       "      <td>-0.00</td>\n",
       "      <td>2</td>\n",
       "      <td>2015</td>\n",
       "      <td>1</td>\n",
       "      <td>6</td>\n",
       "    </tr>\n",
       "    <tr>\n",
       "      <th>18533</th>\n",
       "      <td>2015-01-05</td>\n",
       "      <td>614000</td>\n",
       "      <td>60.610001</td>\n",
       "      <td>60.610001</td>\n",
       "      <td>59.880001</td>\n",
       "      <td>59.939999</td>\n",
       "      <td>53.997677</td>\n",
       "      <td>AAXJ</td>\n",
       "      <td>-0.01</td>\n",
       "      <td>2</td>\n",
       "      <td>2015</td>\n",
       "      <td>1</td>\n",
       "      <td>5</td>\n",
       "    </tr>\n",
       "    <tr>\n",
       "      <th>18534</th>\n",
       "      <td>2015-01-02</td>\n",
       "      <td>509500</td>\n",
       "      <td>61.169998</td>\n",
       "      <td>61.169998</td>\n",
       "      <td>60.490002</td>\n",
       "      <td>60.630001</td>\n",
       "      <td>54.619274</td>\n",
       "      <td>AAXJ</td>\n",
       "      <td>-0.01</td>\n",
       "      <td>2</td>\n",
       "      <td>2015</td>\n",
       "      <td>1</td>\n",
       "      <td>2</td>\n",
       "    </tr>\n",
       "  </tbody>\n",
       "</table>\n",
       "<p>15817 rows × 13 columns</p>\n",
       "</div>"
      ],
      "text/plain": [
       "            date   volume       open       high        low      close  \\\n",
       "0     2020-07-02   257500  17.639999  17.740000  17.620001  17.709999   \n",
       "1     2020-07-01   468100  17.730000  17.730000  17.540001  17.680000   \n",
       "2     2020-06-30   319100  17.650000  17.799999  17.610001  17.780001   \n",
       "3     2020-06-29   405500  17.670000  17.690001  17.629999  17.680000   \n",
       "4     2020-06-26   335100  17.490000  17.670000  17.420000  17.670000   \n",
       "...          ...      ...        ...        ...        ...        ...   \n",
       "18530 2015-01-08  2053000  60.959999  61.529999  60.919998  61.400002   \n",
       "18531 2015-01-07   837800  60.000000  60.369999  59.959999  60.360001   \n",
       "18532 2015-01-06   725900  59.599998  59.840000  59.040001  59.320000   \n",
       "18533 2015-01-05   614000  60.610001  60.610001  59.880001  59.939999   \n",
       "18534 2015-01-02   509500  61.169998  61.169998  60.490002  60.630001   \n",
       "\n",
       "        adjclose symbol  return  return_degree  year  month  day  \n",
       "0      17.709999   AAAU    0.00              2  2020      7    2  \n",
       "1      17.680000   AAAU   -0.00              2  2020      7    1  \n",
       "2      17.780001   AAAU    0.01              1  2020      6   30  \n",
       "3      17.680000   AAAU    0.00              2  2020      6   29  \n",
       "4      17.670000   AAAU    0.01              1  2020      6   26  \n",
       "...          ...    ...     ...            ...   ...    ...  ...  \n",
       "18530  55.312943   AAXJ    0.01              1  2015      1    8  \n",
       "18531  54.376041   AAXJ    0.01              1  2015      1    7  \n",
       "18532  53.439148   AAXJ   -0.00              2  2015      1    6  \n",
       "18533  53.997677   AAXJ   -0.01              2  2015      1    5  \n",
       "18534  54.619274   AAXJ   -0.01              2  2015      1    2  \n",
       "\n",
       "[15817 rows x 13 columns]"
      ]
     },
     "execution_count": 90,
     "metadata": {},
     "output_type": "execute_result"
    }
   ],
   "source": [
    "# Str find Startwith\n",
    "Full_history_New[Full_history_New['symbol'].str.startswith('AA')]"
   ]
  },
  {
   "cell_type": "code",
   "execution_count": 91,
   "metadata": {},
   "outputs": [
    {
     "data": {
      "text/html": [
       "<div>\n",
       "<style scoped>\n",
       "    .dataframe tbody tr th:only-of-type {\n",
       "        vertical-align: middle;\n",
       "    }\n",
       "\n",
       "    .dataframe tbody tr th {\n",
       "        vertical-align: top;\n",
       "    }\n",
       "\n",
       "    .dataframe thead th {\n",
       "        text-align: right;\n",
       "    }\n",
       "</style>\n",
       "<table border=\"1\" class=\"dataframe\">\n",
       "  <thead>\n",
       "    <tr style=\"text-align: right;\">\n",
       "      <th></th>\n",
       "      <th>date</th>\n",
       "      <th>volume</th>\n",
       "      <th>open</th>\n",
       "      <th>high</th>\n",
       "      <th>low</th>\n",
       "      <th>close</th>\n",
       "      <th>adjclose</th>\n",
       "      <th>symbol</th>\n",
       "      <th>return</th>\n",
       "      <th>return_degree</th>\n",
       "      <th>year</th>\n",
       "      <th>month</th>\n",
       "      <th>day</th>\n",
       "    </tr>\n",
       "  </thead>\n",
       "  <tbody>\n",
       "    <tr>\n",
       "      <th>12601</th>\n",
       "      <td>2016-07-26</td>\n",
       "      <td>56239800</td>\n",
       "      <td>96.820000</td>\n",
       "      <td>97.970001</td>\n",
       "      <td>96.419998</td>\n",
       "      <td>96.669998</td>\n",
       "      <td>90.916161</td>\n",
       "      <td>AAPL</td>\n",
       "      <td>-0.00</td>\n",
       "      <td>2</td>\n",
       "      <td>2016</td>\n",
       "      <td>7</td>\n",
       "      <td>26</td>\n",
       "    </tr>\n",
       "    <tr>\n",
       "      <th>12602</th>\n",
       "      <td>2016-07-25</td>\n",
       "      <td>40382900</td>\n",
       "      <td>98.250000</td>\n",
       "      <td>98.839996</td>\n",
       "      <td>96.919998</td>\n",
       "      <td>97.339996</td>\n",
       "      <td>91.546280</td>\n",
       "      <td>AAPL</td>\n",
       "      <td>-0.01</td>\n",
       "      <td>2</td>\n",
       "      <td>2016</td>\n",
       "      <td>7</td>\n",
       "      <td>25</td>\n",
       "    </tr>\n",
       "    <tr>\n",
       "      <th>12603</th>\n",
       "      <td>2016-07-22</td>\n",
       "      <td>28313700</td>\n",
       "      <td>99.260002</td>\n",
       "      <td>99.300003</td>\n",
       "      <td>98.309998</td>\n",
       "      <td>98.660004</td>\n",
       "      <td>92.787727</td>\n",
       "      <td>AAPL</td>\n",
       "      <td>-0.01</td>\n",
       "      <td>2</td>\n",
       "      <td>2016</td>\n",
       "      <td>7</td>\n",
       "      <td>22</td>\n",
       "    </tr>\n",
       "    <tr>\n",
       "      <th>12604</th>\n",
       "      <td>2016-07-21</td>\n",
       "      <td>32702000</td>\n",
       "      <td>99.830002</td>\n",
       "      <td>101.000000</td>\n",
       "      <td>99.129997</td>\n",
       "      <td>99.430000</td>\n",
       "      <td>93.511902</td>\n",
       "      <td>AAPL</td>\n",
       "      <td>-0.00</td>\n",
       "      <td>2</td>\n",
       "      <td>2016</td>\n",
       "      <td>7</td>\n",
       "      <td>21</td>\n",
       "    </tr>\n",
       "    <tr>\n",
       "      <th>12605</th>\n",
       "      <td>2016-07-20</td>\n",
       "      <td>26276000</td>\n",
       "      <td>100.000000</td>\n",
       "      <td>100.459999</td>\n",
       "      <td>99.739998</td>\n",
       "      <td>99.959999</td>\n",
       "      <td>94.010345</td>\n",
       "      <td>AAPL</td>\n",
       "      <td>-0.00</td>\n",
       "      <td>2</td>\n",
       "      <td>2016</td>\n",
       "      <td>7</td>\n",
       "      <td>20</td>\n",
       "    </tr>\n",
       "    <tr>\n",
       "      <th>...</th>\n",
       "      <td>...</td>\n",
       "      <td>...</td>\n",
       "      <td>...</td>\n",
       "      <td>...</td>\n",
       "      <td>...</td>\n",
       "      <td>...</td>\n",
       "      <td>...</td>\n",
       "      <td>...</td>\n",
       "      <td>...</td>\n",
       "      <td>...</td>\n",
       "      <td>...</td>\n",
       "      <td>...</td>\n",
       "      <td>...</td>\n",
       "    </tr>\n",
       "    <tr>\n",
       "      <th>6768737</th>\n",
       "      <td>2015-01-08</td>\n",
       "      <td>22400</td>\n",
       "      <td>0.890000</td>\n",
       "      <td>0.930000</td>\n",
       "      <td>0.850000</td>\n",
       "      <td>0.900000</td>\n",
       "      <td>0.900000</td>\n",
       "      <td>XPL</td>\n",
       "      <td>0.01</td>\n",
       "      <td>1</td>\n",
       "      <td>2015</td>\n",
       "      <td>1</td>\n",
       "      <td>8</td>\n",
       "    </tr>\n",
       "    <tr>\n",
       "      <th>6768738</th>\n",
       "      <td>2015-01-07</td>\n",
       "      <td>16100</td>\n",
       "      <td>0.920000</td>\n",
       "      <td>0.920000</td>\n",
       "      <td>0.890000</td>\n",
       "      <td>0.900000</td>\n",
       "      <td>0.900000</td>\n",
       "      <td>XPL</td>\n",
       "      <td>-0.02</td>\n",
       "      <td>3</td>\n",
       "      <td>2015</td>\n",
       "      <td>1</td>\n",
       "      <td>7</td>\n",
       "    </tr>\n",
       "    <tr>\n",
       "      <th>6768739</th>\n",
       "      <td>2015-01-06</td>\n",
       "      <td>26900</td>\n",
       "      <td>0.960000</td>\n",
       "      <td>0.960000</td>\n",
       "      <td>0.890000</td>\n",
       "      <td>0.910000</td>\n",
       "      <td>0.910000</td>\n",
       "      <td>XPL</td>\n",
       "      <td>-0.05</td>\n",
       "      <td>3</td>\n",
       "      <td>2015</td>\n",
       "      <td>1</td>\n",
       "      <td>6</td>\n",
       "    </tr>\n",
       "    <tr>\n",
       "      <th>6768740</th>\n",
       "      <td>2015-01-05</td>\n",
       "      <td>10200</td>\n",
       "      <td>0.930000</td>\n",
       "      <td>0.960000</td>\n",
       "      <td>0.890000</td>\n",
       "      <td>0.910000</td>\n",
       "      <td>0.910000</td>\n",
       "      <td>XPL</td>\n",
       "      <td>-0.02</td>\n",
       "      <td>3</td>\n",
       "      <td>2015</td>\n",
       "      <td>1</td>\n",
       "      <td>5</td>\n",
       "    </tr>\n",
       "    <tr>\n",
       "      <th>6768741</th>\n",
       "      <td>2015-01-02</td>\n",
       "      <td>14800</td>\n",
       "      <td>0.920000</td>\n",
       "      <td>0.930000</td>\n",
       "      <td>0.890000</td>\n",
       "      <td>0.900000</td>\n",
       "      <td>0.900000</td>\n",
       "      <td>XPL</td>\n",
       "      <td>-0.02</td>\n",
       "      <td>3</td>\n",
       "      <td>2015</td>\n",
       "      <td>1</td>\n",
       "      <td>2</td>\n",
       "    </tr>\n",
       "  </tbody>\n",
       "</table>\n",
       "<p>10757 rows × 13 columns</p>\n",
       "</div>"
      ],
      "text/plain": [
       "              date    volume        open        high        low      close  \\\n",
       "12601   2016-07-26  56239800   96.820000   97.970001  96.419998  96.669998   \n",
       "12602   2016-07-25  40382900   98.250000   98.839996  96.919998  97.339996   \n",
       "12603   2016-07-22  28313700   99.260002   99.300003  98.309998  98.660004   \n",
       "12604   2016-07-21  32702000   99.830002  101.000000  99.129997  99.430000   \n",
       "12605   2016-07-20  26276000  100.000000  100.459999  99.739998  99.959999   \n",
       "...            ...       ...         ...         ...        ...        ...   \n",
       "6768737 2015-01-08     22400    0.890000    0.930000   0.850000   0.900000   \n",
       "6768738 2015-01-07     16100    0.920000    0.920000   0.890000   0.900000   \n",
       "6768739 2015-01-06     26900    0.960000    0.960000   0.890000   0.910000   \n",
       "6768740 2015-01-05     10200    0.930000    0.960000   0.890000   0.910000   \n",
       "6768741 2015-01-02     14800    0.920000    0.930000   0.890000   0.900000   \n",
       "\n",
       "          adjclose symbol  return  return_degree  year  month  day  \n",
       "12601    90.916161   AAPL   -0.00              2  2016      7   26  \n",
       "12602    91.546280   AAPL   -0.01              2  2016      7   25  \n",
       "12603    92.787727   AAPL   -0.01              2  2016      7   22  \n",
       "12604    93.511902   AAPL   -0.00              2  2016      7   21  \n",
       "12605    94.010345   AAPL   -0.00              2  2016      7   20  \n",
       "...            ...    ...     ...            ...   ...    ...  ...  \n",
       "6768737   0.900000    XPL    0.01              1  2015      1    8  \n",
       "6768738   0.900000    XPL   -0.02              3  2015      1    7  \n",
       "6768739   0.910000    XPL   -0.05              3  2015      1    6  \n",
       "6768740   0.910000    XPL   -0.02              3  2015      1    5  \n",
       "6768741   0.900000    XPL   -0.02              3  2015      1    2  \n",
       "\n",
       "[10757 rows x 13 columns]"
      ]
     },
     "execution_count": 91,
     "metadata": {},
     "output_type": "execute_result"
    }
   ],
   "source": [
    "# Str find Endwith\n",
    "Full_history_New[Full_history_New['symbol'].str.endswith('PL')]"
   ]
  },
  {
   "cell_type": "markdown",
   "metadata": {},
   "source": [
    "## 類SQL邏輯操作"
   ]
  },
  {
   "cell_type": "code",
   "execution_count": 112,
   "metadata": {},
   "outputs": [
    {
     "data": {
      "text/html": [
       "<div>\n",
       "<style scoped>\n",
       "    .dataframe tbody tr th:only-of-type {\n",
       "        vertical-align: middle;\n",
       "    }\n",
       "\n",
       "    .dataframe tbody tr th {\n",
       "        vertical-align: top;\n",
       "    }\n",
       "\n",
       "    .dataframe thead th {\n",
       "        text-align: right;\n",
       "    }\n",
       "</style>\n",
       "<table border=\"1\" class=\"dataframe\">\n",
       "  <thead>\n",
       "    <tr style=\"text-align: right;\">\n",
       "      <th></th>\n",
       "      <th>date</th>\n",
       "      <th>volume</th>\n",
       "      <th>open</th>\n",
       "      <th>high</th>\n",
       "      <th>low</th>\n",
       "      <th>close</th>\n",
       "      <th>adjclose</th>\n",
       "      <th>symbol</th>\n",
       "      <th>return</th>\n",
       "      <th>return_degree</th>\n",
       "      <th>year</th>\n",
       "      <th>month</th>\n",
       "      <th>day</th>\n",
       "    </tr>\n",
       "  </thead>\n",
       "  <tbody>\n",
       "    <tr>\n",
       "      <th>127</th>\n",
       "      <td>2019-12-31</td>\n",
       "      <td>169000</td>\n",
       "      <td>15.19</td>\n",
       "      <td>15.21</td>\n",
       "      <td>15.15</td>\n",
       "      <td>15.15</td>\n",
       "      <td>15.15</td>\n",
       "      <td>AAAU</td>\n",
       "      <td>-0.00</td>\n",
       "      <td>2</td>\n",
       "      <td>2019</td>\n",
       "      <td>12</td>\n",
       "      <td>31</td>\n",
       "    </tr>\n",
       "    <tr>\n",
       "      <th>128</th>\n",
       "      <td>2019-12-30</td>\n",
       "      <td>93400</td>\n",
       "      <td>15.11</td>\n",
       "      <td>15.13</td>\n",
       "      <td>15.11</td>\n",
       "      <td>15.11</td>\n",
       "      <td>15.11</td>\n",
       "      <td>AAAU</td>\n",
       "      <td>0.00</td>\n",
       "      <td>2</td>\n",
       "      <td>2019</td>\n",
       "      <td>12</td>\n",
       "      <td>30</td>\n",
       "    </tr>\n",
       "    <tr>\n",
       "      <th>129</th>\n",
       "      <td>2019-12-27</td>\n",
       "      <td>64600</td>\n",
       "      <td>15.08</td>\n",
       "      <td>15.11</td>\n",
       "      <td>15.07</td>\n",
       "      <td>15.08</td>\n",
       "      <td>15.08</td>\n",
       "      <td>AAAU</td>\n",
       "      <td>0.00</td>\n",
       "      <td>2</td>\n",
       "      <td>2019</td>\n",
       "      <td>12</td>\n",
       "      <td>27</td>\n",
       "    </tr>\n",
       "    <tr>\n",
       "      <th>130</th>\n",
       "      <td>2019-12-26</td>\n",
       "      <td>42600</td>\n",
       "      <td>15.06</td>\n",
       "      <td>15.10</td>\n",
       "      <td>15.04</td>\n",
       "      <td>15.07</td>\n",
       "      <td>15.07</td>\n",
       "      <td>AAAU</td>\n",
       "      <td>0.00</td>\n",
       "      <td>2</td>\n",
       "      <td>2019</td>\n",
       "      <td>12</td>\n",
       "      <td>26</td>\n",
       "    </tr>\n",
       "    <tr>\n",
       "      <th>131</th>\n",
       "      <td>2019-12-24</td>\n",
       "      <td>66400</td>\n",
       "      <td>14.87</td>\n",
       "      <td>14.97</td>\n",
       "      <td>14.87</td>\n",
       "      <td>14.96</td>\n",
       "      <td>14.96</td>\n",
       "      <td>AAAU</td>\n",
       "      <td>0.01</td>\n",
       "      <td>1</td>\n",
       "      <td>2019</td>\n",
       "      <td>12</td>\n",
       "      <td>24</td>\n",
       "    </tr>\n",
       "    <tr>\n",
       "      <th>132</th>\n",
       "      <td>2019-12-23</td>\n",
       "      <td>95600</td>\n",
       "      <td>14.78</td>\n",
       "      <td>14.83</td>\n",
       "      <td>14.78</td>\n",
       "      <td>14.82</td>\n",
       "      <td>14.82</td>\n",
       "      <td>AAAU</td>\n",
       "      <td>0.00</td>\n",
       "      <td>2</td>\n",
       "      <td>2019</td>\n",
       "      <td>12</td>\n",
       "      <td>23</td>\n",
       "    </tr>\n",
       "    <tr>\n",
       "      <th>133</th>\n",
       "      <td>2019-12-20</td>\n",
       "      <td>25500</td>\n",
       "      <td>14.77</td>\n",
       "      <td>14.77</td>\n",
       "      <td>14.74</td>\n",
       "      <td>14.74</td>\n",
       "      <td>14.74</td>\n",
       "      <td>AAAU</td>\n",
       "      <td>-0.00</td>\n",
       "      <td>2</td>\n",
       "      <td>2019</td>\n",
       "      <td>12</td>\n",
       "      <td>20</td>\n",
       "    </tr>\n",
       "    <tr>\n",
       "      <th>134</th>\n",
       "      <td>2019-12-19</td>\n",
       "      <td>28800</td>\n",
       "      <td>14.73</td>\n",
       "      <td>14.78</td>\n",
       "      <td>14.72</td>\n",
       "      <td>14.76</td>\n",
       "      <td>14.76</td>\n",
       "      <td>AAAU</td>\n",
       "      <td>0.00</td>\n",
       "      <td>2</td>\n",
       "      <td>2019</td>\n",
       "      <td>12</td>\n",
       "      <td>19</td>\n",
       "    </tr>\n",
       "    <tr>\n",
       "      <th>135</th>\n",
       "      <td>2019-12-18</td>\n",
       "      <td>134200</td>\n",
       "      <td>14.70</td>\n",
       "      <td>14.76</td>\n",
       "      <td>14.70</td>\n",
       "      <td>14.73</td>\n",
       "      <td>14.73</td>\n",
       "      <td>AAAU</td>\n",
       "      <td>0.00</td>\n",
       "      <td>2</td>\n",
       "      <td>2019</td>\n",
       "      <td>12</td>\n",
       "      <td>18</td>\n",
       "    </tr>\n",
       "    <tr>\n",
       "      <th>136</th>\n",
       "      <td>2019-12-17</td>\n",
       "      <td>24100</td>\n",
       "      <td>14.72</td>\n",
       "      <td>14.74</td>\n",
       "      <td>14.71</td>\n",
       "      <td>14.72</td>\n",
       "      <td>14.72</td>\n",
       "      <td>AAAU</td>\n",
       "      <td>0.00</td>\n",
       "      <td>2</td>\n",
       "      <td>2019</td>\n",
       "      <td>12</td>\n",
       "      <td>17</td>\n",
       "    </tr>\n",
       "  </tbody>\n",
       "</table>\n",
       "</div>"
      ],
      "text/plain": [
       "          date  volume   open   high    low  close  adjclose symbol  return  \\\n",
       "127 2019-12-31  169000  15.19  15.21  15.15  15.15     15.15   AAAU   -0.00   \n",
       "128 2019-12-30   93400  15.11  15.13  15.11  15.11     15.11   AAAU    0.00   \n",
       "129 2019-12-27   64600  15.08  15.11  15.07  15.08     15.08   AAAU    0.00   \n",
       "130 2019-12-26   42600  15.06  15.10  15.04  15.07     15.07   AAAU    0.00   \n",
       "131 2019-12-24   66400  14.87  14.97  14.87  14.96     14.96   AAAU    0.01   \n",
       "132 2019-12-23   95600  14.78  14.83  14.78  14.82     14.82   AAAU    0.00   \n",
       "133 2019-12-20   25500  14.77  14.77  14.74  14.74     14.74   AAAU   -0.00   \n",
       "134 2019-12-19   28800  14.73  14.78  14.72  14.76     14.76   AAAU    0.00   \n",
       "135 2019-12-18  134200  14.70  14.76  14.70  14.73     14.73   AAAU    0.00   \n",
       "136 2019-12-17   24100  14.72  14.74  14.71  14.72     14.72   AAAU    0.00   \n",
       "\n",
       "     return_degree  year  month  day  \n",
       "127              2  2019     12   31  \n",
       "128              2  2019     12   30  \n",
       "129              2  2019     12   27  \n",
       "130              2  2019     12   26  \n",
       "131              1  2019     12   24  \n",
       "132              2  2019     12   23  \n",
       "133              2  2019     12   20  \n",
       "134              2  2019     12   19  \n",
       "135              2  2019     12   18  \n",
       "136              2  2019     12   17  "
      ]
     },
     "execution_count": 112,
     "metadata": {},
     "output_type": "execute_result"
    }
   ],
   "source": [
    "# Filter data\n",
    "Filter = ((Full_history_New['month'] >= 8) & (Full_history_New['year'] >= 2018)) \n",
    "Full_history_New[Filter].head(10)"
   ]
  },
  {
   "cell_type": "code",
   "execution_count": 109,
   "metadata": {},
   "outputs": [
    {
     "data": {
      "text/html": [
       "<div>\n",
       "<style scoped>\n",
       "    .dataframe tbody tr th:only-of-type {\n",
       "        vertical-align: middle;\n",
       "    }\n",
       "\n",
       "    .dataframe tbody tr th {\n",
       "        vertical-align: top;\n",
       "    }\n",
       "\n",
       "    .dataframe thead th {\n",
       "        text-align: right;\n",
       "    }\n",
       "</style>\n",
       "<table border=\"1\" class=\"dataframe\">\n",
       "  <thead>\n",
       "    <tr style=\"text-align: right;\">\n",
       "      <th></th>\n",
       "      <th>symbol</th>\n",
       "      <th>close</th>\n",
       "    </tr>\n",
       "  </thead>\n",
       "  <tbody>\n",
       "    <tr>\n",
       "      <th>0</th>\n",
       "      <td>AAAU</td>\n",
       "      <td>17.709999</td>\n",
       "    </tr>\n",
       "    <tr>\n",
       "      <th>1</th>\n",
       "      <td>AAAU</td>\n",
       "      <td>17.680000</td>\n",
       "    </tr>\n",
       "    <tr>\n",
       "      <th>2</th>\n",
       "      <td>AAAU</td>\n",
       "      <td>17.780001</td>\n",
       "    </tr>\n",
       "    <tr>\n",
       "      <th>3</th>\n",
       "      <td>AAAU</td>\n",
       "      <td>17.680000</td>\n",
       "    </tr>\n",
       "    <tr>\n",
       "      <th>4</th>\n",
       "      <td>AAAU</td>\n",
       "      <td>17.670000</td>\n",
       "    </tr>\n",
       "  </tbody>\n",
       "</table>\n",
       "</div>"
      ],
      "text/plain": [
       "  symbol      close\n",
       "0   AAAU  17.709999\n",
       "1   AAAU  17.680000\n",
       "2   AAAU  17.780001\n",
       "3   AAAU  17.680000\n",
       "4   AAAU  17.670000"
      ]
     },
     "execution_count": 109,
     "metadata": {},
     "output_type": "execute_result"
    }
   ],
   "source": [
    "# DataFrame filter \n",
    "Full_history_New.filter(items = ['symbol', 'close']).head()"
   ]
  },
  {
   "cell_type": "code",
   "execution_count": 110,
   "metadata": {},
   "outputs": [
    {
     "data": {
      "text/html": [
       "<div>\n",
       "<style scoped>\n",
       "    .dataframe tbody tr th:only-of-type {\n",
       "        vertical-align: middle;\n",
       "    }\n",
       "\n",
       "    .dataframe tbody tr th {\n",
       "        vertical-align: top;\n",
       "    }\n",
       "\n",
       "    .dataframe thead th {\n",
       "        text-align: right;\n",
       "    }\n",
       "</style>\n",
       "<table border=\"1\" class=\"dataframe\">\n",
       "  <thead>\n",
       "    <tr style=\"text-align: right;\">\n",
       "      <th></th>\n",
       "      <th>date</th>\n",
       "      <th>volume</th>\n",
       "      <th>close</th>\n",
       "      <th>adjclose</th>\n",
       "      <th>return_degree</th>\n",
       "    </tr>\n",
       "  </thead>\n",
       "  <tbody>\n",
       "    <tr>\n",
       "      <th>0</th>\n",
       "      <td>2020-07-02</td>\n",
       "      <td>257500</td>\n",
       "      <td>17.709999</td>\n",
       "      <td>17.709999</td>\n",
       "      <td>2</td>\n",
       "    </tr>\n",
       "    <tr>\n",
       "      <th>1</th>\n",
       "      <td>2020-07-01</td>\n",
       "      <td>468100</td>\n",
       "      <td>17.680000</td>\n",
       "      <td>17.680000</td>\n",
       "      <td>2</td>\n",
       "    </tr>\n",
       "    <tr>\n",
       "      <th>2</th>\n",
       "      <td>2020-06-30</td>\n",
       "      <td>319100</td>\n",
       "      <td>17.780001</td>\n",
       "      <td>17.780001</td>\n",
       "      <td>1</td>\n",
       "    </tr>\n",
       "    <tr>\n",
       "      <th>3</th>\n",
       "      <td>2020-06-29</td>\n",
       "      <td>405500</td>\n",
       "      <td>17.680000</td>\n",
       "      <td>17.680000</td>\n",
       "      <td>2</td>\n",
       "    </tr>\n",
       "    <tr>\n",
       "      <th>4</th>\n",
       "      <td>2020-06-26</td>\n",
       "      <td>335100</td>\n",
       "      <td>17.670000</td>\n",
       "      <td>17.670000</td>\n",
       "      <td>1</td>\n",
       "    </tr>\n",
       "  </tbody>\n",
       "</table>\n",
       "</div>"
      ],
      "text/plain": [
       "        date  volume      close   adjclose  return_degree\n",
       "0 2020-07-02  257500  17.709999  17.709999              2\n",
       "1 2020-07-01  468100  17.680000  17.680000              2\n",
       "2 2020-06-30  319100  17.780001  17.780001              1\n",
       "3 2020-06-29  405500  17.680000  17.680000              2\n",
       "4 2020-06-26  335100  17.670000  17.670000              1"
      ]
     },
     "execution_count": 110,
     "metadata": {},
     "output_type": "execute_result"
    }
   ],
   "source": [
    "# DataFrame filter (end with e)\n",
    "Full_history_New.filter(regex='e$', axis=1).head()"
   ]
  },
  {
   "cell_type": "code",
   "execution_count": 111,
   "metadata": {
    "scrolled": true
   },
   "outputs": [
    {
     "data": {
      "text/html": [
       "<div>\n",
       "<style scoped>\n",
       "    .dataframe tbody tr th:only-of-type {\n",
       "        vertical-align: middle;\n",
       "    }\n",
       "\n",
       "    .dataframe tbody tr th {\n",
       "        vertical-align: top;\n",
       "    }\n",
       "\n",
       "    .dataframe thead th {\n",
       "        text-align: right;\n",
       "    }\n",
       "</style>\n",
       "<table border=\"1\" class=\"dataframe\">\n",
       "  <thead>\n",
       "    <tr style=\"text-align: right;\">\n",
       "      <th></th>\n",
       "      <th>close</th>\n",
       "      <th>adjclose</th>\n",
       "    </tr>\n",
       "  </thead>\n",
       "  <tbody>\n",
       "    <tr>\n",
       "      <th>0</th>\n",
       "      <td>17.709999</td>\n",
       "      <td>17.709999</td>\n",
       "    </tr>\n",
       "    <tr>\n",
       "      <th>1</th>\n",
       "      <td>17.680000</td>\n",
       "      <td>17.680000</td>\n",
       "    </tr>\n",
       "    <tr>\n",
       "      <th>2</th>\n",
       "      <td>17.780001</td>\n",
       "      <td>17.780001</td>\n",
       "    </tr>\n",
       "    <tr>\n",
       "      <th>3</th>\n",
       "      <td>17.680000</td>\n",
       "      <td>17.680000</td>\n",
       "    </tr>\n",
       "    <tr>\n",
       "      <th>4</th>\n",
       "      <td>17.670000</td>\n",
       "      <td>17.670000</td>\n",
       "    </tr>\n",
       "  </tbody>\n",
       "</table>\n",
       "</div>"
      ],
      "text/plain": [
       "       close   adjclose\n",
       "0  17.709999  17.709999\n",
       "1  17.680000  17.680000\n",
       "2  17.780001  17.780001\n",
       "3  17.680000  17.680000\n",
       "4  17.670000  17.670000"
      ]
     },
     "execution_count": 111,
     "metadata": {},
     "output_type": "execute_result"
    }
   ],
   "source": [
    "# DataFrame filter (se like)\n",
    "Full_history_New.filter(like='se', axis=1).head()"
   ]
  },
  {
   "cell_type": "code",
   "execution_count": 145,
   "metadata": {
    "scrolled": true
   },
   "outputs": [
    {
     "name": "stdout",
     "output_type": "stream",
     "text": [
      "Importing : AAPL Data Path :C:\\Users\\i9400230\\Python_ZT\\Data\\full_history\\AAPL.csv \n",
      "Shape of AAPL:(9973, 7) \n",
      "==========================================\n",
      "Importing : MSFT Data Path :C:\\Users\\i9400230\\Python_ZT\\Data\\full_history\\MSFT.csv \n",
      "Shape of MSFT:(8648, 7) \n",
      "==========================================\n",
      "Shape of append result : (18621, 7)\n"
     ]
    }
   ],
   "source": [
    "# Append data (concadenate)\n",
    "Import_list = ['AAPL', 'MSFT']\n",
    "result = None\n",
    "\n",
    "for i in Import_list:\n",
    "    Data_Path = os.path.join(os.getcwd(), 'full_history\\\\%s.csv'%(i))\n",
    "    df_ = pd.read_csv(Data_Path)\n",
    "    print(\"Importing : %s\" %(i), \"Data Path :%s\"%(Data_Path),\"\\nShape of %s:%s\"%(i,df_.shape),\\\n",
    "          \"\\n==========================================\")\n",
    "    if result is None:\n",
    "        result = df_\n",
    "    else:\n",
    "        result = result.append(df_)\n",
    "print(\"Shape of append result :\",result.shape)"
   ]
  },
  {
   "cell_type": "markdown",
   "metadata": {},
   "source": [
    "## 搜尋資料: loc"
   ]
  },
  {
   "cell_type": "code",
   "execution_count": 149,
   "metadata": {},
   "outputs": [
    {
     "data": {
      "text/html": [
       "<div>\n",
       "<style scoped>\n",
       "    .dataframe tbody tr th:only-of-type {\n",
       "        vertical-align: middle;\n",
       "    }\n",
       "\n",
       "    .dataframe tbody tr th {\n",
       "        vertical-align: top;\n",
       "    }\n",
       "\n",
       "    .dataframe thead th {\n",
       "        text-align: right;\n",
       "    }\n",
       "</style>\n",
       "<table border=\"1\" class=\"dataframe\">\n",
       "  <thead>\n",
       "    <tr style=\"text-align: right;\">\n",
       "      <th></th>\n",
       "      <th>date</th>\n",
       "      <th>volume</th>\n",
       "      <th>open</th>\n",
       "      <th>high</th>\n",
       "      <th>low</th>\n",
       "      <th>close</th>\n",
       "      <th>adjclose</th>\n",
       "      <th>symbol</th>\n",
       "      <th>return</th>\n",
       "      <th>return_degree</th>\n",
       "      <th>year</th>\n",
       "      <th>month</th>\n",
       "      <th>day</th>\n",
       "    </tr>\n",
       "  </thead>\n",
       "  <tbody>\n",
       "    <tr>\n",
       "      <th>0</th>\n",
       "      <td>2020-07-02</td>\n",
       "      <td>257500</td>\n",
       "      <td>17.639999</td>\n",
       "      <td>17.740000</td>\n",
       "      <td>17.620001</td>\n",
       "      <td>17.709999</td>\n",
       "      <td>17.709999</td>\n",
       "      <td>AAAU</td>\n",
       "      <td>0.00</td>\n",
       "      <td>2</td>\n",
       "      <td>2020</td>\n",
       "      <td>7</td>\n",
       "      <td>2</td>\n",
       "    </tr>\n",
       "    <tr>\n",
       "      <th>1</th>\n",
       "      <td>2020-07-01</td>\n",
       "      <td>468100</td>\n",
       "      <td>17.730000</td>\n",
       "      <td>17.730000</td>\n",
       "      <td>17.540001</td>\n",
       "      <td>17.680000</td>\n",
       "      <td>17.680000</td>\n",
       "      <td>AAAU</td>\n",
       "      <td>-0.00</td>\n",
       "      <td>2</td>\n",
       "      <td>2020</td>\n",
       "      <td>7</td>\n",
       "      <td>1</td>\n",
       "    </tr>\n",
       "    <tr>\n",
       "      <th>2</th>\n",
       "      <td>2020-06-30</td>\n",
       "      <td>319100</td>\n",
       "      <td>17.650000</td>\n",
       "      <td>17.799999</td>\n",
       "      <td>17.610001</td>\n",
       "      <td>17.780001</td>\n",
       "      <td>17.780001</td>\n",
       "      <td>AAAU</td>\n",
       "      <td>0.01</td>\n",
       "      <td>1</td>\n",
       "      <td>2020</td>\n",
       "      <td>6</td>\n",
       "      <td>30</td>\n",
       "    </tr>\n",
       "    <tr>\n",
       "      <th>3</th>\n",
       "      <td>2020-06-29</td>\n",
       "      <td>405500</td>\n",
       "      <td>17.670000</td>\n",
       "      <td>17.690001</td>\n",
       "      <td>17.629999</td>\n",
       "      <td>17.680000</td>\n",
       "      <td>17.680000</td>\n",
       "      <td>AAAU</td>\n",
       "      <td>0.00</td>\n",
       "      <td>2</td>\n",
       "      <td>2020</td>\n",
       "      <td>6</td>\n",
       "      <td>29</td>\n",
       "    </tr>\n",
       "    <tr>\n",
       "      <th>4</th>\n",
       "      <td>2020-06-26</td>\n",
       "      <td>335100</td>\n",
       "      <td>17.490000</td>\n",
       "      <td>17.670000</td>\n",
       "      <td>17.420000</td>\n",
       "      <td>17.670000</td>\n",
       "      <td>17.670000</td>\n",
       "      <td>AAAU</td>\n",
       "      <td>0.01</td>\n",
       "      <td>1</td>\n",
       "      <td>2020</td>\n",
       "      <td>6</td>\n",
       "      <td>26</td>\n",
       "    </tr>\n",
       "    <tr>\n",
       "      <th>...</th>\n",
       "      <td>...</td>\n",
       "      <td>...</td>\n",
       "      <td>...</td>\n",
       "      <td>...</td>\n",
       "      <td>...</td>\n",
       "      <td>...</td>\n",
       "      <td>...</td>\n",
       "      <td>...</td>\n",
       "      <td>...</td>\n",
       "      <td>...</td>\n",
       "      <td>...</td>\n",
       "      <td>...</td>\n",
       "      <td>...</td>\n",
       "    </tr>\n",
       "    <tr>\n",
       "      <th>6852033</th>\n",
       "      <td>2015-01-12</td>\n",
       "      <td>10000</td>\n",
       "      <td>0.140000</td>\n",
       "      <td>0.140000</td>\n",
       "      <td>0.140000</td>\n",
       "      <td>0.140000</td>\n",
       "      <td>0.136302</td>\n",
       "      <td>ZYXI</td>\n",
       "      <td>0.00</td>\n",
       "      <td>2</td>\n",
       "      <td>2015</td>\n",
       "      <td>1</td>\n",
       "      <td>12</td>\n",
       "    </tr>\n",
       "    <tr>\n",
       "      <th>6852034</th>\n",
       "      <td>2015-01-09</td>\n",
       "      <td>200</td>\n",
       "      <td>0.150000</td>\n",
       "      <td>0.150000</td>\n",
       "      <td>0.150000</td>\n",
       "      <td>0.150000</td>\n",
       "      <td>0.146038</td>\n",
       "      <td>ZYXI</td>\n",
       "      <td>0.00</td>\n",
       "      <td>2</td>\n",
       "      <td>2015</td>\n",
       "      <td>1</td>\n",
       "      <td>9</td>\n",
       "    </tr>\n",
       "    <tr>\n",
       "      <th>6852035</th>\n",
       "      <td>2015-01-07</td>\n",
       "      <td>8100</td>\n",
       "      <td>0.140000</td>\n",
       "      <td>0.150000</td>\n",
       "      <td>0.130000</td>\n",
       "      <td>0.150000</td>\n",
       "      <td>0.146038</td>\n",
       "      <td>ZYXI</td>\n",
       "      <td>0.07</td>\n",
       "      <td>1</td>\n",
       "      <td>2015</td>\n",
       "      <td>1</td>\n",
       "      <td>7</td>\n",
       "    </tr>\n",
       "    <tr>\n",
       "      <th>6852036</th>\n",
       "      <td>2015-01-05</td>\n",
       "      <td>33200</td>\n",
       "      <td>0.220000</td>\n",
       "      <td>0.220000</td>\n",
       "      <td>0.140000</td>\n",
       "      <td>0.160000</td>\n",
       "      <td>0.155774</td>\n",
       "      <td>ZYXI</td>\n",
       "      <td>-0.27</td>\n",
       "      <td>3</td>\n",
       "      <td>2015</td>\n",
       "      <td>1</td>\n",
       "      <td>5</td>\n",
       "    </tr>\n",
       "    <tr>\n",
       "      <th>6852037</th>\n",
       "      <td>2015-01-02</td>\n",
       "      <td>100</td>\n",
       "      <td>0.180000</td>\n",
       "      <td>0.180000</td>\n",
       "      <td>0.180000</td>\n",
       "      <td>0.180000</td>\n",
       "      <td>0.175245</td>\n",
       "      <td>ZYXI</td>\n",
       "      <td>0.00</td>\n",
       "      <td>2</td>\n",
       "      <td>2015</td>\n",
       "      <td>1</td>\n",
       "      <td>2</td>\n",
       "    </tr>\n",
       "  </tbody>\n",
       "</table>\n",
       "<p>212420 rows × 13 columns</p>\n",
       "</div>"
      ],
      "text/plain": [
       "              date  volume       open       high        low      close  \\\n",
       "0       2020-07-02  257500  17.639999  17.740000  17.620001  17.709999   \n",
       "1       2020-07-01  468100  17.730000  17.730000  17.540001  17.680000   \n",
       "2       2020-06-30  319100  17.650000  17.799999  17.610001  17.780001   \n",
       "3       2020-06-29  405500  17.670000  17.690001  17.629999  17.680000   \n",
       "4       2020-06-26  335100  17.490000  17.670000  17.420000  17.670000   \n",
       "...            ...     ...        ...        ...        ...        ...   \n",
       "6852033 2015-01-12   10000   0.140000   0.140000   0.140000   0.140000   \n",
       "6852034 2015-01-09     200   0.150000   0.150000   0.150000   0.150000   \n",
       "6852035 2015-01-07    8100   0.140000   0.150000   0.130000   0.150000   \n",
       "6852036 2015-01-05   33200   0.220000   0.220000   0.140000   0.160000   \n",
       "6852037 2015-01-02     100   0.180000   0.180000   0.180000   0.180000   \n",
       "\n",
       "          adjclose symbol  return  return_degree  year  month  day  \n",
       "0        17.709999   AAAU    0.00              2  2020      7    2  \n",
       "1        17.680000   AAAU   -0.00              2  2020      7    1  \n",
       "2        17.780001   AAAU    0.01              1  2020      6   30  \n",
       "3        17.680000   AAAU    0.00              2  2020      6   29  \n",
       "4        17.670000   AAAU    0.01              1  2020      6   26  \n",
       "...            ...    ...     ...            ...   ...    ...  ...  \n",
       "6852033   0.136302   ZYXI    0.00              2  2015      1   12  \n",
       "6852034   0.146038   ZYXI    0.00              2  2015      1    9  \n",
       "6852035   0.146038   ZYXI    0.07              1  2015      1    7  \n",
       "6852036   0.155774   ZYXI   -0.27              3  2015      1    5  \n",
       "6852037   0.175245   ZYXI    0.00              2  2015      1    2  \n",
       "\n",
       "[212420 rows x 13 columns]"
      ]
     },
     "execution_count": 149,
     "metadata": {},
     "output_type": "execute_result"
    }
   ],
   "source": [
    "# Vague Search\n",
    "Filter = Full_history_New['symbol'].str.contains('AA|Z')\n",
    "Full_history_New.loc[Filter]"
   ]
  },
  {
   "cell_type": "markdown",
   "metadata": {},
   "source": [
    "## 合併資料框"
   ]
  },
  {
   "cell_type": "code",
   "execution_count": 76,
   "metadata": {},
   "outputs": [],
   "source": [
    "# Import AAPL\n",
    "Data_Path = os.path.join(os.getcwd(), 'full_history\\\\AAPL.csv')\n",
    "AAPL = pd.read_csv(Data_Path)\n",
    "AAPL['symbol'] = 'AAPL'\n",
    "AAPL['date'] = pd.to_datetime(AAPL['date'])\n",
    "AAPL = AAPL.loc[:,['symbol', 'date', 'close']]\n",
    "DF_Whole = Full_history_New.loc[:,['symbol', 'date']]"
   ]
  },
  {
   "cell_type": "code",
   "execution_count": 77,
   "metadata": {
    "scrolled": true
   },
   "outputs": [
    {
     "name": "stdout",
     "output_type": "stream",
     "text": [
      "DF_Whole shape: (6323292, 2)\n",
      "AAPL shape: (9973, 3)\n"
     ]
    }
   ],
   "source": [
    "# Data Shape\n",
    "print('DF_Whole shape: %s\\nAAPL shape: %s'%(DF_Whole.shape,AAPL.shape))"
   ]
  },
  {
   "cell_type": "code",
   "execution_count": 78,
   "metadata": {},
   "outputs": [
    {
     "name": "stdout",
     "output_type": "stream",
     "text": [
      "JoinWoIx shape: (6323292,5)\n"
     ]
    },
    {
     "data": {
      "text/html": [
       "<div>\n",
       "<style scoped>\n",
       "    .dataframe tbody tr th:only-of-type {\n",
       "        vertical-align: middle;\n",
       "    }\n",
       "\n",
       "    .dataframe tbody tr th {\n",
       "        vertical-align: top;\n",
       "    }\n",
       "\n",
       "    .dataframe thead th {\n",
       "        text-align: right;\n",
       "    }\n",
       "</style>\n",
       "<table border=\"1\" class=\"dataframe\">\n",
       "  <thead>\n",
       "    <tr style=\"text-align: right;\">\n",
       "      <th></th>\n",
       "      <th>symbol_caller</th>\n",
       "      <th>date_caller</th>\n",
       "      <th>symbol_other</th>\n",
       "      <th>date_other</th>\n",
       "      <th>close</th>\n",
       "    </tr>\n",
       "  </thead>\n",
       "  <tbody>\n",
       "    <tr>\n",
       "      <th>0</th>\n",
       "      <td>AAAU</td>\n",
       "      <td>2020-07-02</td>\n",
       "      <td>AAPL</td>\n",
       "      <td>2020-07-02</td>\n",
       "      <td>364.109985</td>\n",
       "    </tr>\n",
       "    <tr>\n",
       "      <th>1</th>\n",
       "      <td>AAAU</td>\n",
       "      <td>2020-07-01</td>\n",
       "      <td>AAPL</td>\n",
       "      <td>2020-07-01</td>\n",
       "      <td>364.109985</td>\n",
       "    </tr>\n",
       "    <tr>\n",
       "      <th>2</th>\n",
       "      <td>AAAU</td>\n",
       "      <td>2020-06-30</td>\n",
       "      <td>AAPL</td>\n",
       "      <td>2020-06-30</td>\n",
       "      <td>364.799988</td>\n",
       "    </tr>\n",
       "    <tr>\n",
       "      <th>3</th>\n",
       "      <td>AAAU</td>\n",
       "      <td>2020-06-29</td>\n",
       "      <td>AAPL</td>\n",
       "      <td>2020-06-29</td>\n",
       "      <td>361.779999</td>\n",
       "    </tr>\n",
       "    <tr>\n",
       "      <th>4</th>\n",
       "      <td>AAAU</td>\n",
       "      <td>2020-06-26</td>\n",
       "      <td>AAPL</td>\n",
       "      <td>2020-06-26</td>\n",
       "      <td>353.630005</td>\n",
       "    </tr>\n",
       "  </tbody>\n",
       "</table>\n",
       "</div>"
      ],
      "text/plain": [
       "  symbol_caller date_caller symbol_other date_other       close\n",
       "0          AAAU  2020-07-02         AAPL 2020-07-02  364.109985\n",
       "1          AAAU  2020-07-01         AAPL 2020-07-01  364.109985\n",
       "2          AAAU  2020-06-30         AAPL 2020-06-30  364.799988\n",
       "3          AAAU  2020-06-29         AAPL 2020-06-29  361.779999\n",
       "4          AAAU  2020-06-26         AAPL 2020-06-26  353.630005"
      ]
     },
     "execution_count": 78,
     "metadata": {},
     "output_type": "execute_result"
    }
   ],
   "source": [
    "# Join without set Index (left)\n",
    "JoinWoIx = DF_Whole.join(AAPL,lsuffix='_caller', rsuffix='_other')\n",
    "print('JoinWoIx shape: (%s,%s)'%(JoinWoIx.shape))\n",
    "JoinWoIx.head()"
   ]
  },
  {
   "cell_type": "code",
   "execution_count": 79,
   "metadata": {},
   "outputs": [
    {
     "name": "stdout",
     "output_type": "stream",
     "text": [
      "JoinWoIx shape: (9973,5)\n"
     ]
    },
    {
     "data": {
      "text/html": [
       "<div>\n",
       "<style scoped>\n",
       "    .dataframe tbody tr th:only-of-type {\n",
       "        vertical-align: middle;\n",
       "    }\n",
       "\n",
       "    .dataframe tbody tr th {\n",
       "        vertical-align: top;\n",
       "    }\n",
       "\n",
       "    .dataframe thead th {\n",
       "        text-align: right;\n",
       "    }\n",
       "</style>\n",
       "<table border=\"1\" class=\"dataframe\">\n",
       "  <thead>\n",
       "    <tr style=\"text-align: right;\">\n",
       "      <th></th>\n",
       "      <th>symbol_caller</th>\n",
       "      <th>date_caller</th>\n",
       "      <th>close</th>\n",
       "      <th>symbol_other</th>\n",
       "      <th>date_other</th>\n",
       "    </tr>\n",
       "  </thead>\n",
       "  <tbody>\n",
       "    <tr>\n",
       "      <th>0</th>\n",
       "      <td>AAPL</td>\n",
       "      <td>2020-07-02</td>\n",
       "      <td>364.109985</td>\n",
       "      <td>AAAU</td>\n",
       "      <td>2020-07-02</td>\n",
       "    </tr>\n",
       "    <tr>\n",
       "      <th>1</th>\n",
       "      <td>AAPL</td>\n",
       "      <td>2020-07-01</td>\n",
       "      <td>364.109985</td>\n",
       "      <td>AAAU</td>\n",
       "      <td>2020-07-01</td>\n",
       "    </tr>\n",
       "    <tr>\n",
       "      <th>2</th>\n",
       "      <td>AAPL</td>\n",
       "      <td>2020-06-30</td>\n",
       "      <td>364.799988</td>\n",
       "      <td>AAAU</td>\n",
       "      <td>2020-06-30</td>\n",
       "    </tr>\n",
       "    <tr>\n",
       "      <th>3</th>\n",
       "      <td>AAPL</td>\n",
       "      <td>2020-06-29</td>\n",
       "      <td>361.779999</td>\n",
       "      <td>AAAU</td>\n",
       "      <td>2020-06-29</td>\n",
       "    </tr>\n",
       "    <tr>\n",
       "      <th>4</th>\n",
       "      <td>AAPL</td>\n",
       "      <td>2020-06-26</td>\n",
       "      <td>353.630005</td>\n",
       "      <td>AAAU</td>\n",
       "      <td>2020-06-26</td>\n",
       "    </tr>\n",
       "  </tbody>\n",
       "</table>\n",
       "</div>"
      ],
      "text/plain": [
       "  symbol_caller date_caller       close symbol_other date_other\n",
       "0          AAPL  2020-07-02  364.109985         AAAU 2020-07-02\n",
       "1          AAPL  2020-07-01  364.109985         AAAU 2020-07-01\n",
       "2          AAPL  2020-06-30  364.799988         AAAU 2020-06-30\n",
       "3          AAPL  2020-06-29  361.779999         AAAU 2020-06-29\n",
       "4          AAPL  2020-06-26  353.630005         AAAU 2020-06-26"
      ]
     },
     "execution_count": 79,
     "metadata": {},
     "output_type": "execute_result"
    }
   ],
   "source": [
    "# Join without set Index (right)\n",
    "JoinWoIx = AAPL.join(DF_Whole,lsuffix='_caller', rsuffix='_other')\n",
    "print('JoinWoIx shape: (%s,%s)'%(JoinWoIx.shape))\n",
    "JoinWoIx.head()"
   ]
  },
  {
   "cell_type": "code",
   "execution_count": 80,
   "metadata": {},
   "outputs": [],
   "source": [
    "# Set Index\n",
    "AAPL = AAPL.set_index(['symbol','date'])\n",
    "DF_Whole = DF_Whole.set_index(['symbol','date'])"
   ]
  },
  {
   "cell_type": "code",
   "execution_count": 89,
   "metadata": {},
   "outputs": [
    {
     "name": "stdout",
     "output_type": "stream",
     "text": [
      "DF_Whole(only AAPL) shape: (106, 0)\n",
      "AAPL shape: (9973, 1)\n"
     ]
    }
   ],
   "source": [
    "# Data Shape\n",
    "print('DF_Whole(only AAPL) shape: %s\\nAAPL shape: %s'%(DF_Whole.loc['AAPL'].shape,AAPL.shape))"
   ]
  },
  {
   "cell_type": "code",
   "execution_count": 83,
   "metadata": {},
   "outputs": [
    {
     "name": "stdout",
     "output_type": "stream",
     "text": [
      "JoinWIx shape: (106,1)\n"
     ]
    },
    {
     "data": {
      "text/html": [
       "<div>\n",
       "<style scoped>\n",
       "    .dataframe tbody tr th:only-of-type {\n",
       "        vertical-align: middle;\n",
       "    }\n",
       "\n",
       "    .dataframe tbody tr th {\n",
       "        vertical-align: top;\n",
       "    }\n",
       "\n",
       "    .dataframe thead th {\n",
       "        text-align: right;\n",
       "    }\n",
       "</style>\n",
       "<table border=\"1\" class=\"dataframe\">\n",
       "  <thead>\n",
       "    <tr style=\"text-align: right;\">\n",
       "      <th></th>\n",
       "      <th></th>\n",
       "      <th>close</th>\n",
       "    </tr>\n",
       "    <tr>\n",
       "      <th>symbol</th>\n",
       "      <th>date</th>\n",
       "      <th></th>\n",
       "    </tr>\n",
       "  </thead>\n",
       "  <tbody>\n",
       "    <tr>\n",
       "      <th rowspan=\"5\" valign=\"top\">AAPL</th>\n",
       "      <th>2016-07-26</th>\n",
       "      <td>96.669998</td>\n",
       "    </tr>\n",
       "    <tr>\n",
       "      <th>2016-07-25</th>\n",
       "      <td>97.339996</td>\n",
       "    </tr>\n",
       "    <tr>\n",
       "      <th>2016-07-22</th>\n",
       "      <td>98.660004</td>\n",
       "    </tr>\n",
       "    <tr>\n",
       "      <th>2016-07-21</th>\n",
       "      <td>99.430000</td>\n",
       "    </tr>\n",
       "    <tr>\n",
       "      <th>2016-07-20</th>\n",
       "      <td>99.959999</td>\n",
       "    </tr>\n",
       "  </tbody>\n",
       "</table>\n",
       "</div>"
      ],
      "text/plain": [
       "                       close\n",
       "symbol date                 \n",
       "AAPL   2016-07-26  96.669998\n",
       "       2016-07-25  97.339996\n",
       "       2016-07-22  98.660004\n",
       "       2016-07-21  99.430000\n",
       "       2016-07-20  99.959999"
      ]
     },
     "execution_count": 83,
     "metadata": {},
     "output_type": "execute_result"
    }
   ],
   "source": [
    "# Join with set Index (Inner Join)\n",
    "JoinWIx = DF_Whole.join(AAPL, on = ['symbol','date'], how = 'inner')\n",
    "print('JoinWIx shape: (%s,%s)'%(JoinWIx.shape))\n",
    "JoinWIx.head()"
   ]
  },
  {
   "cell_type": "markdown",
   "metadata": {},
   "source": [
    "## 資料圖形化"
   ]
  },
  {
   "cell_type": "code",
   "execution_count": 100,
   "metadata": {},
   "outputs": [],
   "source": [
    "# Import Bollinger_bands\n",
    "from pyti.bollinger_bands import upper_bollinger_band as ubb\n",
    "from pyti.bollinger_bands import middle_bollinger_band as mbb\n",
    "from pyti.bollinger_bands import lower_bollinger_band as lbb\n",
    "from pyti.bollinger_bands import percent_bandwidth as percent_b"
   ]
  },
  {
   "cell_type": "code",
   "execution_count": 101,
   "metadata": {},
   "outputs": [],
   "source": [
    "# Initialize the short and long windows\n",
    "window = 14\n",
    "no_std = 1.3\n",
    "band_per = 0.2\n",
    "\n",
    "# AAAU\n",
    "AAAU = Full_history_New[Full_history_New['symbol'] == 'AAAU']\n",
    "\n",
    "# Initialize the `signals` DataFrame with the `signal` column\n",
    "signals = pd.DataFrame()\n",
    "\n",
    "# Bollinger Band\n",
    "signals['Price'] = AAAU['close']\n",
    "signals['upper_band'] = ubb(AAAU['close'], period = window, std_mult = no_std)\n",
    "signals['mid_band'] = mbb(AAAU['close'], period = window, std = no_std)\n",
    "signals['lower_band'] = lbb(AAAU['close'], period = window, std = no_std)\n",
    "signals['percent_b'] = percent_b(AAAU['close'], period = window, std = no_std)"
   ]
  },
  {
   "cell_type": "code",
   "execution_count": 104,
   "metadata": {},
   "outputs": [
    {
     "data": {
      "text/plain": [
       "<matplotlib.axes._subplots.AxesSubplot at 0x1d2a242de80>"
      ]
     },
     "execution_count": 104,
     "metadata": {},
     "output_type": "execute_result"
    },
    {
     "data": {
      "image/png": "[encoded data removed]",
      "text/plain": [
       "<Figure size 1080x576 with 1 Axes>"
      ]
     },
     "metadata": {
      "needs_background": "light"
     },
     "output_type": "display_data"
    }
   ],
   "source": [
    "# Plot Bollinger Band of Ticker AAAU\n",
    "fig = plt.figure(figsize=(15,8))\n",
    "\n",
    "ax1 = fig.add_subplot(111,  xlabel = 'Date',ylabel='Close')\n",
    "\n",
    "signals['Price'].plot(ax=ax1, color='r', lw=1, label = 'Price',legend = True)\n",
    "signals['upper_band'].plot(ax=ax1, color = 'b', lw= 1, label = 'upper_band',legend = True)\n",
    "signals['mid_band'].plot(ax=ax1, color = 'g', lw= 1, label = 'mid_band',legend = True)\n",
    "signals['lower_band'].plot(ax=ax1, color = 'y', lw= 1, label = 'lower_band',legend = True)"
   ]
  },
  {
   "cell_type": "markdown",
   "metadata": {},
   "source": [
    "## 存檔"
   ]
  },
  {
   "cell_type": "code",
   "execution_count": 105,
   "metadata": {},
   "outputs": [],
   "source": [
    "# Save Full_history_New file to csv\n",
    "Full_history_New.to_csv('Full_history_New.csv')"
   ]
  }
 ],
 "metadata": {
  "kernelspec": {
   "display_name": "Python 3",
   "language": "python",
   "name": "python3"
  },
  "language_info": {
   "codemirror_mode": {
    "name": "ipython",
    "version": 3
   },
   "file_extension": ".py",
   "mimetype": "text/x-python",
   "name": "python",
   "nbconvert_exporter": "python",
   "pygments_lexer": "ipython3",
   "version": "3.8.3"
  }
 },
 "nbformat": 4,
 "nbformat_minor": 4
}
